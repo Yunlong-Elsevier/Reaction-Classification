{
 "cells": [
  {
   "cell_type": "code",
   "execution_count": 136,
   "id": "936211cc-5354-42ce-9337-a7929c8150d6",
   "metadata": {},
   "outputs": [],
   "source": [
    "# Imports\n",
    "import os\n",
    "import numpy as np\n",
    "import pandas as pd\n",
    "from collections import Counter\n",
    "import matplotlib.pyplot as plt\n",
    "import pickle\n",
    "from sklearn.metrics import classification_report, accuracy_score"
   ]
  },
  {
   "cell_type": "markdown",
   "id": "826533e8-2ee6-41f6-8f27-1e2e5068266d",
   "metadata": {
    "tags": []
   },
   "source": [
    "### Test for the total embedding time"
   ]
  },
  {
   "cell_type": "code",
   "execution_count": 137,
   "id": "4fbc7c44-2c88-4d3b-a83c-c08e3a89370f",
   "metadata": {},
   "outputs": [
    {
     "data": {
      "text/plain": [
       "'CC(=O)OC(\\\\C=C\\\\c1ccccc1)C#N>>CC(=O)OC(CC(=O)c1ccccc1)C#N'"
      ]
     },
     "execution_count": 137,
     "metadata": {},
     "output_type": "execute_result"
    }
   ],
   "source": [
    "train = pd.read_csv('data/train.csv', delimiter=',')\n",
    "train['reaction'][1]"
   ]
  },
  {
   "cell_type": "code",
   "execution_count": 151,
   "id": "3a350f0c-6ef9-4550-b4ea-10702821108d",
   "metadata": {},
   "outputs": [
    {
     "data": {
      "text/html": [
       "<div>\n",
       "<style scoped>\n",
       "    .dataframe tbody tr th:only-of-type {\n",
       "        vertical-align: middle;\n",
       "    }\n",
       "\n",
       "    .dataframe tbody tr th {\n",
       "        vertical-align: top;\n",
       "    }\n",
       "\n",
       "    .dataframe thead th {\n",
       "        text-align: right;\n",
       "    }\n",
       "</style>\n",
       "<table border=\"1\" class=\"dataframe\">\n",
       "  <thead>\n",
       "    <tr style=\"text-align: right;\">\n",
       "      <th></th>\n",
       "      <th>CLASS-ID</th>\n",
       "      <th>RX.ID</th>\n",
       "      <th>reaction</th>\n",
       "      <th>product_summary</th>\n",
       "    </tr>\n",
       "  </thead>\n",
       "  <tbody>\n",
       "    <tr>\n",
       "      <th>0</th>\n",
       "      <td>272</td>\n",
       "      <td>20308219</td>\n",
       "      <td>CC1(C)O[C@H]2[C@H]3C[C@@H]([C@H]2O1)C(=O)C3&gt;&gt;C...</td>\n",
       "      <td>CC1(C)O[C@H]2[C@H]3C[C@H](NC(=O)C3)[C@H]2O1</td>\n",
       "    </tr>\n",
       "    <tr>\n",
       "      <th>1</th>\n",
       "      <td>84</td>\n",
       "      <td>20308266</td>\n",
       "      <td>CC(=O)OC(\\C=C\\c1ccccc1)C#N&gt;&gt;CC(=O)OC(CC(=O)c1c...</td>\n",
       "      <td>CC(=O)OC(CC(=O)c1ccccc1)C#N</td>\n",
       "    </tr>\n",
       "    <tr>\n",
       "      <th>2</th>\n",
       "      <td>68</td>\n",
       "      <td>20308388</td>\n",
       "      <td>CC1(C)O[C@H]2[C@H](OC(=O)[C@H]2O1)[C@@H](O)CO&gt;...</td>\n",
       "      <td>C[C@H](O)[C@H]1OC(=O)[C@H]2OC(C)(C)O[C@@H]12</td>\n",
       "    </tr>\n",
       "    <tr>\n",
       "      <th>3</th>\n",
       "      <td>1872</td>\n",
       "      <td>20308549</td>\n",
       "      <td>O=Cc1ccccc1&gt;&gt;CC(C)NC(=S)c1ccccc1</td>\n",
       "      <td>CC(C)NC(=S)c1ccccc1</td>\n",
       "    </tr>\n",
       "    <tr>\n",
       "      <th>4</th>\n",
       "      <td>636</td>\n",
       "      <td>20308813</td>\n",
       "      <td>ClC(=O)c1ccccc1&gt;&gt;CCOC(=O)C(F)(F)[C@H](OC(=O)c1...</td>\n",
       "      <td>CCOC(=O)C(F)(F)[C@H](OC(=O)c1ccccc1)[C@H](O)CO</td>\n",
       "    </tr>\n",
       "    <tr>\n",
       "      <th>...</th>\n",
       "      <td>...</td>\n",
       "      <td>...</td>\n",
       "      <td>...</td>\n",
       "      <td>...</td>\n",
       "    </tr>\n",
       "    <tr>\n",
       "      <th>2405601</th>\n",
       "      <td>72</td>\n",
       "      <td>20308054</td>\n",
       "      <td>CCc1ccc2c3ccc4c(OC(C)=O)ccc([C@@H]5O[C@H](COC(...</td>\n",
       "      <td>CC(=O)OC[C@H]1O[C@H]([C@H](OC(C)=O)[C@@H]1OC(C...</td>\n",
       "    </tr>\n",
       "    <tr>\n",
       "      <th>2405602</th>\n",
       "      <td>42</td>\n",
       "      <td>20308093</td>\n",
       "      <td>CC1(C)C2CC1C(=C)CC2&gt;&gt;C[C@H]1CC[C@H]2C[C@@H]1C2...</td>\n",
       "      <td>C[C@H]1CC[C@H]2C[C@@H]1C2(C)C</td>\n",
       "    </tr>\n",
       "    <tr>\n",
       "      <th>2405603</th>\n",
       "      <td>42</td>\n",
       "      <td>20308094</td>\n",
       "      <td>CC1(C)C2CC1C(=C)CC2&gt;&gt;C[C@@H]1CC[C@H]2C[C@@H]1C...</td>\n",
       "      <td>C[C@@H]1CC[C@H]2C[C@@H]1C2(C)C</td>\n",
       "    </tr>\n",
       "    <tr>\n",
       "      <th>2405604</th>\n",
       "      <td>256</td>\n",
       "      <td>20308164</td>\n",
       "      <td>COC(=O)CCC[C@H](O)C=CBr&gt;&gt;COC(=O)CCC[C@H](O)C#C</td>\n",
       "      <td>COC(=O)CCC[C@H](O)C#C</td>\n",
       "    </tr>\n",
       "    <tr>\n",
       "      <th>2405605</th>\n",
       "      <td>670</td>\n",
       "      <td>20308180</td>\n",
       "      <td>C[C@@H](OC(C)=O)\\C=C\\[C@H](C)OC(C)=O&gt;&gt;COC(=O)O...</td>\n",
       "      <td>COC(=O)O[C@@H](C)\\C=C\\[C@@H](C)OC(C)=O</td>\n",
       "    </tr>\n",
       "  </tbody>\n",
       "</table>\n",
       "<p>2405606 rows × 4 columns</p>\n",
       "</div>"
      ],
      "text/plain": [
       "         CLASS-ID     RX.ID  \\\n",
       "0             272  20308219   \n",
       "1              84  20308266   \n",
       "2              68  20308388   \n",
       "3            1872  20308549   \n",
       "4             636  20308813   \n",
       "...           ...       ...   \n",
       "2405601        72  20308054   \n",
       "2405602        42  20308093   \n",
       "2405603        42  20308094   \n",
       "2405604       256  20308164   \n",
       "2405605       670  20308180   \n",
       "\n",
       "                                                  reaction  \\\n",
       "0        CC1(C)O[C@H]2[C@H]3C[C@@H]([C@H]2O1)C(=O)C3>>C...   \n",
       "1        CC(=O)OC(\\C=C\\c1ccccc1)C#N>>CC(=O)OC(CC(=O)c1c...   \n",
       "2        CC1(C)O[C@H]2[C@H](OC(=O)[C@H]2O1)[C@@H](O)CO>...   \n",
       "3                         O=Cc1ccccc1>>CC(C)NC(=S)c1ccccc1   \n",
       "4        ClC(=O)c1ccccc1>>CCOC(=O)C(F)(F)[C@H](OC(=O)c1...   \n",
       "...                                                    ...   \n",
       "2405601  CCc1ccc2c3ccc4c(OC(C)=O)ccc([C@@H]5O[C@H](COC(...   \n",
       "2405602  CC1(C)C2CC1C(=C)CC2>>C[C@H]1CC[C@H]2C[C@@H]1C2...   \n",
       "2405603  CC1(C)C2CC1C(=C)CC2>>C[C@@H]1CC[C@H]2C[C@@H]1C...   \n",
       "2405604     COC(=O)CCC[C@H](O)C=CBr>>COC(=O)CCC[C@H](O)C#C   \n",
       "2405605  C[C@@H](OC(C)=O)\\C=C\\[C@H](C)OC(C)=O>>COC(=O)O...   \n",
       "\n",
       "                                           product_summary  \n",
       "0              CC1(C)O[C@H]2[C@H]3C[C@H](NC(=O)C3)[C@H]2O1  \n",
       "1                              CC(=O)OC(CC(=O)c1ccccc1)C#N  \n",
       "2             C[C@H](O)[C@H]1OC(=O)[C@H]2OC(C)(C)O[C@@H]12  \n",
       "3                                      CC(C)NC(=S)c1ccccc1  \n",
       "4           CCOC(=O)C(F)(F)[C@H](OC(=O)c1ccccc1)[C@H](O)CO  \n",
       "...                                                    ...  \n",
       "2405601  CC(=O)OC[C@H]1O[C@H]([C@H](OC(C)=O)[C@@H]1OC(C...  \n",
       "2405602                      C[C@H]1CC[C@H]2C[C@@H]1C2(C)C  \n",
       "2405603                     C[C@@H]1CC[C@H]2C[C@@H]1C2(C)C  \n",
       "2405604                              COC(=O)CCC[C@H](O)C#C  \n",
       "2405605             COC(=O)O[C@@H](C)\\C=C\\[C@@H](C)OC(C)=O  \n",
       "\n",
       "[2405606 rows x 4 columns]"
      ]
     },
     "execution_count": 151,
     "metadata": {},
     "output_type": "execute_result"
    }
   ],
   "source": [
    "train"
   ]
  },
  {
   "cell_type": "code",
   "execution_count": null,
   "id": "4b9bd1eb-5e97-4c51-84d4-d88c4c976891",
   "metadata": {},
   "outputs": [],
   "source": [
    "#pip install drfp"
   ]
  },
  {
   "cell_type": "code",
   "execution_count": null,
   "id": "d51222b2-1257-4a38-afe7-c662cab61abb",
   "metadata": {},
   "outputs": [],
   "source": [
    "from drfp import DrfpEncoder"
   ]
  },
  {
   "cell_type": "code",
   "execution_count": null,
   "id": "cfb654a9-7513-4ffe-845e-c088af89a9cc",
   "metadata": {},
   "outputs": [],
   "source": [
    "import time\n",
    "\n",
    "sample = train.sample(1000)\n",
    "\n",
    "start_time = time.time()\n",
    "DrfpEncoder.encode(sample['reaction'], n_folded_length=128)\n",
    "end_time = time.time()\n",
    "\n",
    "average_time_per_sample = (end_time - start_time) / 1000"
   ]
  },
  {
   "cell_type": "code",
   "execution_count": null,
   "id": "b0716ce0-ba7c-4966-a988-91a88f4ac726",
   "metadata": {},
   "outputs": [],
   "source": [
    "total_items = len(train['reaction'])\n",
    "estimated_total_time = total_items * average_time_per_sample\n",
    "\n",
    "print(f\"Total time for encoding: {estimated_total_time:.2f} seconds\")"
   ]
  },
  {
   "cell_type": "markdown",
   "id": "30ebbef8-dc7b-46cc-afcd-fba04de0c883",
   "metadata": {
    "jp-MarkdownHeadingCollapsed": true,
    "tags": []
   },
   "source": [
    "### Add parallel computing to less the time"
   ]
  },
  {
   "cell_type": "code",
   "execution_count": null,
   "id": "663f1e49-20a4-49ba-89c9-5ed2144c5fb9",
   "metadata": {},
   "outputs": [],
   "source": [
    "import os\n",
    "\n",
    "print(f\"Number of CPU cores: {os.cpu_count()}\")"
   ]
  },
  {
   "cell_type": "code",
   "execution_count": null,
   "id": "5fe01e20-964a-464d-8a8b-75dd20dc8821",
   "metadata": {},
   "outputs": [],
   "source": [
    "from joblib import Parallel, delayed\n",
    "\n",
    "def encode_reaction(reaction):\n",
    "    return DrfpEncoder.encode(reaction, n_folded_length=128)\n",
    "\n",
    "num_cores = 16"
   ]
  },
  {
   "cell_type": "code",
   "execution_count": null,
   "id": "7a15bf75-aa11-4429-b25a-5977a745a191",
   "metadata": {},
   "outputs": [],
   "source": [
    "sample = train.sample(1000)\n",
    "# Time the processing of this sample\n",
    "start_time = time.time()\n",
    "sample_results = Parallel(n_jobs=num_cores)(delayed(encode_reaction)(i) for i in sample['reaction'])\n",
    "sample_time = time.time() - start_time\n",
    "\n",
    "# Estimate the time for the entire dataset\n",
    "total_time_estimation = (sample_time / len(sample)) * len(train['reaction'])\n",
    "\n",
    "print(f\"Estimated time for full dataset: {total_time_estimation:.2f} seconds\")"
   ]
  },
  {
   "cell_type": "markdown",
   "id": "09a9ff1d-5ca9-4f14-86a1-4ffe61500736",
   "metadata": {
    "tags": []
   },
   "source": [
    "### Train data DRFP"
   ]
  },
  {
   "cell_type": "code",
   "execution_count": null,
   "id": "1924cd41-a5b8-4880-a5aa-a5caf090c091",
   "metadata": {},
   "outputs": [],
   "source": [
    "results = Parallel(n_jobs=num_cores)(delayed(encode_reaction)(i) for i in train['reaction'])\n",
    "\n",
    "train['drfp'] = results"
   ]
  },
  {
   "cell_type": "code",
   "execution_count": null,
   "id": "86cbcad5-22dc-4d2e-929b-b72d422f4924",
   "metadata": {},
   "outputs": [],
   "source": [
    "X_train = np.array(train['drfp'].tolist()).astype('float32')\n",
    "np.save('data/DRFP/X_train_DRFP.npy', X_train)"
   ]
  },
  {
   "cell_type": "code",
   "execution_count": null,
   "id": "d90fb4f3-c40a-4090-a547-b875b9ce5015",
   "metadata": {},
   "outputs": [],
   "source": [
    "train.to_csv('data/DRFP/train_DRFP.csv', index=False)"
   ]
  },
  {
   "cell_type": "code",
   "execution_count": null,
   "id": "2b2a8760-4789-4f4e-a487-bcc571f96fa0",
   "metadata": {},
   "outputs": [],
   "source": [
    "#This is for dealing with some datatype/format issues\n",
    "#import ast\n",
    "\n",
    "#def convert_string_to_array(array_string):\n",
    "   # array_string = array_string.replace(\"array(\", \"\").replace(\", dtype=uint8)\", \"\")\n",
    "   # return np.array(ast.literal_eval(array_string)).astype('float32')\n",
    "\n",
    "# Assuming 'train' is your DataFrame\n",
    "#train['drfp'] = train['drfp'].apply(convert_string_to_array)"
   ]
  },
  {
   "cell_type": "markdown",
   "id": "a55ed0c8-1b4d-4e7c-bd21-689b6542d834",
   "metadata": {
    "jp-MarkdownHeadingCollapsed": true,
    "tags": []
   },
   "source": [
    "### Test data DRFP"
   ]
  },
  {
   "cell_type": "code",
   "execution_count": null,
   "id": "b94376a5-ec2d-4074-96b7-fb20b798f402",
   "metadata": {},
   "outputs": [],
   "source": [
    "test = pd.read_csv('data/test.csv', delimiter=',')\n",
    "test"
   ]
  },
  {
   "cell_type": "code",
   "execution_count": null,
   "id": "ce20fdfe-fc9b-464c-bf57-dcba907dad12",
   "metadata": {},
   "outputs": [],
   "source": [
    "results_test = Parallel(n_jobs=num_cores)(delayed(encode_reaction)(i) for i in test['reaction'])\n",
    "test['drfp'] = results_test"
   ]
  },
  {
   "cell_type": "code",
   "execution_count": null,
   "id": "c7f95c6a-bdeb-40b3-b1b3-fd7360eaf353",
   "metadata": {},
   "outputs": [],
   "source": [
    "test.to_csv('data/DRFP/test_DRFP.csv', index=False)"
   ]
  },
  {
   "cell_type": "code",
   "execution_count": null,
   "id": "03cc9b32-26d3-4c66-a949-4e5da9f03293",
   "metadata": {},
   "outputs": [],
   "source": [
    "X_test = np.array(test['drfp'].tolist()).astype('float32')\n",
    "np.save('data/DRFP/X_test_DRFP.npy', X_test)"
   ]
  },
  {
   "cell_type": "markdown",
   "id": "12b94689-cc7c-4f5c-9522-df5914e0adc1",
   "metadata": {
    "jp-MarkdownHeadingCollapsed": true,
    "tags": []
   },
   "source": [
    "### Val data DRFP"
   ]
  },
  {
   "cell_type": "code",
   "execution_count": null,
   "id": "25444e09-277b-4f04-8a03-ed74258d15b6",
   "metadata": {},
   "outputs": [],
   "source": [
    "val = pd.read_csv('data/val.csv', delimiter=',')"
   ]
  },
  {
   "cell_type": "code",
   "execution_count": null,
   "id": "241a72a5-e52e-4613-a0ab-be00b30b0a9a",
   "metadata": {},
   "outputs": [],
   "source": [
    "results_val = Parallel(n_jobs=num_cores)(delayed(encode_reaction)(i) for i in val['reaction'])\n",
    "\n",
    "val['drfp'] = results_val"
   ]
  },
  {
   "cell_type": "code",
   "execution_count": null,
   "id": "79bc2f5e-78c6-4810-959f-470317c30f76",
   "metadata": {},
   "outputs": [],
   "source": [
    "val.to_csv('data/DRFP/val_DRFP.csv', index=False)"
   ]
  },
  {
   "cell_type": "code",
   "execution_count": null,
   "id": "e2066bd4-0a73-40c5-9794-e9b8bc9c691a",
   "metadata": {},
   "outputs": [],
   "source": [
    "X_val = np.array(val['drfp'].tolist()).astype('float32')\n",
    "np.save('data/DRFP/X_val_DRFP.npy', X_val)"
   ]
  },
  {
   "cell_type": "markdown",
   "id": "fbfe923a-fa75-4f93-bb6a-383e0dd6689b",
   "metadata": {
    "jp-MarkdownHeadingCollapsed": true,
    "tags": []
   },
   "source": [
    "### Data load"
   ]
  },
  {
   "cell_type": "code",
   "execution_count": 73,
   "id": "bce30755-7d1c-45ce-ac4c-9ee83d9f416a",
   "metadata": {},
   "outputs": [],
   "source": [
    "X_train = np.load('data/DRFP/X_train_DRFP.npy')\n",
    "X_test = np.load('data/DRFP/X_test_DRFP.npy')\n",
    "X_val = np.load('data/DRFP/X_val_DRFP.npy')"
   ]
  },
  {
   "cell_type": "code",
   "execution_count": 74,
   "id": "20152832-0444-4533-9c62-65e5d2e7b0f5",
   "metadata": {},
   "outputs": [],
   "source": [
    "train = pd.read_csv('data/train.csv', delimiter=',')\n",
    "test = pd.read_csv('data/test.csv', delimiter=',')\n",
    "val = pd.read_csv('data/val.csv', delimiter=',')"
   ]
  },
  {
   "cell_type": "code",
   "execution_count": 75,
   "id": "9062bb41-9359-4eac-96b6-5d7de5ce4b42",
   "metadata": {},
   "outputs": [],
   "source": [
    "y_train = train['CLASS-ID'].values\n",
    "y_test = test['CLASS-ID'].values\n",
    "y_val = val['CLASS-ID'].values"
   ]
  },
  {
   "cell_type": "code",
   "execution_count": 76,
   "id": "36bfb6e0-9cf9-4176-8a82-390119ce8fdb",
   "metadata": {},
   "outputs": [],
   "source": [
    "X_train = np.squeeze(X_train)\n",
    "X_test = np.squeeze(X_test)\n",
    "X_val = np.squeeze(X_val)"
   ]
  },
  {
   "cell_type": "markdown",
   "id": "646341b4-53ce-461a-8e61-08f057bcf849",
   "metadata": {
    "tags": []
   },
   "source": [
    "### Test on val set (1NN)"
   ]
  },
  {
   "cell_type": "code",
   "execution_count": 78,
   "id": "d47b2ec4-4a95-49b5-8bda-6091dacb7b4d",
   "metadata": {},
   "outputs": [],
   "source": [
    "import faiss\n",
    "index = faiss.IndexFlatL2(X_train.shape[1])\n",
    "index.add(X_train)"
   ]
  },
  {
   "cell_type": "code",
   "execution_count": null,
   "id": "bb7ae5ab-1292-4438-bfe8-4392579bd518",
   "metadata": {},
   "outputs": [],
   "source": [
    "k=1\n",
    "D_val_1nn, I_val_1nn = index.search(X_val, k)  "
   ]
  },
  {
   "cell_type": "code",
   "execution_count": null,
   "id": "b0aab6af-919b-4211-aaa2-88899009ab4d",
   "metadata": {},
   "outputs": [],
   "source": [
    "y_pred_val_1nn = np.array(y_train[I_val_1nn])"
   ]
  },
  {
   "cell_type": "code",
   "execution_count": null,
   "id": "459b1482-821e-4937-b7e7-23dc5f59f2f4",
   "metadata": {},
   "outputs": [],
   "source": [
    "np.save('data/DRFP/y_pred_val_1nn', y_pred_val_1nn)"
   ]
  },
  {
   "cell_type": "code",
   "execution_count": null,
   "id": "c972f623-56da-4b27-828a-d62a5063adee",
   "metadata": {},
   "outputs": [],
   "source": [
    "report_val1nn = classification_report(y_val, y_pred_val_1nn, output_dict=True)\n",
    "report_df = pd.DataFrame(report_val1nn).transpose()\n",
    "df_val1nn = report_df[:-3].reset_index().rename(columns={'index': 'CLASS-ID'})\n",
    "df_val1nn['val_support'] = df_val1nn['support'].astype(int)\n",
    "df_val1nn['CLASS-ID'] = df_val1nn['CLASS-ID'].astype(int)"
   ]
  },
  {
   "cell_type": "markdown",
   "id": "fd9b3e3a-e4c7-4860-973b-bc240df5536f",
   "metadata": {},
   "source": [
    "#### Merge with train_support "
   ]
  },
  {
   "cell_type": "code",
   "execution_count": null,
   "id": "97ddb0e8-ef11-4b37-8ae6-60f54327e2d3",
   "metadata": {},
   "outputs": [],
   "source": [
    "train_class_support = train['CLASS-ID'].value_counts().sort_index()\n",
    "train_support_df = train_class_support.reset_index()\n",
    "train_support_df.columns = ['CLASS-ID', 'train_support']\n",
    "train_support_df['CLASS-ID'] = train_support_df['CLASS-ID'].astype(int)"
   ]
  },
  {
   "cell_type": "code",
   "execution_count": null,
   "id": "a4fb1f7c-b5bb-4cdc-8a69-9041a6f6e008",
   "metadata": {},
   "outputs": [],
   "source": [
    "# Merge with df_val1nn on 'CLASS-ID'\n",
    "df_val1nn_report = pd.merge(df_val1nn, train_support_df, on='CLASS-ID', how='left')\n",
    "# Sort based on the number of train_support\n",
    "df_val1nn_report = df_val1nn_report.sort_values(by='train_support', ascending=False)\n",
    "df_val1nn_report = df_val1nn_report.drop(columns=['support'])"
   ]
  },
  {
   "cell_type": "markdown",
   "id": "5550f593-e454-4447-a584-8309233f35f9",
   "metadata": {},
   "source": [
    "#### Merge with class name"
   ]
  },
  {
   "cell_type": "code",
   "execution_count": 154,
   "id": "b582886f-2524-4bed-9195-f10edb8132f4",
   "metadata": {},
   "outputs": [],
   "source": [
    "df_class = pd.read_csv('data/className.tsv', sep='\\t', encoding='ISO-8859-1')"
   ]
  },
  {
   "cell_type": "code",
   "execution_count": null,
   "id": "ad6a7857-7905-4d6e-9b78-452832b090b3",
   "metadata": {},
   "outputs": [],
   "source": [
    "# Convert multi Class-ID into one\n",
    "def clean_class_id(row):\n",
    "    # Split the string by comma and convert to a list\n",
    "    class_ids = str(row['CLASS-ID']).split(',')\n",
    "    # Return the first element from the list, ensuring it's an integer\n",
    "    return int(class_ids[0].strip())\n",
    "\n",
    "# Apply the function to the 'CLASS-ID' column\n",
    "df_class['CLASS-ID'] = df_class.apply(clean_class_id, axis=1)\n",
    "df_class['CLASS-ID'] = df_class['CLASS-ID'].astype(int)"
   ]
  },
  {
   "cell_type": "code",
   "execution_count": null,
   "id": "1ae2b09b-4eb4-403f-849e-5f1b200d814f",
   "metadata": {},
   "outputs": [],
   "source": [
    "df_val1nn = pd.merge(df_val1nn_report, df_class[['CLASS-ID', 'TRANSFORM_NAME']], on='CLASS-ID', how='left')"
   ]
  },
  {
   "cell_type": "code",
   "execution_count": null,
   "id": "4a68c242-4034-4cb6-97c0-7faf345976ee",
   "metadata": {},
   "outputs": [],
   "source": [
    "df_val1nn.to_csv('data/DRFP/df_val1nn.csv', index=False)"
   ]
  },
  {
   "cell_type": "code",
   "execution_count": 77,
   "id": "1b1e727a-ca70-4ed0-bbe8-c28b8352c26b",
   "metadata": {},
   "outputs": [
    {
     "data": {
      "text/html": [
       "<div>\n",
       "<style scoped>\n",
       "    .dataframe tbody tr th:only-of-type {\n",
       "        vertical-align: middle;\n",
       "    }\n",
       "\n",
       "    .dataframe tbody tr th {\n",
       "        vertical-align: top;\n",
       "    }\n",
       "\n",
       "    .dataframe thead th {\n",
       "        text-align: right;\n",
       "    }\n",
       "</style>\n",
       "<table border=\"1\" class=\"dataframe\">\n",
       "  <thead>\n",
       "    <tr style=\"text-align: right;\">\n",
       "      <th></th>\n",
       "      <th>CLASS-ID</th>\n",
       "      <th>precision</th>\n",
       "      <th>recall</th>\n",
       "      <th>f1-score</th>\n",
       "      <th>val_support</th>\n",
       "      <th>train_support</th>\n",
       "      <th>TRANSFORM_NAME</th>\n",
       "    </tr>\n",
       "  </thead>\n",
       "  <tbody>\n",
       "    <tr>\n",
       "      <th>0</th>\n",
       "      <td>1085</td>\n",
       "      <td>0.992473</td>\n",
       "      <td>0.991515</td>\n",
       "      <td>0.991994</td>\n",
       "      <td>24867</td>\n",
       "      <td>185024</td>\n",
       "      <td>Suzuki coupling, Suzuki-Miyaura Cross-Coupling</td>\n",
       "    </tr>\n",
       "    <tr>\n",
       "      <th>1</th>\n",
       "      <td>432</td>\n",
       "      <td>0.959968</td>\n",
       "      <td>0.968853</td>\n",
       "      <td>0.964390</td>\n",
       "      <td>21286</td>\n",
       "      <td>164914</td>\n",
       "      <td>N-alkylation of alkylamines</td>\n",
       "    </tr>\n",
       "    <tr>\n",
       "      <th>2</th>\n",
       "      <td>1016</td>\n",
       "      <td>0.927058</td>\n",
       "      <td>0.956641</td>\n",
       "      <td>0.941617</td>\n",
       "      <td>15637</td>\n",
       "      <td>113635</td>\n",
       "      <td>hydrolysis of carboxylic esters</td>\n",
       "    </tr>\n",
       "    <tr>\n",
       "      <th>3</th>\n",
       "      <td>60</td>\n",
       "      <td>0.974137</td>\n",
       "      <td>0.977800</td>\n",
       "      <td>0.975965</td>\n",
       "      <td>11171</td>\n",
       "      <td>85921</td>\n",
       "      <td>reduction of C-NO2 to C-NH2</td>\n",
       "    </tr>\n",
       "    <tr>\n",
       "      <th>4</th>\n",
       "      <td>433</td>\n",
       "      <td>0.969347</td>\n",
       "      <td>0.975844</td>\n",
       "      <td>0.972585</td>\n",
       "      <td>7907</td>\n",
       "      <td>60554</td>\n",
       "      <td>N-alkylation of benzenoid amines, anilines</td>\n",
       "    </tr>\n",
       "    <tr>\n",
       "      <th>...</th>\n",
       "      <td>...</td>\n",
       "      <td>...</td>\n",
       "      <td>...</td>\n",
       "      <td>...</td>\n",
       "      <td>...</td>\n",
       "      <td>...</td>\n",
       "      <td>...</td>\n",
       "    </tr>\n",
       "    <tr>\n",
       "      <th>1294</th>\n",
       "      <td>1267</td>\n",
       "      <td>1.000000</td>\n",
       "      <td>1.000000</td>\n",
       "      <td>1.000000</td>\n",
       "      <td>1</td>\n",
       "      <td>8</td>\n",
       "      <td>Brackeen Imidazole Synthesis</td>\n",
       "    </tr>\n",
       "    <tr>\n",
       "      <th>1295</th>\n",
       "      <td>1800</td>\n",
       "      <td>1.000000</td>\n",
       "      <td>0.200000</td>\n",
       "      <td>0.333333</td>\n",
       "      <td>5</td>\n",
       "      <td>8</td>\n",
       "      <td>Shestakov Hydrazino Acid Synthesis</td>\n",
       "    </tr>\n",
       "    <tr>\n",
       "      <th>1296</th>\n",
       "      <td>500</td>\n",
       "      <td>1.000000</td>\n",
       "      <td>0.500000</td>\n",
       "      <td>0.666667</td>\n",
       "      <td>2</td>\n",
       "      <td>7</td>\n",
       "      <td>O-propargylation of N-hydroxy amides, includin...</td>\n",
       "    </tr>\n",
       "    <tr>\n",
       "      <th>1297</th>\n",
       "      <td>1622</td>\n",
       "      <td>1.000000</td>\n",
       "      <td>1.000000</td>\n",
       "      <td>1.000000</td>\n",
       "      <td>3</td>\n",
       "      <td>7</td>\n",
       "      <td>ListMacMillan Hydrogenation</td>\n",
       "    </tr>\n",
       "    <tr>\n",
       "      <th>1298</th>\n",
       "      <td>1404</td>\n",
       "      <td>0.500000</td>\n",
       "      <td>1.000000</td>\n",
       "      <td>0.666667</td>\n",
       "      <td>1</td>\n",
       "      <td>7</td>\n",
       "      <td>Frankland-Duppa Reaction</td>\n",
       "    </tr>\n",
       "  </tbody>\n",
       "</table>\n",
       "<p>1299 rows × 7 columns</p>\n",
       "</div>"
      ],
      "text/plain": [
       "      CLASS-ID  precision    recall  f1-score  val_support  train_support  \\\n",
       "0         1085   0.992473  0.991515  0.991994        24867         185024   \n",
       "1          432   0.959968  0.968853  0.964390        21286         164914   \n",
       "2         1016   0.927058  0.956641  0.941617        15637         113635   \n",
       "3           60   0.974137  0.977800  0.975965        11171          85921   \n",
       "4          433   0.969347  0.975844  0.972585         7907          60554   \n",
       "...        ...        ...       ...       ...          ...            ...   \n",
       "1294      1267   1.000000  1.000000  1.000000            1              8   \n",
       "1295      1800   1.000000  0.200000  0.333333            5              8   \n",
       "1296       500   1.000000  0.500000  0.666667            2              7   \n",
       "1297      1622   1.000000  1.000000  1.000000            3              7   \n",
       "1298      1404   0.500000  1.000000  0.666667            1              7   \n",
       "\n",
       "                                         TRANSFORM_NAME  \n",
       "0        Suzuki coupling, Suzuki-Miyaura Cross-Coupling  \n",
       "1                           N-alkylation of alkylamines  \n",
       "2                       hydrolysis of carboxylic esters  \n",
       "3                           reduction of C-NO2 to C-NH2  \n",
       "4            N-alkylation of benzenoid amines, anilines  \n",
       "...                                                 ...  \n",
       "1294                       Brackeen Imidazole Synthesis  \n",
       "1295                 Shestakov Hydrazino Acid Synthesis  \n",
       "1296  O-propargylation of N-hydroxy amides, includin...  \n",
       "1297                       ListMacMillan Hydrogenation  \n",
       "1298                           Frankland-Duppa Reaction  \n",
       "\n",
       "[1299 rows x 7 columns]"
      ]
     },
     "execution_count": 77,
     "metadata": {},
     "output_type": "execute_result"
    }
   ],
   "source": [
    "df_val1nn = pd.read_csv('data/DRFP/df_val1nn.csv', delimiter=',')\n",
    "df_val1nn"
   ]
  },
  {
   "cell_type": "markdown",
   "id": "32e51e18-d1eb-4e65-a6a2-e00120b304b2",
   "metadata": {},
   "source": [
    "#### Evaluation on Val1nn"
   ]
  },
  {
   "cell_type": "code",
   "execution_count": 79,
   "id": "7e019808-5b89-4b6b-8d3f-8d8af280657d",
   "metadata": {},
   "outputs": [],
   "source": [
    "y_pred_val_1nn = np.load('data/DRFP/y_pred_val_1nn.npy')"
   ]
  },
  {
   "cell_type": "code",
   "execution_count": 80,
   "id": "38fd46b5-3eae-4a63-974a-cf7124014f3e",
   "metadata": {},
   "outputs": [
    {
     "name": "stdout",
     "output_type": "stream",
     "text": [
      "Overall Accuracy: 0.9263212563522666\n"
     ]
    }
   ],
   "source": [
    "print(f'Overall Accuracy: {accuracy_score(y_val, y_pred_val_1nn)}')"
   ]
  },
  {
   "cell_type": "code",
   "execution_count": 100,
   "id": "36be7108-45f3-46dd-a576-b3cb0b0ff423",
   "metadata": {},
   "outputs": [],
   "source": [
    "# Calculate macro average for precision, recall, and f1-score\n",
    "macro_precision = df_val1nn['precision'].mean()\n",
    "macro_recall = df_val1nn['recall'].mean()\n",
    "macro_f1 = df_val1nn['f1-score'].mean()\n",
    "\n",
    "# Calculate weighted average for precision, recall, and f1-score\n",
    "weighted_precision = (df_val1nn['precision'] * df_val1nn['val_support']).sum() / df_val1nn['val_support'].sum()\n",
    "weighted_recall = (df_val1nn['recall'] * df_val1nn['val_support']).sum() / df_val1nn['val_support'].sum()\n",
    "weighted_f1 = (df_val1nn['f1-score'] * df_val1nn['val_support']).sum() / df_val1nn['val_support'].sum()"
   ]
  },
  {
   "cell_type": "markdown",
   "id": "d7a49cb6-6bbf-49c1-a2b5-14683d17b6cb",
   "metadata": {
    "tags": []
   },
   "source": [
    "### Test on val set (5NN)"
   ]
  },
  {
   "cell_type": "code",
   "execution_count": null,
   "id": "cabf9653-53bf-4f91-9b6c-6a11357203b1",
   "metadata": {},
   "outputs": [],
   "source": [
    "k=5\n",
    "D_val_5nn, I_val_5nn = index.search(X_val, k) "
   ]
  },
  {
   "cell_type": "code",
   "execution_count": null,
   "id": "1d269835-ba57-49cc-8cdc-1bb969a403c0",
   "metadata": {},
   "outputs": [],
   "source": [
    "y_pred_val_5nn = np.array([np.argmax(np.bincount(y_train[neighbors])) for neighbors in I_val_5nn])"
   ]
  },
  {
   "cell_type": "code",
   "execution_count": null,
   "id": "82cb3654-2e80-4a59-9554-d45aecfbc014",
   "metadata": {},
   "outputs": [],
   "source": [
    "np.save('data/DRFP/y_pred_val_5nn', y_pred_val_5nn)"
   ]
  },
  {
   "cell_type": "code",
   "execution_count": 103,
   "id": "4b23a622-8ac7-42a9-b76c-a872f7951aeb",
   "metadata": {},
   "outputs": [
    {
     "name": "stderr",
     "output_type": "stream",
     "text": [
      "/opt/conda/envs/reaction-workbench-env/lib/python3.8/site-packages/sklearn/metrics/_classification.py:1221: UndefinedMetricWarning: Precision and F-score are ill-defined and being set to 0.0 in labels with no predicted samples. Use `zero_division` parameter to control this behavior.\n",
      "  _warn_prf(average, modifier, msg_start, len(result))\n"
     ]
    }
   ],
   "source": [
    "report_val5nn = classification_report(y_val, y_pred_val_5nn, output_dict=True)\n",
    "report_df = pd.DataFrame(report_val5nn).transpose()\n",
    "df_val5nn = report_df[:-3].reset_index().rename(columns={'index': 'CLASS-ID'})\n",
    "df_val5nn['val_support'] = df_val5nn['support'].astype(int)\n",
    "df_val5nn['CLASS-ID'] = df_val5nn['CLASS-ID'].astype(int)"
   ]
  },
  {
   "cell_type": "code",
   "execution_count": 104,
   "id": "6f5d25b1-b8d6-4ff8-9feb-d9453020201e",
   "metadata": {},
   "outputs": [],
   "source": [
    "# Merge with df_val1nn on 'CLASS-ID'\n",
    "df_val5nn_report = pd.merge(df_val5nn, train_support_df, on='CLASS-ID', how='left')\n",
    "# Sort based on the number of train_support\n",
    "df_val5nn_report = df_val5nn_report.sort_values(by='train_support', ascending=False)\n",
    "df_val5nn_report = df_val5nn_report.drop(columns=['support'])"
   ]
  },
  {
   "cell_type": "code",
   "execution_count": 105,
   "id": "cf0da33d-ef83-4aa1-837f-cb710c0a70a0",
   "metadata": {},
   "outputs": [],
   "source": [
    "df_val5nn = pd.merge(df_val5nn_report, df_class[['CLASS-ID', 'TRANSFORM_NAME']], on='CLASS-ID', how='left')"
   ]
  },
  {
   "cell_type": "code",
   "execution_count": 106,
   "id": "ff02c5dc-5939-42eb-8d35-064c5ed07795",
   "metadata": {},
   "outputs": [],
   "source": [
    "df_val5nn.to_csv('data/DRFP/df_val5nn.csv', index=False)"
   ]
  },
  {
   "cell_type": "code",
   "execution_count": 107,
   "id": "276b5e4b-b7c7-4267-b177-c70198237ef2",
   "metadata": {},
   "outputs": [
    {
     "data": {
      "text/html": [
       "<div>\n",
       "<style scoped>\n",
       "    .dataframe tbody tr th:only-of-type {\n",
       "        vertical-align: middle;\n",
       "    }\n",
       "\n",
       "    .dataframe tbody tr th {\n",
       "        vertical-align: top;\n",
       "    }\n",
       "\n",
       "    .dataframe thead th {\n",
       "        text-align: right;\n",
       "    }\n",
       "</style>\n",
       "<table border=\"1\" class=\"dataframe\">\n",
       "  <thead>\n",
       "    <tr style=\"text-align: right;\">\n",
       "      <th></th>\n",
       "      <th>CLASS-ID</th>\n",
       "      <th>precision</th>\n",
       "      <th>recall</th>\n",
       "      <th>f1-score</th>\n",
       "      <th>val_support</th>\n",
       "      <th>train_support</th>\n",
       "      <th>TRANSFORM_NAME</th>\n",
       "    </tr>\n",
       "  </thead>\n",
       "  <tbody>\n",
       "    <tr>\n",
       "      <th>0</th>\n",
       "      <td>1085</td>\n",
       "      <td>0.986178</td>\n",
       "      <td>0.987011</td>\n",
       "      <td>0.986594</td>\n",
       "      <td>24867</td>\n",
       "      <td>185024</td>\n",
       "      <td>Suzuki coupling, Suzuki-Miyaura Cross-Coupling</td>\n",
       "    </tr>\n",
       "    <tr>\n",
       "      <th>1</th>\n",
       "      <td>432</td>\n",
       "      <td>0.942204</td>\n",
       "      <td>0.958095</td>\n",
       "      <td>0.950083</td>\n",
       "      <td>21286</td>\n",
       "      <td>164914</td>\n",
       "      <td>N-alkylation of alkylamines</td>\n",
       "    </tr>\n",
       "    <tr>\n",
       "      <th>2</th>\n",
       "      <td>1016</td>\n",
       "      <td>0.887099</td>\n",
       "      <td>0.964763</td>\n",
       "      <td>0.924302</td>\n",
       "      <td>15637</td>\n",
       "      <td>113635</td>\n",
       "      <td>hydrolysis of carboxylic esters</td>\n",
       "    </tr>\n",
       "    <tr>\n",
       "      <th>3</th>\n",
       "      <td>60</td>\n",
       "      <td>0.947694</td>\n",
       "      <td>0.987736</td>\n",
       "      <td>0.967301</td>\n",
       "      <td>11171</td>\n",
       "      <td>85921</td>\n",
       "      <td>reduction of C-NO2 to C-NH2</td>\n",
       "    </tr>\n",
       "    <tr>\n",
       "      <th>4</th>\n",
       "      <td>433</td>\n",
       "      <td>0.953686</td>\n",
       "      <td>0.963577</td>\n",
       "      <td>0.958606</td>\n",
       "      <td>7907</td>\n",
       "      <td>60554</td>\n",
       "      <td>N-alkylation of benzenoid amines, anilines</td>\n",
       "    </tr>\n",
       "    <tr>\n",
       "      <th>...</th>\n",
       "      <td>...</td>\n",
       "      <td>...</td>\n",
       "      <td>...</td>\n",
       "      <td>...</td>\n",
       "      <td>...</td>\n",
       "      <td>...</td>\n",
       "      <td>...</td>\n",
       "    </tr>\n",
       "    <tr>\n",
       "      <th>1294</th>\n",
       "      <td>1267</td>\n",
       "      <td>1.000000</td>\n",
       "      <td>1.000000</td>\n",
       "      <td>1.000000</td>\n",
       "      <td>1</td>\n",
       "      <td>8</td>\n",
       "      <td>Brackeen Imidazole Synthesis</td>\n",
       "    </tr>\n",
       "    <tr>\n",
       "      <th>1295</th>\n",
       "      <td>1800</td>\n",
       "      <td>0.000000</td>\n",
       "      <td>0.000000</td>\n",
       "      <td>0.000000</td>\n",
       "      <td>5</td>\n",
       "      <td>8</td>\n",
       "      <td>Shestakov Hydrazino Acid Synthesis</td>\n",
       "    </tr>\n",
       "    <tr>\n",
       "      <th>1296</th>\n",
       "      <td>500</td>\n",
       "      <td>1.000000</td>\n",
       "      <td>0.500000</td>\n",
       "      <td>0.666667</td>\n",
       "      <td>2</td>\n",
       "      <td>7</td>\n",
       "      <td>O-propargylation of N-hydroxy amides, includin...</td>\n",
       "    </tr>\n",
       "    <tr>\n",
       "      <th>1297</th>\n",
       "      <td>1622</td>\n",
       "      <td>1.000000</td>\n",
       "      <td>1.000000</td>\n",
       "      <td>1.000000</td>\n",
       "      <td>3</td>\n",
       "      <td>7</td>\n",
       "      <td>ListMacMillan Hydrogenation</td>\n",
       "    </tr>\n",
       "    <tr>\n",
       "      <th>1298</th>\n",
       "      <td>1404</td>\n",
       "      <td>0.000000</td>\n",
       "      <td>0.000000</td>\n",
       "      <td>0.000000</td>\n",
       "      <td>1</td>\n",
       "      <td>7</td>\n",
       "      <td>Frankland-Duppa Reaction</td>\n",
       "    </tr>\n",
       "  </tbody>\n",
       "</table>\n",
       "<p>1299 rows × 7 columns</p>\n",
       "</div>"
      ],
      "text/plain": [
       "      CLASS-ID  precision    recall  f1-score  val_support  train_support  \\\n",
       "0         1085   0.986178  0.987011  0.986594        24867         185024   \n",
       "1          432   0.942204  0.958095  0.950083        21286         164914   \n",
       "2         1016   0.887099  0.964763  0.924302        15637         113635   \n",
       "3           60   0.947694  0.987736  0.967301        11171          85921   \n",
       "4          433   0.953686  0.963577  0.958606         7907          60554   \n",
       "...        ...        ...       ...       ...          ...            ...   \n",
       "1294      1267   1.000000  1.000000  1.000000            1              8   \n",
       "1295      1800   0.000000  0.000000  0.000000            5              8   \n",
       "1296       500   1.000000  0.500000  0.666667            2              7   \n",
       "1297      1622   1.000000  1.000000  1.000000            3              7   \n",
       "1298      1404   0.000000  0.000000  0.000000            1              7   \n",
       "\n",
       "                                         TRANSFORM_NAME  \n",
       "0        Suzuki coupling, Suzuki-Miyaura Cross-Coupling  \n",
       "1                           N-alkylation of alkylamines  \n",
       "2                       hydrolysis of carboxylic esters  \n",
       "3                           reduction of C-NO2 to C-NH2  \n",
       "4            N-alkylation of benzenoid amines, anilines  \n",
       "...                                                 ...  \n",
       "1294                       Brackeen Imidazole Synthesis  \n",
       "1295                 Shestakov Hydrazino Acid Synthesis  \n",
       "1296  O-propargylation of N-hydroxy amides, includin...  \n",
       "1297                       ListMacMillan Hydrogenation  \n",
       "1298                           Frankland-Duppa Reaction  \n",
       "\n",
       "[1299 rows x 7 columns]"
      ]
     },
     "execution_count": 107,
     "metadata": {},
     "output_type": "execute_result"
    }
   ],
   "source": [
    "df_val5nn = pd.read_csv('data/DRFP/df_val5nn.csv', delimiter=',')\n",
    "df_val5nn"
   ]
  },
  {
   "cell_type": "code",
   "execution_count": 108,
   "id": "9d25147c-c302-4a84-ab0c-8f53158c5157",
   "metadata": {},
   "outputs": [],
   "source": [
    "y_pred_val_5nn = np.load('data/DRFP/y_pred_val_5nn.npy')"
   ]
  },
  {
   "cell_type": "code",
   "execution_count": 110,
   "id": "a3ff0da1-d369-4951-8e6e-dc9599c767f3",
   "metadata": {},
   "outputs": [],
   "source": [
    "# Calculate macro average for precision, recall, and f1-score\n",
    "macro_precision1 = df_val5nn['precision'].mean()\n",
    "macro_recall1 = df_val5nn['recall'].mean()\n",
    "macro_f11 = df_val5nn['f1-score'].mean()\n",
    "\n",
    "# Calculate weighted average for precision, recall, and f1-score\n",
    "weighted_precision1 = (df_val5nn['precision'] * df_val5nn['val_support']).sum() / df_val5nn['val_support'].sum()\n",
    "weighted_recall1 = (df_val5nn['recall'] * df_val5nn['val_support']).sum() / df_val5nn['val_support'].sum()\n",
    "weighted_f11 = (df_val5nn['f1-score'] * df_val5nn['val_support']).sum() / df_val5nn['val_support'].sum()"
   ]
  },
  {
   "cell_type": "code",
   "execution_count": 127,
   "id": "cd669b7d-6bcf-4d73-ad79-8a78470449f3",
   "metadata": {},
   "outputs": [],
   "source": [
    "output = f\"\"\"\n",
    "Macro-averages\n",
    "1nn                   5nn\n",
    "- Precision: {macro_precision:.4f}   - Precision: {macro_precision1:.4f}\n",
    "- Recall: {macro_recall:.4f}      - Recall: {macro_recall1:.4f}\n",
    "- F1-score: {macro_f11:.4f}    - F1-score: {macro_f11:.4f}\n",
    "----------------------------------------------------------------------------\n",
    "Weighted-averages\n",
    "1nn                   5nn\n",
    "- Precision: {weighted_precision:.4f}   - Precision: {weighted_precision1:.4f}\n",
    "- Recall: {weighted_recall:.4f}      - Recall: {weighted_recall1:.4f}\n",
    "- F1-score: {weighted_f11:.4f}    - F1-score: {weighted_f11:.4f}\n",
    "\"\"\""
   ]
  },
  {
   "cell_type": "markdown",
   "id": "8eda23a2-e070-4338-a409-1b94d66add76",
   "metadata": {
    "tags": []
   },
   "source": [
    "### 1nn vs 5nn"
   ]
  },
  {
   "cell_type": "code",
   "execution_count": 125,
   "id": "ab4cf3c7-5e75-4883-af0f-0771d06a7be3",
   "metadata": {},
   "outputs": [
    {
     "name": "stdout",
     "output_type": "stream",
     "text": [
      "Accuracy-1nn: 0.9263212563522666\n",
      "Accuracy-5nn: 0.8941243609989703\n"
     ]
    }
   ],
   "source": [
    "print(f'Accuracy-1nn: {accuracy_score(y_val, y_pred_val_1nn)}')\n",
    "print(f'Accuracy-5nn: {accuracy_score(y_val, y_pred_val_5nn)}')"
   ]
  },
  {
   "cell_type": "code",
   "execution_count": 128,
   "id": "4bf26405-6596-4c90-af32-0e63dd4862bb",
   "metadata": {},
   "outputs": [
    {
     "name": "stdout",
     "output_type": "stream",
     "text": [
      "\n",
      "Macro-averages\n",
      "1nn                   5nn\n",
      "- Precision: 0.8823   - Precision: 0.8512\n",
      "- Recall: 0.8467      - Recall: 0.7458\n",
      "- F1-score: 0.7779    - F1-score: 0.7779\n",
      "----------------------------------------------------------------------------\n",
      "Weighted-averages\n",
      "1nn                   5nn\n",
      "- Precision: 0.9273   - Precision: 0.8969\n",
      "- Recall: 0.9263      - Recall: 0.8941\n",
      "- F1-score: 0.8923    - F1-score: 0.8923\n",
      "\n"
     ]
    }
   ],
   "source": [
    "print(output)"
   ]
  },
  {
   "cell_type": "markdown",
   "id": "0bd0fdb7-aa3c-458e-8d82-58f31a11e0b9",
   "metadata": {
    "tags": []
   },
   "source": [
    "### Test on test set"
   ]
  },
  {
   "cell_type": "code",
   "execution_count": null,
   "id": "2d76b21f-5077-4868-bea2-4eac3570a1ec",
   "metadata": {},
   "outputs": [],
   "source": [
    "k=1\n",
    "D_test_1nn, I_test_1nn = index.search(X_test, k) "
   ]
  },
  {
   "cell_type": "code",
   "execution_count": null,
   "id": "54ab5d73-a586-427a-9510-1ed94afdd7a9",
   "metadata": {},
   "outputs": [],
   "source": [
    "y_pred_test_1nn = np.array(y_train[I_test_1nn])"
   ]
  },
  {
   "cell_type": "code",
   "execution_count": null,
   "id": "9ed2c1a9-0d54-49d2-a46d-df1a10ee414d",
   "metadata": {},
   "outputs": [],
   "source": [
    "np.save('data/DRFP/y_pred_test_1nn', y_pred_test_1nn)"
   ]
  },
  {
   "cell_type": "code",
   "execution_count": null,
   "id": "50f19062-93de-4c7f-95a7-3c8ba71a2c50",
   "metadata": {},
   "outputs": [],
   "source": [
    "report_test1nn = classification_report(y_test, y_pred_test_1nn, output_dict=True)\n",
    "report_df = pd.DataFrame(report_test1nn).transpose()\n",
    "df_test1nn = report_df[:-3].reset_index().rename(columns={'index': 'CLASS-ID'})\n",
    "df_test1nn['test_support'] = df_test1nn['support'].astype(int)\n",
    "df_test1nn['CLASS-ID'] = df_test1nn['CLASS-ID'].astype(int)"
   ]
  },
  {
   "cell_type": "code",
   "execution_count": null,
   "id": "056f5d1f-670a-42e0-bbf2-bf7c7c0c7f1a",
   "metadata": {},
   "outputs": [],
   "source": [
    "# Merge with df_val1nn on 'CLASS-ID'\n",
    "df_test1nn_report = pd.merge(df_test1nn, train_support_df, on='CLASS-ID', how='left')\n",
    "# Sort based on the number of train_support\n",
    "df_test1nn_report = df_test1nn_report.sort_values(by='train_support', ascending=False)\n",
    "df_test1nn_report = df_test1nn_report.drop(columns=['support'])"
   ]
  },
  {
   "cell_type": "code",
   "execution_count": null,
   "id": "a279bab6-de28-4ca4-b427-cf557650e1b1",
   "metadata": {},
   "outputs": [],
   "source": [
    "df_test1nn = pd.merge(df_test1nn_report, df_class[['CLASS-ID', 'TRANSFORM_NAME']], on='CLASS-ID', how='left')"
   ]
  },
  {
   "cell_type": "code",
   "execution_count": null,
   "id": "955d51fe-d019-40af-9d2a-cbb4aa46ff7d",
   "metadata": {},
   "outputs": [],
   "source": [
    "df_test1nn.to_csv('data/DRFP/df_test1nn.csv', index=False)"
   ]
  },
  {
   "cell_type": "code",
   "execution_count": 86,
   "id": "6ea25882-d9be-44d6-94fc-eb8bfef90b6e",
   "metadata": {},
   "outputs": [],
   "source": [
    "df_test1nn = pd.read_csv('data/DRFP/df_test1nn.csv', delimiter=',')"
   ]
  },
  {
   "cell_type": "code",
   "execution_count": 87,
   "id": "d45cbe8b-32e3-4d9b-8617-c697440ead00",
   "metadata": {},
   "outputs": [
    {
     "data": {
      "text/html": [
       "<div>\n",
       "<style scoped>\n",
       "    .dataframe tbody tr th:only-of-type {\n",
       "        vertical-align: middle;\n",
       "    }\n",
       "\n",
       "    .dataframe tbody tr th {\n",
       "        vertical-align: top;\n",
       "    }\n",
       "\n",
       "    .dataframe thead th {\n",
       "        text-align: right;\n",
       "    }\n",
       "</style>\n",
       "<table border=\"1\" class=\"dataframe\">\n",
       "  <thead>\n",
       "    <tr style=\"text-align: right;\">\n",
       "      <th></th>\n",
       "      <th>CLASS-ID</th>\n",
       "      <th>precision</th>\n",
       "      <th>recall</th>\n",
       "      <th>f1-score</th>\n",
       "      <th>test_support</th>\n",
       "      <th>train_support</th>\n",
       "      <th>TRANSFORM_NAME</th>\n",
       "    </tr>\n",
       "  </thead>\n",
       "  <tbody>\n",
       "    <tr>\n",
       "      <th>0</th>\n",
       "      <td>1085</td>\n",
       "      <td>0.992861</td>\n",
       "      <td>0.991508</td>\n",
       "      <td>0.992184</td>\n",
       "      <td>24966</td>\n",
       "      <td>185024</td>\n",
       "      <td>Suzuki coupling, Suzuki-Miyaura Cross-Coupling</td>\n",
       "    </tr>\n",
       "    <tr>\n",
       "      <th>1</th>\n",
       "      <td>432</td>\n",
       "      <td>0.960419</td>\n",
       "      <td>0.970177</td>\n",
       "      <td>0.965274</td>\n",
       "      <td>21259</td>\n",
       "      <td>164914</td>\n",
       "      <td>N-alkylation of alkylamines</td>\n",
       "    </tr>\n",
       "    <tr>\n",
       "      <th>2</th>\n",
       "      <td>1016</td>\n",
       "      <td>0.930275</td>\n",
       "      <td>0.953311</td>\n",
       "      <td>0.941652</td>\n",
       "      <td>15507</td>\n",
       "      <td>113635</td>\n",
       "      <td>hydrolysis of carboxylic esters</td>\n",
       "    </tr>\n",
       "    <tr>\n",
       "      <th>3</th>\n",
       "      <td>60</td>\n",
       "      <td>0.975512</td>\n",
       "      <td>0.975861</td>\n",
       "      <td>0.975686</td>\n",
       "      <td>11185</td>\n",
       "      <td>85921</td>\n",
       "      <td>reduction of C-NO2 to C-NH2</td>\n",
       "    </tr>\n",
       "    <tr>\n",
       "      <th>4</th>\n",
       "      <td>433</td>\n",
       "      <td>0.973701</td>\n",
       "      <td>0.979316</td>\n",
       "      <td>0.976500</td>\n",
       "      <td>7977</td>\n",
       "      <td>60554</td>\n",
       "      <td>N-alkylation of benzenoid amines, anilines</td>\n",
       "    </tr>\n",
       "    <tr>\n",
       "      <th>...</th>\n",
       "      <td>...</td>\n",
       "      <td>...</td>\n",
       "      <td>...</td>\n",
       "      <td>...</td>\n",
       "      <td>...</td>\n",
       "      <td>...</td>\n",
       "      <td>...</td>\n",
       "    </tr>\n",
       "    <tr>\n",
       "      <th>1294</th>\n",
       "      <td>1267</td>\n",
       "      <td>1.000000</td>\n",
       "      <td>1.000000</td>\n",
       "      <td>1.000000</td>\n",
       "      <td>1</td>\n",
       "      <td>8</td>\n",
       "      <td>Brackeen Imidazole Synthesis</td>\n",
       "    </tr>\n",
       "    <tr>\n",
       "      <th>1295</th>\n",
       "      <td>1800</td>\n",
       "      <td>1.000000</td>\n",
       "      <td>0.200000</td>\n",
       "      <td>0.333333</td>\n",
       "      <td>5</td>\n",
       "      <td>8</td>\n",
       "      <td>Shestakov Hydrazino Acid Synthesis</td>\n",
       "    </tr>\n",
       "    <tr>\n",
       "      <th>1296</th>\n",
       "      <td>500</td>\n",
       "      <td>1.000000</td>\n",
       "      <td>1.000000</td>\n",
       "      <td>1.000000</td>\n",
       "      <td>1</td>\n",
       "      <td>7</td>\n",
       "      <td>O-propargylation of N-hydroxy amides, includin...</td>\n",
       "    </tr>\n",
       "    <tr>\n",
       "      <th>1297</th>\n",
       "      <td>1622</td>\n",
       "      <td>1.000000</td>\n",
       "      <td>1.000000</td>\n",
       "      <td>1.000000</td>\n",
       "      <td>1</td>\n",
       "      <td>7</td>\n",
       "      <td>ListMacMillan Hydrogenation</td>\n",
       "    </tr>\n",
       "    <tr>\n",
       "      <th>1298</th>\n",
       "      <td>1404</td>\n",
       "      <td>1.000000</td>\n",
       "      <td>1.000000</td>\n",
       "      <td>1.000000</td>\n",
       "      <td>2</td>\n",
       "      <td>7</td>\n",
       "      <td>Frankland-Duppa Reaction</td>\n",
       "    </tr>\n",
       "  </tbody>\n",
       "</table>\n",
       "<p>1299 rows × 7 columns</p>\n",
       "</div>"
      ],
      "text/plain": [
       "      CLASS-ID  precision    recall  f1-score  test_support  train_support  \\\n",
       "0         1085   0.992861  0.991508  0.992184         24966         185024   \n",
       "1          432   0.960419  0.970177  0.965274         21259         164914   \n",
       "2         1016   0.930275  0.953311  0.941652         15507         113635   \n",
       "3           60   0.975512  0.975861  0.975686         11185          85921   \n",
       "4          433   0.973701  0.979316  0.976500          7977          60554   \n",
       "...        ...        ...       ...       ...           ...            ...   \n",
       "1294      1267   1.000000  1.000000  1.000000             1              8   \n",
       "1295      1800   1.000000  0.200000  0.333333             5              8   \n",
       "1296       500   1.000000  1.000000  1.000000             1              7   \n",
       "1297      1622   1.000000  1.000000  1.000000             1              7   \n",
       "1298      1404   1.000000  1.000000  1.000000             2              7   \n",
       "\n",
       "                                         TRANSFORM_NAME  \n",
       "0        Suzuki coupling, Suzuki-Miyaura Cross-Coupling  \n",
       "1                           N-alkylation of alkylamines  \n",
       "2                       hydrolysis of carboxylic esters  \n",
       "3                           reduction of C-NO2 to C-NH2  \n",
       "4            N-alkylation of benzenoid amines, anilines  \n",
       "...                                                 ...  \n",
       "1294                       Brackeen Imidazole Synthesis  \n",
       "1295                 Shestakov Hydrazino Acid Synthesis  \n",
       "1296  O-propargylation of N-hydroxy amides, includin...  \n",
       "1297                       ListMacMillan Hydrogenation  \n",
       "1298                           Frankland-Duppa Reaction  \n",
       "\n",
       "[1299 rows x 7 columns]"
      ]
     },
     "execution_count": 87,
     "metadata": {},
     "output_type": "execute_result"
    }
   ],
   "source": [
    "df_test1nn"
   ]
  },
  {
   "cell_type": "code",
   "execution_count": 84,
   "id": "0c74c335-d771-4f72-bb5c-6febd7fa6c10",
   "metadata": {},
   "outputs": [],
   "source": [
    "y_pred_test1nn = np.load('data/DRFP/y_pred_test_1nn.npy')"
   ]
  },
  {
   "cell_type": "code",
   "execution_count": 129,
   "id": "cc712b19-e0b1-42b7-b60f-c8f995d713ca",
   "metadata": {},
   "outputs": [],
   "source": [
    "# Calculate macro average for precision, recall, and f1-score\n",
    "macro_precision2 = df_test1nn['precision'].mean()\n",
    "macro_recall2 = df_test1nn['recall'].mean()\n",
    "macro_f12 = df_test1nn['f1-score'].mean()\n",
    "\n",
    "# Calculate weighted average for precision, recall, and f1-score\n",
    "weighted_precision2 = (df_test1nn['precision'] * df_test1nn['test_support']).sum() / df_test1nn['test_support'].sum()\n",
    "weighted_recall2 = (df_test1nn['recall'] * df_test1nn['test_support']).sum() / df_test1nn['test_support'].sum()\n",
    "weighted_f12 = (df_test1nn['f1-score'] * df_test1nn['test_support']).sum() / df_test1nn['test_support'].sum()"
   ]
  },
  {
   "cell_type": "code",
   "execution_count": 133,
   "id": "1e08986f-29a7-4bff-9475-243956557b78",
   "metadata": {},
   "outputs": [],
   "source": [
    "output1 = f\"\"\"\n",
    "Macro-averages:\n",
    "- Precision: {macro_precision2:.4f}\n",
    "- Recall: {macro_recall2:.4f}\n",
    "- F1-score: {macro_f12:.4f}\n",
    "\n",
    "Weighted-averages:\n",
    "- Precision: {weighted_precision2:.4f}\n",
    "- Recall: {weighted_recall2:.4f}\n",
    "- F1-score: {weighted_f12:.4f}\n",
    "\"\"\""
   ]
  },
  {
   "cell_type": "code",
   "execution_count": 131,
   "id": "1df13f0c-455a-4e8f-8175-97d8eca7dc3f",
   "metadata": {},
   "outputs": [
    {
     "name": "stdout",
     "output_type": "stream",
     "text": [
      "Accuracy: 0.926952026843203\n"
     ]
    }
   ],
   "source": [
    "print(f'Accuracy: {accuracy_score(y_test, y_pred_test_1nn)}')"
   ]
  },
  {
   "cell_type": "code",
   "execution_count": 134,
   "id": "43fcbfb3-0802-41ec-a475-584476061745",
   "metadata": {},
   "outputs": [
    {
     "name": "stdout",
     "output_type": "stream",
     "text": [
      "\n",
      "Macro-averages:\n",
      "- Precision: 0.8903\n",
      "- Recall: 0.8603\n",
      "- F1-score: 0.8675\n",
      "\n",
      "Weighted-averages:\n",
      "- Precision: 0.9279\n",
      "- Recall: 0.9270\n",
      "- F1-score: 0.9266\n",
      "\n"
     ]
    }
   ],
   "source": [
    "print(output1)"
   ]
  },
  {
   "cell_type": "markdown",
   "id": "93ec2a9c-32bc-43ed-8cd9-32c5b13c0ac9",
   "metadata": {
    "tags": []
   },
   "source": [
    "### Evaluation "
   ]
  },
  {
   "cell_type": "code",
   "execution_count": 88,
   "id": "8649cb89-c6ab-4972-8a4d-4f363fec2d15",
   "metadata": {},
   "outputs": [
    {
     "data": {
      "text/html": [
       "<div>\n",
       "<style scoped>\n",
       "    .dataframe tbody tr th:only-of-type {\n",
       "        vertical-align: middle;\n",
       "    }\n",
       "\n",
       "    .dataframe tbody tr th {\n",
       "        vertical-align: top;\n",
       "    }\n",
       "\n",
       "    .dataframe thead th {\n",
       "        text-align: right;\n",
       "    }\n",
       "</style>\n",
       "<table border=\"1\" class=\"dataframe\">\n",
       "  <thead>\n",
       "    <tr style=\"text-align: right;\">\n",
       "      <th></th>\n",
       "      <th>precision</th>\n",
       "      <th>recall</th>\n",
       "      <th>f1-score</th>\n",
       "    </tr>\n",
       "  </thead>\n",
       "  <tbody>\n",
       "    <tr>\n",
       "      <th>count</th>\n",
       "      <td>1299.000000</td>\n",
       "      <td>1299.000000</td>\n",
       "      <td>1299.000000</td>\n",
       "    </tr>\n",
       "    <tr>\n",
       "      <th>mean</th>\n",
       "      <td>0.890264</td>\n",
       "      <td>0.860311</td>\n",
       "      <td>0.867475</td>\n",
       "    </tr>\n",
       "    <tr>\n",
       "      <th>std</th>\n",
       "      <td>0.182265</td>\n",
       "      <td>0.196462</td>\n",
       "      <td>0.182413</td>\n",
       "    </tr>\n",
       "    <tr>\n",
       "      <th>min</th>\n",
       "      <td>0.000000</td>\n",
       "      <td>0.000000</td>\n",
       "      <td>0.000000</td>\n",
       "    </tr>\n",
       "    <tr>\n",
       "      <th>25%</th>\n",
       "      <td>0.875000</td>\n",
       "      <td>0.807190</td>\n",
       "      <td>0.833333</td>\n",
       "    </tr>\n",
       "    <tr>\n",
       "      <th>50%</th>\n",
       "      <td>0.953586</td>\n",
       "      <td>0.928144</td>\n",
       "      <td>0.924370</td>\n",
       "    </tr>\n",
       "    <tr>\n",
       "      <th>75%</th>\n",
       "      <td>1.000000</td>\n",
       "      <td>1.000000</td>\n",
       "      <td>0.980642</td>\n",
       "    </tr>\n",
       "    <tr>\n",
       "      <th>max</th>\n",
       "      <td>1.000000</td>\n",
       "      <td>1.000000</td>\n",
       "      <td>1.000000</td>\n",
       "    </tr>\n",
       "  </tbody>\n",
       "</table>\n",
       "</div>"
      ],
      "text/plain": [
       "         precision       recall     f1-score\n",
       "count  1299.000000  1299.000000  1299.000000\n",
       "mean      0.890264     0.860311     0.867475\n",
       "std       0.182265     0.196462     0.182413\n",
       "min       0.000000     0.000000     0.000000\n",
       "25%       0.875000     0.807190     0.833333\n",
       "50%       0.953586     0.928144     0.924370\n",
       "75%       1.000000     1.000000     0.980642\n",
       "max       1.000000     1.000000     1.000000"
      ]
     },
     "execution_count": 88,
     "metadata": {},
     "output_type": "execute_result"
    }
   ],
   "source": [
    "summary_stats = df_test1nn[[\"precision\", \"recall\", \"f1-score\"]].describe()\n",
    "summary_stats"
   ]
  },
  {
   "cell_type": "code",
   "execution_count": 89,
   "id": "904c6f36-5429-4b71-8e85-c9de4548dec7",
   "metadata": {},
   "outputs": [
    {
     "data": {
      "text/html": [
       "<div>\n",
       "<style scoped>\n",
       "    .dataframe tbody tr th:only-of-type {\n",
       "        vertical-align: middle;\n",
       "    }\n",
       "\n",
       "    .dataframe tbody tr th {\n",
       "        vertical-align: top;\n",
       "    }\n",
       "\n",
       "    .dataframe thead th {\n",
       "        text-align: right;\n",
       "    }\n",
       "</style>\n",
       "<table border=\"1\" class=\"dataframe\">\n",
       "  <thead>\n",
       "    <tr style=\"text-align: right;\">\n",
       "      <th></th>\n",
       "      <th>CLASS-ID</th>\n",
       "      <th>precision</th>\n",
       "      <th>recall</th>\n",
       "      <th>f1-score</th>\n",
       "      <th>test_support</th>\n",
       "      <th>train_support</th>\n",
       "      <th>TRANSFORM_NAME</th>\n",
       "    </tr>\n",
       "  </thead>\n",
       "  <tbody>\n",
       "    <tr>\n",
       "      <th>15</th>\n",
       "      <td>72</td>\n",
       "      <td>0.819018</td>\n",
       "      <td>0.813409</td>\n",
       "      <td>0.816204</td>\n",
       "      <td>3505</td>\n",
       "      <td>23643</td>\n",
       "      <td>oxidation of (CH2)2 to C=C</td>\n",
       "    </tr>\n",
       "    <tr>\n",
       "      <th>16</th>\n",
       "      <td>5</td>\n",
       "      <td>0.717607</td>\n",
       "      <td>0.740326</td>\n",
       "      <td>0.728790</td>\n",
       "      <td>3127</td>\n",
       "      <td>23357</td>\n",
       "      <td>reduction of aldehydes to alcohols</td>\n",
       "    </tr>\n",
       "    <tr>\n",
       "      <th>24</th>\n",
       "      <td>848</td>\n",
       "      <td>0.789173</td>\n",
       "      <td>0.842575</td>\n",
       "      <td>0.815000</td>\n",
       "      <td>2128</td>\n",
       "      <td>16370</td>\n",
       "      <td>condensation of heteroaryl carboxylic acids wi...</td>\n",
       "    </tr>\n",
       "    <tr>\n",
       "      <th>33</th>\n",
       "      <td>109</td>\n",
       "      <td>0.782669</td>\n",
       "      <td>0.691373</td>\n",
       "      <td>0.734194</td>\n",
       "      <td>1646</td>\n",
       "      <td>12611</td>\n",
       "      <td>Dess-Martin ketone synthesis, Dess-Martin oxid...</td>\n",
       "    </tr>\n",
       "    <tr>\n",
       "      <th>37</th>\n",
       "      <td>1331</td>\n",
       "      <td>0.564826</td>\n",
       "      <td>0.564487</td>\n",
       "      <td>0.564656</td>\n",
       "      <td>1667</td>\n",
       "      <td>12096</td>\n",
       "      <td>Corey-Suggs Reagent</td>\n",
       "    </tr>\n",
       "    <tr>\n",
       "      <th>...</th>\n",
       "      <td>...</td>\n",
       "      <td>...</td>\n",
       "      <td>...</td>\n",
       "      <td>...</td>\n",
       "      <td>...</td>\n",
       "      <td>...</td>\n",
       "      <td>...</td>\n",
       "    </tr>\n",
       "    <tr>\n",
       "      <th>1286</th>\n",
       "      <td>1890</td>\n",
       "      <td>0.500000</td>\n",
       "      <td>1.000000</td>\n",
       "      <td>0.666667</td>\n",
       "      <td>1</td>\n",
       "      <td>8</td>\n",
       "      <td>Zavyalov Pyrrole Synthesis</td>\n",
       "    </tr>\n",
       "    <tr>\n",
       "      <th>1287</th>\n",
       "      <td>1532</td>\n",
       "      <td>0.000000</td>\n",
       "      <td>0.000000</td>\n",
       "      <td>0.000000</td>\n",
       "      <td>1</td>\n",
       "      <td>8</td>\n",
       "      <td>modified Julia olefination, using benzimidazol...</td>\n",
       "    </tr>\n",
       "    <tr>\n",
       "      <th>1292</th>\n",
       "      <td>352</td>\n",
       "      <td>0.500000</td>\n",
       "      <td>1.000000</td>\n",
       "      <td>0.666667</td>\n",
       "      <td>1</td>\n",
       "      <td>8</td>\n",
       "      <td>nitrosation of benzenoid rings</td>\n",
       "    </tr>\n",
       "    <tr>\n",
       "      <th>1293</th>\n",
       "      <td>882</td>\n",
       "      <td>0.000000</td>\n",
       "      <td>0.000000</td>\n",
       "      <td>0.000000</td>\n",
       "      <td>1</td>\n",
       "      <td>8</td>\n",
       "      <td>condensation of nitroalkanes with amides</td>\n",
       "    </tr>\n",
       "    <tr>\n",
       "      <th>1295</th>\n",
       "      <td>1800</td>\n",
       "      <td>1.000000</td>\n",
       "      <td>0.200000</td>\n",
       "      <td>0.333333</td>\n",
       "      <td>5</td>\n",
       "      <td>8</td>\n",
       "      <td>Shestakov Hydrazino Acid Synthesis</td>\n",
       "    </tr>\n",
       "  </tbody>\n",
       "</table>\n",
       "<p>323 rows × 7 columns</p>\n",
       "</div>"
      ],
      "text/plain": [
       "      CLASS-ID  precision    recall  f1-score  test_support  train_support  \\\n",
       "15          72   0.819018  0.813409  0.816204          3505          23643   \n",
       "16           5   0.717607  0.740326  0.728790          3127          23357   \n",
       "24         848   0.789173  0.842575  0.815000          2128          16370   \n",
       "33         109   0.782669  0.691373  0.734194          1646          12611   \n",
       "37        1331   0.564826  0.564487  0.564656          1667          12096   \n",
       "...        ...        ...       ...       ...           ...            ...   \n",
       "1286      1890   0.500000  1.000000  0.666667             1              8   \n",
       "1287      1532   0.000000  0.000000  0.000000             1              8   \n",
       "1292       352   0.500000  1.000000  0.666667             1              8   \n",
       "1293       882   0.000000  0.000000  0.000000             1              8   \n",
       "1295      1800   1.000000  0.200000  0.333333             5              8   \n",
       "\n",
       "                                         TRANSFORM_NAME  \n",
       "15                           oxidation of (CH2)2 to C=C  \n",
       "16                   reduction of aldehydes to alcohols  \n",
       "24    condensation of heteroaryl carboxylic acids wi...  \n",
       "33    Dess-Martin ketone synthesis, Dess-Martin oxid...  \n",
       "37                                  Corey-Suggs Reagent  \n",
       "...                                                 ...  \n",
       "1286                         Zavyalov Pyrrole Synthesis  \n",
       "1287  modified Julia olefination, using benzimidazol...  \n",
       "1292                     nitrosation of benzenoid rings  \n",
       "1293           condensation of nitroalkanes with amides  \n",
       "1295                 Shestakov Hydrazino Acid Synthesis  \n",
       "\n",
       "[323 rows x 7 columns]"
      ]
     },
     "execution_count": 89,
     "metadata": {},
     "output_type": "execute_result"
    }
   ],
   "source": [
    "low_f1_reactions = df_test1nn[df_test1nn['f1-score'] < df_test1nn['f1-score'].quantile(0.25)]\n",
    "low_f1_reactions"
   ]
  },
  {
   "cell_type": "code",
   "execution_count": 90,
   "id": "fa9ce6f1-b84f-464b-9ede-31ef5202cb68",
   "metadata": {},
   "outputs": [
    {
     "data": {
      "image/png": "[encoded data removed]",
      "text/plain": [
       "<Figure size 1008x432 with 2 Axes>"
      ]
     },
     "metadata": {
      "needs_background": "light"
     },
     "output_type": "display_data"
    }
   ],
   "source": [
    "fig, (ax1, ax2) = plt.subplots(1, 2, figsize=(14, 6))\n",
    "\n",
    "ax1.scatter(df_test1nn['train_support'], df_test1nn['f1-score'], color='blue')\n",
    "ax1.set_title('Train Support vs. F1-Score')\n",
    "ax1.set_xlabel('Train Support')\n",
    "ax1.set_ylabel('F1-Score')\n",
    "\n",
    "ax2.scatter(df_test1nn['test_support'], df_test1nn['f1-score'], color='red')\n",
    "ax2.set_title('Test Support vs. F1-Score')\n",
    "ax2.set_xlabel('Test Support')\n",
    "ax2.set_ylabel('F1-Score')\n",
    "\n",
    "plt.tight_layout()\n",
    "plt.show()"
   ]
  },
  {
   "cell_type": "code",
   "execution_count": 91,
   "id": "56585e85-87c5-4235-98ef-4935c3c45d9c",
   "metadata": {},
   "outputs": [
    {
     "data": {
      "image/png": "[encoded data removed]",
      "text/plain": [
       "<Figure size 720x576 with 2 Axes>"
      ]
     },
     "metadata": {
      "needs_background": "light"
     },
     "output_type": "display_data"
    }
   ],
   "source": [
    "import seaborn as sns\n",
    "correlation_matrix = df_test1nn[['precision', 'recall', 'f1-score', 'test_support', 'train_support']].corr()\n",
    "\n",
    "# Create a heatmap to visualize the correlations\n",
    "plt.figure(figsize=(10, 8))\n",
    "heatmap = sns.heatmap(correlation_matrix, annot=True, cmap='coolwarm', fmt=\".2f\")\n",
    "heatmap.set_title('Correlation between Performance Metrics and Support Numbers')\n",
    "plt.show()"
   ]
  },
  {
   "cell_type": "markdown",
   "id": "3a932318-e394-4373-9b52-4f92133331a8",
   "metadata": {},
   "source": [
    "### Manual test(Will be improved)"
   ]
  },
  {
   "cell_type": "code",
   "execution_count": 174,
   "id": "fc0d6c75-7147-4ece-8706-839819365776",
   "metadata": {},
   "outputs": [],
   "source": [
    "Manually_input = 'CC(=O)OC(\\\\C=C\\\\c1ccccc1)C#N>>CC(=O)OC(CC(=O)c1ccccc1)C#N'"
   ]
  },
  {
   "cell_type": "code",
   "execution_count": 175,
   "id": "8b6848da-e6df-4973-ac37-2065a839755f",
   "metadata": {},
   "outputs": [],
   "source": [
    "class_id_to_transform_name = pd.Series(df_class.TRANSFORM_NAME.values,index=df_class['CLASS-ID']).to_dict()"
   ]
  },
  {
   "cell_type": "code",
   "execution_count": 176,
   "id": "a5ce8164-023d-46a5-8fe5-38404b5349ef",
   "metadata": {},
   "outputs": [],
   "source": [
    "Input_FP = DrfpEncoder.encode(Manually_input, n_folded_length=128)\n",
    "Input_FP_array = np.array(Input_FP).astype('float32')\n",
    "Input_FP_array = Input_FP_array.reshape(1, -1)\n",
    "\n",
    "k=1\n",
    "D_man, I_man = index.search(Input_FP_array, k)\n",
    "\n",
    "y_pred_manual_query = y_train[I_man]"
   ]
  },
  {
   "cell_type": "code",
   "execution_count": 177,
   "id": "8a0b9df1-c24d-4d86-af20-5695cf039f92",
   "metadata": {},
   "outputs": [
    {
     "data": {
      "text/plain": [
       "array([[84]])"
      ]
     },
     "execution_count": 177,
     "metadata": {},
     "output_type": "execute_result"
    }
   ],
   "source": [
    "y_pred_manual_query"
   ]
  },
  {
   "cell_type": "code",
   "execution_count": null,
   "id": "b131e883-ab81-401f-97ef-27ea4c0ac3b8",
   "metadata": {},
   "outputs": [],
   "source": []
  }
 ],
 "metadata": {
  "kernelspec": {
   "display_name": "reaction-workbench-env [Python]",
   "language": "python",
   "name": "conda-env-reaction-workbench-env-py"
  },
  "language_info": {
   "codemirror_mode": {
    "name": "ipython",
    "version": 3
   },
   "file_extension": ".py",
   "mimetype": "text/x-python",
   "name": "python",
   "nbconvert_exporter": "python",
   "pygments_lexer": "ipython3",
   "version": "3.8.8"
  }
 },
 "nbformat": 4,
 "nbformat_minor": 5
}
