{
 "cells": [
  {
   "cell_type": "code",
   "execution_count": 1,
   "id": "61648dc2",
   "metadata": {},
   "outputs": [],
   "source": [
    "import pandas as pd\n",
    "import matplotlib.pyplot as plt\n",
    "import os\n",
    "import pickle\n",
    "import numpy as np\n",
    "import pandas as pd\n",
    "import matplotlib.pyplot as plt"
   ]
  },
  {
   "cell_type": "code",
   "execution_count": 2,
   "id": "67741d13",
   "metadata": {},
   "outputs": [],
   "source": [
    "data = {\n",
    "    'Model': [\n",
    "        'OptBert (full data)', 'OptBert (50% data)', 'OptBert (30% data)', 'RXNFP',\n",
    "        'OptBert (10% data)', 'OptBert (10% data, soft negative pairs)', 'DRFP',\n",
    "        'Pre-trained Bert'\n",
    "    ],\n",
    "    'Accuracy': [0.9618, 0.9618, 0.9616, 0.9579, 0.9563, 0.9446, 0.9269, 0.8328],\n",
    "    'Precision (Macro)': [0.8889, 0.8882, 0.8957, 0.8747, 0.9020, 0.8913, 0.8903, 0.7646],\n",
    "    'Recall (Macro)': [0.8761, 0.8757, 0.8800, 0.8642, 0.8747, 0.8595, 0.8603, 0.7221],\n",
    "    'F1-Score (Macro)': [0.8759, 0.8757, 0.8813, 0.8625, 0.8812, 0.8679, 0.8675, 0.7330],\n",
    "    'Precision (Weighted)': [0.9619, 0.9618, 0.9614,0.9581, 0.9564, 0.9447, 0.9279, 0.8325],\n",
    "    'Recall (Weighted)': [0.9618, 0.9618, 0.9614, 0.9580, 0.9564, 0.9447, 0.9270, 0.8328],\n",
    "    'F1-Score (Weighted)': [0.9616, 0.9616, 0.9612, 0.9578, 0.9561, 0.9444, 0.9266, 0.8319]\n",
    "}"
   ]
  },
  {
   "cell_type": "code",
   "execution_count": 3,
   "id": "2816de84",
   "metadata": {},
   "outputs": [
    {
     "data": {
      "text/html": [
       "<div>\n",
       "<style scoped>\n",
       "    .dataframe tbody tr th:only-of-type {\n",
       "        vertical-align: middle;\n",
       "    }\n",
       "\n",
       "    .dataframe tbody tr th {\n",
       "        vertical-align: top;\n",
       "    }\n",
       "\n",
       "    .dataframe thead th {\n",
       "        text-align: right;\n",
       "    }\n",
       "</style>\n",
       "<table border=\"1\" class=\"dataframe\">\n",
       "  <thead>\n",
       "    <tr style=\"text-align: right;\">\n",
       "      <th></th>\n",
       "      <th>Model</th>\n",
       "      <th>Accuracy</th>\n",
       "      <th>Precision (Macro)</th>\n",
       "      <th>Recall (Macro)</th>\n",
       "      <th>F1-Score (Macro)</th>\n",
       "      <th>Precision (Weighted)</th>\n",
       "      <th>Recall (Weighted)</th>\n",
       "      <th>F1-Score (Weighted)</th>\n",
       "    </tr>\n",
       "  </thead>\n",
       "  <tbody>\n",
       "    <tr>\n",
       "      <th>0</th>\n",
       "      <td>OptBert (full data)</td>\n",
       "      <td>0.9618</td>\n",
       "      <td>0.8889</td>\n",
       "      <td>0.8761</td>\n",
       "      <td>0.8759</td>\n",
       "      <td>0.9619</td>\n",
       "      <td>0.9618</td>\n",
       "      <td>0.9616</td>\n",
       "    </tr>\n",
       "    <tr>\n",
       "      <th>1</th>\n",
       "      <td>OptBert (50% data)</td>\n",
       "      <td>0.9618</td>\n",
       "      <td>0.8882</td>\n",
       "      <td>0.8757</td>\n",
       "      <td>0.8757</td>\n",
       "      <td>0.9618</td>\n",
       "      <td>0.9618</td>\n",
       "      <td>0.9616</td>\n",
       "    </tr>\n",
       "    <tr>\n",
       "      <th>2</th>\n",
       "      <td>OptBert (30% data)</td>\n",
       "      <td>0.9616</td>\n",
       "      <td>0.8957</td>\n",
       "      <td>0.8800</td>\n",
       "      <td>0.8813</td>\n",
       "      <td>0.9614</td>\n",
       "      <td>0.9614</td>\n",
       "      <td>0.9612</td>\n",
       "    </tr>\n",
       "    <tr>\n",
       "      <th>3</th>\n",
       "      <td>RXNFP</td>\n",
       "      <td>0.9579</td>\n",
       "      <td>0.8747</td>\n",
       "      <td>0.8642</td>\n",
       "      <td>0.8625</td>\n",
       "      <td>0.9581</td>\n",
       "      <td>0.9580</td>\n",
       "      <td>0.9578</td>\n",
       "    </tr>\n",
       "    <tr>\n",
       "      <th>4</th>\n",
       "      <td>OptBert (10% data)</td>\n",
       "      <td>0.9563</td>\n",
       "      <td>0.9020</td>\n",
       "      <td>0.8747</td>\n",
       "      <td>0.8812</td>\n",
       "      <td>0.9564</td>\n",
       "      <td>0.9564</td>\n",
       "      <td>0.9561</td>\n",
       "    </tr>\n",
       "    <tr>\n",
       "      <th>5</th>\n",
       "      <td>OptBert (10% data, soft negative pairs)</td>\n",
       "      <td>0.9446</td>\n",
       "      <td>0.8913</td>\n",
       "      <td>0.8595</td>\n",
       "      <td>0.8679</td>\n",
       "      <td>0.9447</td>\n",
       "      <td>0.9447</td>\n",
       "      <td>0.9444</td>\n",
       "    </tr>\n",
       "    <tr>\n",
       "      <th>6</th>\n",
       "      <td>DRFP</td>\n",
       "      <td>0.9269</td>\n",
       "      <td>0.8903</td>\n",
       "      <td>0.8603</td>\n",
       "      <td>0.8675</td>\n",
       "      <td>0.9279</td>\n",
       "      <td>0.9270</td>\n",
       "      <td>0.9266</td>\n",
       "    </tr>\n",
       "    <tr>\n",
       "      <th>7</th>\n",
       "      <td>Pre-trained Bert</td>\n",
       "      <td>0.8328</td>\n",
       "      <td>0.7646</td>\n",
       "      <td>0.7221</td>\n",
       "      <td>0.7330</td>\n",
       "      <td>0.8325</td>\n",
       "      <td>0.8328</td>\n",
       "      <td>0.8319</td>\n",
       "    </tr>\n",
       "  </tbody>\n",
       "</table>\n",
       "</div>"
      ],
      "text/plain": [
       "                                     Model  Accuracy  Precision (Macro)  \\\n",
       "0                      OptBert (full data)    0.9618             0.8889   \n",
       "1                       OptBert (50% data)    0.9618             0.8882   \n",
       "2                       OptBert (30% data)    0.9616             0.8957   \n",
       "3                                    RXNFP    0.9579             0.8747   \n",
       "4                       OptBert (10% data)    0.9563             0.9020   \n",
       "5  OptBert (10% data, soft negative pairs)    0.9446             0.8913   \n",
       "6                                     DRFP    0.9269             0.8903   \n",
       "7                         Pre-trained Bert    0.8328             0.7646   \n",
       "\n",
       "   Recall (Macro)  F1-Score (Macro)  Precision (Weighted)  Recall (Weighted)  \\\n",
       "0          0.8761            0.8759                0.9619             0.9618   \n",
       "1          0.8757            0.8757                0.9618             0.9618   \n",
       "2          0.8800            0.8813                0.9614             0.9614   \n",
       "3          0.8642            0.8625                0.9581             0.9580   \n",
       "4          0.8747            0.8812                0.9564             0.9564   \n",
       "5          0.8595            0.8679                0.9447             0.9447   \n",
       "6          0.8603            0.8675                0.9279             0.9270   \n",
       "7          0.7221            0.7330                0.8325             0.8328   \n",
       "\n",
       "   F1-Score (Weighted)  \n",
       "0               0.9616  \n",
       "1               0.9616  \n",
       "2               0.9612  \n",
       "3               0.9578  \n",
       "4               0.9561  \n",
       "5               0.9444  \n",
       "6               0.9266  \n",
       "7               0.8319  "
      ]
     },
     "execution_count": 3,
     "metadata": {},
     "output_type": "execute_result"
    }
   ],
   "source": [
    "df = pd.DataFrame(data)\n",
    "df"
   ]
  },
  {
   "cell_type": "code",
   "execution_count": 4,
   "id": "d18909fb",
   "metadata": {},
   "outputs": [],
   "source": [
    "y_pred_val_1nn = np.load('../ReactionClassification_2024/data/PreBertFP/y_pred_val_1nn.npy')\n",
    "X_val = np.load('data/PreBertFP/X_val_PreBertFP.npy',allow_pickle=True)"
   ]
  },
  {
   "cell_type": "code",
   "execution_count": 5,
   "id": "f0885d3b",
   "metadata": {},
   "outputs": [],
   "source": [
    "train = pd.read_csv('../ReactionClassification_2024/data/train.csv', delimiter=',')\n",
    "val = pd.read_csv('../ReactionClassification_2024/data/val.csv', delimiter=',')\n",
    "test = pd.read_csv('../ReactionClassification_2024/data/test.csv', delimiter=',')"
   ]
  },
  {
   "cell_type": "code",
   "execution_count": 6,
   "id": "4d7f6cf0",
   "metadata": {},
   "outputs": [],
   "source": [
    "y_train = train['CLASS-ID'].values\n",
    "y_test = test['CLASS-ID'].values\n",
    "y_val = val['CLASS-ID'].values"
   ]
  },
  {
   "cell_type": "code",
   "execution_count": 7,
   "id": "3b0db9ae",
   "metadata": {},
   "outputs": [],
   "source": [
    "df_class = pd.read_csv('data/className.tsv', sep='\\t', encoding='ISO-8859-1')"
   ]
  },
  {
   "cell_type": "code",
   "execution_count": 8,
   "id": "b39e646a",
   "metadata": {},
   "outputs": [],
   "source": [
    "# Convert multi Class-ID into one\n",
    "def clean_class_id(row):\n",
    "    # Split the string by comma and convert to a list\n",
    "    class_ids = str(row['CLASS-ID']).split(',')\n",
    "    # Return the first element from the list, ensuring it's an integer\n",
    "    return int(class_ids[0].strip())\n",
    "\n",
    "# Apply the function to the 'CLASS-ID' column\n",
    "df_class['CLASS-ID'] = df_class.apply(clean_class_id, axis=1)\n",
    "df_class['CLASS-ID'] = df_class['CLASS-ID'].astype(int)"
   ]
  },
  {
   "cell_type": "code",
   "execution_count": 9,
   "id": "37b3b825",
   "metadata": {},
   "outputs": [],
   "source": [
    "val_df = val\n",
    "\n",
    "comparison_results = []\n",
    "for true_val, pred_val in zip(y_val, y_pred_val_1nn.flatten()):\n",
    "    classification_result = 'correct' if true_val == pred_val else 'wrong'\n",
    "    comparison_results.append([true_val, pred_val, classification_result])\n",
    "\n",
    "# Convert the comparison results to a DataFrame\n",
    "comparison_df = pd.DataFrame(comparison_results, columns=['CLASS-ID', 'Predicted', 'Result'])"
   ]
  },
  {
   "cell_type": "code",
   "execution_count": 11,
   "id": "84e77645",
   "metadata": {},
   "outputs": [],
   "source": [
    "wrong_df = comparison_df"
   ]
  },
  {
   "cell_type": "code",
   "execution_count": 12,
   "id": "a35e4215",
   "metadata": {},
   "outputs": [],
   "source": [
    "wrong_df_merged_actual = wrong_df.merge(df_class, how='left', left_on='CLASS-ID', right_on='CLASS-ID')\n",
    "\n",
    "wrong_df_merged_actual = wrong_df_merged_actual.rename(columns={\n",
    "    'TRANSFORM_ID': 'Actual_TRANSFORM_ID',\n",
    "    'TRANSFORM_NAME': 'Actual_TRANSFORM_NAME'\n",
    "})\n",
    "\n",
    "wrong_df_merged_full = wrong_df_merged_actual.merge(df_class, how='left', left_on='Predicted', right_on='CLASS-ID', suffixes=('_Actual', '_Predicted'))\n",
    "\n",
    "wrong_df_transformed = wrong_df_merged_full[['CLASS-ID_Actual', 'Actual_TRANSFORM_ID', 'Actual_TRANSFORM_NAME', 'Predicted', 'TRANSFORM_ID', 'TRANSFORM_NAME']]\n",
    "wrong_df_transformed.columns = ['CLASS-ID', 'Actual_TRANSFORM_ID', 'Actual_TRANSFORM_NAME', 'Predicted', 'Predicted_TRANSFORM_ID', 'Predicted_TRANSFORM_NAME']"
   ]
  },
  {
   "cell_type": "code",
   "execution_count": 13,
   "id": "36a9c2a8",
   "metadata": {},
   "outputs": [
    {
     "name": "stderr",
     "output_type": "stream",
     "text": [
      "/tmp/ipykernel_2611253/1566809022.py:1: SettingWithCopyWarning: \n",
      "A value is trying to be set on a copy of a slice from a DataFrame.\n",
      "Try using .loc[row_indexer,col_indexer] = value instead\n",
      "\n",
      "See the caveats in the documentation: https://pandas.pydata.org/pandas-docs/stable/user_guide/indexing.html#returning-a-view-versus-a-copy\n",
      "  wrong_df_transformed['Actual_SUPER_TRANSFORM_ID'] = wrong_df_transformed['Actual_TRANSFORM_ID'].str.extract(r'\\((.*?)\\)')\n",
      "/tmp/ipykernel_2611253/1566809022.py:2: SettingWithCopyWarning: \n",
      "A value is trying to be set on a copy of a slice from a DataFrame.\n",
      "Try using .loc[row_indexer,col_indexer] = value instead\n",
      "\n",
      "See the caveats in the documentation: https://pandas.pydata.org/pandas-docs/stable/user_guide/indexing.html#returning-a-view-versus-a-copy\n",
      "  wrong_df_transformed['Predicted_SUPER_TRANSFORM_ID'] = wrong_df_transformed['Predicted_TRANSFORM_ID'].str.extract(r'\\((.*?)\\)')\n"
     ]
    }
   ],
   "source": [
    "wrong_df_transformed['Actual_SUPER_TRANSFORM_ID'] = wrong_df_transformed['Actual_TRANSFORM_ID'].str.extract(r'\\((.*?)\\)')\n",
    "wrong_df_transformed['Predicted_SUPER_TRANSFORM_ID'] = wrong_df_transformed['Predicted_TRANSFORM_ID'].str.extract(r'\\((.*?)\\)')"
   ]
  },
  {
   "cell_type": "code",
   "execution_count": 14,
   "id": "6f7698f7",
   "metadata": {},
   "outputs": [
    {
     "data": {
      "image/png": "[encoded data removed]",
      "text/plain": [
       "<Figure size 720x648 with 2 Axes>"
      ]
     },
     "metadata": {
      "needs_background": "light"
     },
     "output_type": "display_data"
    }
   ],
   "source": [
    "import pandas as pd\n",
    "import seaborn as sns\n",
    "import matplotlib.pyplot as plt\n",
    "from sklearn.metrics import confusion_matrix\n",
    "import numpy as np\n",
    "from matplotlib.colors import LinearSegmentedColormap, LogNorm\n",
    "\n",
    "# Assuming `wrong_df_transformed` is your dataframe\n",
    "# Load your dataframe here, for example:\n",
    "# wrong_df_transformed = pd.read_csv('path_to_your_file.csv')\n",
    "\n",
    "# Generate the confusion matrix\n",
    "conf_matrix = confusion_matrix(wrong_df_transformed['Actual_SUPER_TRANSFORM_ID'], \n",
    "                               wrong_df_transformed['Predicted_SUPER_TRANSFORM_ID'])\n",
    "\n",
    "# Convert confusion matrix to dataframe for better plotting\n",
    "labels = sorted(wrong_df_transformed['Actual_SUPER_TRANSFORM_ID'].unique())\n",
    "conf_matrix_df = pd.DataFrame(conf_matrix, index=labels, columns=labels)\n",
    "\n",
    "# Normalize the confusion matrix\n",
    "conf_matrix_normalized = conf_matrix_df.div(conf_matrix_df.sum(axis=1), axis=0)\n",
    "\n",
    "# Calculate the accuracy for each superclass\n",
    "accuracy_per_class = conf_matrix_df.to_numpy().diagonal() / conf_matrix_df.sum(axis=1)\n",
    "accuracy_labels = [f'{label} ({accuracy:.0%})' for label, accuracy in zip(labels, accuracy_per_class)]\n",
    "accuracy_df = pd.DataFrame(accuracy_per_class, index=labels, columns=['Accuracy'])\n",
    "\n",
    "# Create a custom colormap with more contrast at the lower end\n",
    "colors = [\n",
    "    (0.0, \"#ffffff\"),\n",
    "    (0.001, \"#e0f7fa\"),  # Very light blue\n",
    "    (0.01, \"#ccefff\"),\n",
    "    (0.1, \"#66cfff\"),\n",
    "    (1.0, \"#001f9f\")  # Very dark blue\n",
    "]\n",
    "cmap_name = 'custom_heatmap'\n",
    "cm = LinearSegmentedColormap.from_list(cmap_name, colors, N=256)\n",
    "\n",
    "# Plotting the heatmap\n",
    "plt.figure(figsize=(10, 9))\n",
    "heatmap = sns.heatmap(conf_matrix_normalized, annot=False, fmt=\".2f\", cmap=cm, cbar=True, linewidths=.5, linecolor='grey', norm=LogNorm(vmin=0.001, vmax=1))\n",
    "plt.title('Confusion matrix (Pre-trained)')\n",
    "plt.xlabel('Predicted Superclass')\n",
    "plt.ylabel('Actual Superclass')\n",
    "\n",
    "# Set y-axis labels with accuracy\n",
    "heatmap.set_yticks(np.arange(len(labels)) + 0.5)\n",
    "heatmap.set_yticklabels(accuracy_labels, rotation=0, fontsize=8)\n",
    "\n",
    "# Adjust x-axis labels\n",
    "plt.xticks(rotation=90, fontsize=8)\n",
    "\n",
    "# Add a color bar with the defined color palette\n",
    "cbar = heatmap.collections[0].colorbar\n",
    "cbar.ax.tick_params(labelsize=10)\n",
    "\n",
    "plt.tight_layout()\n",
    "plt.show()"
   ]
  },
  {
   "cell_type": "code",
   "execution_count": null,
   "id": "dc7788a5",
   "metadata": {},
   "outputs": [],
   "source": []
  }
 ],
 "metadata": {
  "kernelspec": {
   "display_name": "reaction-workbench-env [Python]",
   "language": "python",
   "name": "conda-env-reaction-workbench-env-py"
  },
  "language_info": {
   "codemirror_mode": {
    "name": "ipython",
    "version": 3
   },
   "file_extension": ".py",
   "mimetype": "text/x-python",
   "name": "python",
   "nbconvert_exporter": "python",
   "pygments_lexer": "ipython3",
   "version": "3.8.8"
  }
 },
 "nbformat": 4,
 "nbformat_minor": 5
}
