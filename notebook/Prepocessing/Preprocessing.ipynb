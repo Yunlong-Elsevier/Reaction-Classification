{
 "cells": [
  {
   "cell_type": "code",
   "execution_count": 2,
   "id": "f301aa9c",
   "metadata": {},
   "outputs": [],
   "source": [
    "# Imports\n",
    "import os\n",
    "import numpy as np\n",
    "import pandas as pd\n",
    "from collections import Counter\n",
    "import matplotlib.pyplot as plt"
   ]
  },
  {
   "cell_type": "code",
   "execution_count": 63,
   "id": "38f4e61d",
   "metadata": {},
   "outputs": [
    {
     "name": "stderr",
     "output_type": "stream",
     "text": [
      "/opt/conda/envs/reaction-workbench-env/lib/python3.8/site-packages/IPython/core/interactiveshell.py:3135: DtypeWarning: Columns (5,6,7,8,9,10,11,12,13,14,16,17,18,19,20,21,22,23,24,25,26) have mixed types.Specify dtype option on import or set low_memory=False.\n",
      "  has_raised = await self.run_ast_nodes(code_ast.body, cell_name,\n"
     ]
    }
   ],
   "source": [
    "data = pd.read_csv('../data/3m.tsv', delimiter='\\t')"
   ]
  },
  {
   "cell_type": "code",
   "execution_count": 64,
   "id": "b724089a",
   "metadata": {},
   "outputs": [],
   "source": [
    "df=data"
   ]
  },
  {
   "cell_type": "markdown",
   "id": "52f98702",
   "metadata": {
    "tags": []
   },
   "source": [
    "### Remove Big Reactions"
   ]
  },
  {
   "cell_type": "code",
   "execution_count": 68,
   "id": "86eb8504",
   "metadata": {},
   "outputs": [],
   "source": [
    "# Filter out rows where the number of reactants or products is more than 2\n",
    "df = df[(df['#reactants'] <= 2) & (df['#products'] <= 2)]"
   ]
  },
  {
   "cell_type": "code",
   "execution_count": 66,
   "id": "400e3612",
   "metadata": {},
   "outputs": [],
   "source": [
    "df_bigreactions = df[(df['#reactants'] >= 3) | (df['#products'] >= 3)]"
   ]
  },
  {
   "cell_type": "code",
   "execution_count": 8,
   "id": "22f2b1f5",
   "metadata": {},
   "outputs": [],
   "source": [
    "#df_bigreactions.to_csv('big_reactions.csv', index=False)"
   ]
  },
  {
   "cell_type": "markdown",
   "id": "388d5dc9",
   "metadata": {
    "tags": []
   },
   "source": [
    "### Remove Rare Reactions"
   ]
  },
  {
   "cell_type": "code",
   "execution_count": 69,
   "id": "a1b2a356",
   "metadata": {},
   "outputs": [
    {
     "name": "stderr",
     "output_type": "stream",
     "text": [
      "/tmp/ipykernel_7687/1979647533.py:9: SettingWithCopyWarning: \n",
      "A value is trying to be set on a copy of a slice from a DataFrame.\n",
      "Try using .loc[row_indexer,col_indexer] = value instead\n",
      "\n",
      "See the caveats in the documentation: https://pandas.pydata.org/pandas-docs/stable/user_guide/indexing.html#returning-a-view-versus-a-copy\n",
      "  df['CLASS-ID'] = df.apply(clean_class_id, axis=1)\n"
     ]
    }
   ],
   "source": [
    "# Convert multi Class-ID into one\n",
    "def clean_class_id(row):\n",
    "    # Split the string by comma and convert to a list\n",
    "    class_ids = str(row['CLASS-ID']).split(',')\n",
    "    # Return the first element from the list, ensuring it's an integer\n",
    "    return int(class_ids[0].strip())\n",
    "\n",
    "# Apply the function to the 'CLASS-ID' column\n",
    "df['CLASS-ID'] = df.apply(clean_class_id, axis=1)"
   ]
  },
  {
   "cell_type": "code",
   "execution_count": 70,
   "id": "72a23539",
   "metadata": {},
   "outputs": [],
   "source": [
    "df_exploded = df.explode('CLASS-ID')"
   ]
  },
  {
   "cell_type": "code",
   "execution_count": 71,
   "id": "edfec0c0",
   "metadata": {},
   "outputs": [],
   "source": [
    "#Count the occurrences of each CLASS-ID\n",
    "class_counts = df_exploded['CLASS-ID'].value_counts()\n",
    "rare_classes = class_counts[class_counts < 10].index.tolist()"
   ]
  },
  {
   "cell_type": "code",
   "execution_count": 72,
   "id": "8ed6b5ea",
   "metadata": {},
   "outputs": [],
   "source": [
    "# Filter out rows with rare CLASS-IDs\n",
    "df_filtered = df_exploded[~df_exploded['CLASS-ID'].isin(rare_classes)]"
   ]
  },
  {
   "cell_type": "code",
   "execution_count": 73,
   "id": "17cf1894",
   "metadata": {},
   "outputs": [],
   "source": [
    "df_rare= df_exploded[df_exploded['CLASS-ID'].isin(rare_classes)]"
   ]
  },
  {
   "cell_type": "code",
   "execution_count": 15,
   "id": "8abfaafe",
   "metadata": {},
   "outputs": [],
   "source": [
    "# Convert CLASS-ID back to a string if it's currently a list\n",
    "#df_filtered['CLASS-ID'] = df_filtered['CLASS-ID'].apply(lambda x: ', '.join(x) if isinstance(x, list) else x)"
   ]
  },
  {
   "cell_type": "markdown",
   "id": "c2929f47",
   "metadata": {
    "tags": []
   },
   "source": [
    "### Combine reactants with products"
   ]
  },
  {
   "cell_type": "code",
   "execution_count": 7,
   "id": "6c61270a",
   "metadata": {},
   "outputs": [],
   "source": [
    "def combine_reactants_products(row):\n",
    "    reactants = '.'.join(filter(lambda x: not pd.isnull(x), [row['REACTANT1'], row['REACTANT2']]))\n",
    "    products = '.'.join(filter(lambda x: not pd.isnull(x), [row['PRODUCT1'], row['PRODUCT2']]))\n",
    "    return f\"{reactants}>>{products}\""
   ]
  },
  {
   "cell_type": "code",
   "execution_count": 19,
   "id": "b2a4159c",
   "metadata": {},
   "outputs": [
    {
     "name": "stderr",
     "output_type": "stream",
     "text": [
      "/tmp/ipykernel_7687/134776504.py:1: SettingWithCopyWarning: \n",
      "A value is trying to be set on a copy of a slice from a DataFrame.\n",
      "Try using .loc[row_indexer,col_indexer] = value instead\n",
      "\n",
      "See the caveats in the documentation: https://pandas.pydata.org/pandas-docs/stable/user_guide/indexing.html#returning-a-view-versus-a-copy\n",
      "  df_filtered['reaction'] = df_filtered.apply(combine_reactants_products, axis=1)\n"
     ]
    }
   ],
   "source": [
    "df_filtered['reaction'] = df_filtered.apply(combine_reactants_products, axis=1)"
   ]
  },
  {
   "cell_type": "markdown",
   "id": "790cb008",
   "metadata": {
    "tags": []
   },
   "source": [
    "### Remove unrelevant coloumns"
   ]
  },
  {
   "cell_type": "code",
   "execution_count": 21,
   "id": "7d866fe2",
   "metadata": {},
   "outputs": [],
   "source": [
    "df_total=df_filtered[['CLASS-ID','RX.ID','REACTANT1','REACTANT2','PRODUCT1','PRODUCT2','reaction']]"
   ]
  },
  {
   "cell_type": "code",
   "execution_count": 22,
   "id": "dfaef7e9",
   "metadata": {},
   "outputs": [
    {
     "name": "stderr",
     "output_type": "stream",
     "text": [
      "/tmp/ipykernel_7687/3592978022.py:1: SettingWithCopyWarning: \n",
      "A value is trying to be set on a copy of a slice from a DataFrame.\n",
      "Try using .loc[row_indexer,col_indexer] = value instead\n",
      "\n",
      "See the caveats in the documentation: https://pandas.pydata.org/pandas-docs/stable/user_guide/indexing.html#returning-a-view-versus-a-copy\n",
      "  df_total['product_summary'] = df_total['PRODUCT1'].fillna('') + df_total['PRODUCT2'].fillna('')\n"
     ]
    }
   ],
   "source": [
    "df_total['product_summary'] = df_total['PRODUCT1'].fillna('') + df_total['PRODUCT2'].fillna('')"
   ]
  },
  {
   "cell_type": "code",
   "execution_count": 23,
   "id": "29277da7",
   "metadata": {},
   "outputs": [],
   "source": [
    "df_presplit=df_total[['CLASS-ID','RX.ID','reaction','product_summary']]"
   ]
  },
  {
   "cell_type": "markdown",
   "id": "45849570",
   "metadata": {
    "tags": []
   },
   "source": [
    "### Show some info about the reactions with same products"
   ]
  },
  {
   "cell_type": "code",
   "execution_count": 24,
   "id": "a48e1378",
   "metadata": {},
   "outputs": [],
   "source": [
    "unique_products = df_presplit.groupby('product_summary').ngroup()"
   ]
  },
  {
   "cell_type": "code",
   "execution_count": 26,
   "id": "d099a247",
   "metadata": {},
   "outputs": [],
   "source": [
    "product_counts = df_presplit.groupby('product_summary').size()"
   ]
  },
  {
   "cell_type": "code",
   "execution_count": 57,
   "id": "2e50585c",
   "metadata": {},
   "outputs": [
    {
     "data": {
      "text/plain": [
       "193666"
      ]
     },
     "execution_count": 57,
     "metadata": {},
     "output_type": "execute_result"
    }
   ],
   "source": [
    "df_presplit.duplicated(subset=['CLASS-ID', 'product_summary']).sum()"
   ]
  },
  {
   "cell_type": "code",
   "execution_count": 58,
   "id": "b2226922",
   "metadata": {},
   "outputs": [
    {
     "data": {
      "text/plain": [
       "298087"
      ]
     },
     "execution_count": 58,
     "metadata": {},
     "output_type": "execute_result"
    }
   ],
   "source": [
    "df_presplit.duplicated(subset=['product_summary']).sum()"
   ]
  },
  {
   "cell_type": "markdown",
   "id": "5a19eed6",
   "metadata": {
    "tags": []
   },
   "source": [
    "### Split dataset"
   ]
  },
  {
   "cell_type": "code",
   "execution_count": 30,
   "id": "ee22ab3f",
   "metadata": {},
   "outputs": [],
   "source": [
    "from sklearn.model_selection import train_test_split"
   ]
  },
  {
   "cell_type": "code",
   "execution_count": 31,
   "id": "f990854c",
   "metadata": {},
   "outputs": [],
   "source": [
    "unique_products = df_presplit['product_summary'].unique()"
   ]
  },
  {
   "cell_type": "code",
   "execution_count": 48,
   "id": "964ccc3d",
   "metadata": {},
   "outputs": [],
   "source": [
    "stratify_df = df_presplit.drop_duplicates(subset=['CLASS-ID', 'product_summary'])"
   ]
  },
  {
   "cell_type": "code",
   "execution_count": 53,
   "id": "dd9814df",
   "metadata": {},
   "outputs": [],
   "source": [
    "# Stratify by 'CLASS-ID' to ensure at least one example of every class in the training/test/val set.\n",
    "# Split the stratify_df into training+val and test datasets for further splitting.\n",
    "trainAndVal_df, test_df = train_test_split(\n",
    "    stratify_df, \n",
    "    test_size=0.1,\n",
    "    stratify=stratify_df['CLASS-ID'],\n",
    "    random_state=27\n",
    ")"
   ]
  },
  {
   "cell_type": "code",
   "execution_count": 54,
   "id": "3afc3b99",
   "metadata": {},
   "outputs": [],
   "source": [
    "# Split the temporary set into validation and test sets.\n",
    "train_df, val_df = train_test_split(\n",
    "    trainAndVal_df,\n",
    "    test_size=1/9, \n",
    "    stratify=trainAndVal_df['CLASS-ID'],\n",
    "    random_state=27\n",
    ")"
   ]
  },
  {
   "cell_type": "code",
   "execution_count": 59,
   "id": "8b202c9c",
   "metadata": {},
   "outputs": [
    {
     "data": {
      "text/plain": [
       "(2209000, 276125, 276125)"
      ]
     },
     "execution_count": 59,
     "metadata": {},
     "output_type": "execute_result"
    }
   ],
   "source": [
    "len(train_df), len(val_df), len(test_df)"
   ]
  },
  {
   "cell_type": "code",
   "execution_count": 60,
   "id": "0e11a8dc",
   "metadata": {},
   "outputs": [
    {
     "data": {
      "text/plain": [
       "(2405606, 331181, 330810)"
      ]
     },
     "execution_count": 60,
     "metadata": {},
     "output_type": "execute_result"
    }
   ],
   "source": [
    "# Assign the rest of the data with the same products to the corresponding sets.\n",
    "train_df = df_presplit[df_presplit['product_summary'].isin(train_df['product_summary'])]\n",
    "val_df = df_presplit[df_presplit['product_summary'].isin(val_df['product_summary'])]\n",
    "test_df = df_presplit[df_presplit['product_summary'].isin(test_df['product_summary'])]\n",
    "\n",
    "# The lengths of each dataset will give us the distribution.\n",
    "len(train_df), len(val_df), len(test_df)"
   ]
  },
  {
   "cell_type": "code",
   "execution_count": 39,
   "id": "1c5654e3",
   "metadata": {},
   "outputs": [
    {
     "name": "stdout",
     "output_type": "stream",
     "text": [
      "1299\n",
      "1299\n",
      "1299\n"
     ]
    }
   ],
   "source": [
    "#Make sure all the sets have all the classes\n",
    "print(train_df['CLASS-ID'].nunique())\n",
    "print(val_df['CLASS-ID'].nunique())\n",
    "print(test_df['CLASS-ID'].nunique())"
   ]
  },
  {
   "cell_type": "code",
   "execution_count": 40,
   "id": "a23af188",
   "metadata": {},
   "outputs": [
    {
     "data": {
      "text/plain": [
       "1085    185024\n",
       "432     164914\n",
       "1016    113635\n",
       "60       85921\n",
       "433      60554\n",
       "         ...  \n",
       "1345         8\n",
       "1138         8\n",
       "1404         7\n",
       "500          7\n",
       "1622         7\n",
       "Name: CLASS-ID, Length: 1299, dtype: int64"
      ]
     },
     "execution_count": 40,
     "metadata": {},
     "output_type": "execute_result"
    }
   ],
   "source": [
    "train_df['CLASS-ID'].value_counts()"
   ]
  },
  {
   "cell_type": "code",
   "execution_count": 41,
   "id": "f3483d16",
   "metadata": {},
   "outputs": [
    {
     "data": {
      "text/plain": [
       "1085    24966\n",
       "432     21259\n",
       "1016    15507\n",
       "60      11185\n",
       "433      7977\n",
       "        ...  \n",
       "881         1\n",
       "500         1\n",
       "622         1\n",
       "1133        1\n",
       "121         1\n",
       "Name: CLASS-ID, Length: 1299, dtype: int64"
      ]
     },
     "execution_count": 41,
     "metadata": {},
     "output_type": "execute_result"
    }
   ],
   "source": [
    "test_df['CLASS-ID'].value_counts()"
   ]
  },
  {
   "cell_type": "code",
   "execution_count": 43,
   "id": "2332b46b",
   "metadata": {},
   "outputs": [],
   "source": [
    "train_df.to_csv('../data/train.csv', index=False)\n",
    "val_df.to_csv('../data/val.csv', index=False)\n",
    "test_df.to_csv('../data/test.csv', index=False)"
   ]
  },
  {
   "cell_type": "code",
   "execution_count": 5,
   "id": "66a357af",
   "metadata": {},
   "outputs": [],
   "source": [
    "rare_reactions = pd.read_csv('../data/rare_reactions.csv', delimiter=',')"
   ]
  },
  {
   "cell_type": "code",
   "execution_count": 8,
   "id": "9917b4ad",
   "metadata": {},
   "outputs": [],
   "source": [
    "rare_reactions['reaction'] = rare_reactions.apply(combine_reactants_products, axis=1)"
   ]
  },
  {
   "cell_type": "code",
   "execution_count": 9,
   "id": "c21ad561",
   "metadata": {},
   "outputs": [],
   "source": [
    "rare_reactions=rare_reactions[['CLASS-ID','RX.ID','REACTANT1','REACTANT2','PRODUCT1','PRODUCT2','reaction']]\n",
    "rare_reactions=rare_reactions[['CLASS-ID','RX.ID','reaction']]"
   ]
  },
  {
   "cell_type": "code",
   "execution_count": 11,
   "id": "90250f67",
   "metadata": {},
   "outputs": [],
   "source": [
    "rare_reactions.to_csv('../data/rare.csv', index=False)"
   ]
  }
 ],
 "metadata": {
  "kernelspec": {
   "display_name": "reaction-workbench-env [Python]",
   "language": "python",
   "name": "conda-env-reaction-workbench-env-py"
  },
  "language_info": {
   "codemirror_mode": {
    "name": "ipython",
    "version": 3
   },
   "file_extension": ".py",
   "mimetype": "text/x-python",
   "name": "python",
   "nbconvert_exporter": "python",
   "pygments_lexer": "ipython3",
   "version": "3.8.8"
  }
 },
 "nbformat": 4,
 "nbformat_minor": 5
}
