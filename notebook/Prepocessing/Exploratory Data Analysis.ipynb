{
 "cells": [
  {
   "cell_type": "markdown",
   "id": "b90484b3",
   "metadata": {},
   "source": [
    "# Personal Information\n",
    "Name: **Yunlong Cheng**\n",
    "\n",
    "StudentID: **14949423**\n",
    "\n",
    "Email: [**14949423@student.uva.nl**](youremail@student.uva.nl)\n",
    "\n",
    "Submitted on: **19.03.2024**"
   ]
  },
  {
   "cell_type": "markdown",
   "id": "7e322b5c",
   "metadata": {},
   "source": [
    "# Data Context\n",
    "The Reaxys chemsitry database comprises over 14 million reactions, from which 3.06 million reactions has assigned a single class(Some reactions belong to different Class-ID, but not means belong to different classes). Chemical reactions are represented by SMILES strings, and the dataset is categorized under 1647 distinct class labels. This dataset, focusing solely on reactants and products, demonstrates a substantial imbalance."
   ]
  },
  {
   "cell_type": "markdown",
   "id": "8c8094a1",
   "metadata": {},
   "source": [
    "# Data Description\n",
    "\n",
    "**Analysis 1:** The dataset has 1674 different class labels, and 3060192 different reactions. There are no duplicated data in the dataset, and only one reaction missing the data of products. But here are 228109 rows of reactions may cuase trouble, which contain a \".\" or \">>\"(We are going to combine reactants and products into R1.R2>>P1.P2).\n",
    "\n",
    "**Analysis 2:** We visualized the distribution of counts of reactants and products for each reaction, and find 51.5% reactions having 2 reactants and 1 product, which are the most common in this dataset. 38.3% reactions have 1 reactant and 1 product, which are the second common in this dataset. Only 2.2% reactions have the number of reactants or products greater than 3.\n",
    "\n",
    "**Analysis 3:** We visualized the number of each reactions belonging to different Class-IDs. 81.19% reactions only belong to one Class-ID, 16.85% belong to two different IDs. However, in our dataset, different Class-IDs are not meaning with different different reaction classes.\n",
    "\n",
    "**Analysis 4:** We visualized the population of class label, and there are many Classes with low population of reaction which may be not sufficient for training, 500 of the 1470 classes with less than 50 reactions.\n"
   ]
  },
  {
   "cell_type": "markdown",
   "id": "b407640a",
   "metadata": {},
   "source": [
    "## Data Loading"
   ]
  },
  {
   "cell_type": "code",
   "execution_count": 2,
   "id": "23536122",
   "metadata": {},
   "outputs": [],
   "source": [
    "# Imports\n",
    "import os\n",
    "import numpy as np\n",
    "import pandas as pd\n",
    "from collections import Counter\n",
    "import matplotlib.pyplot as plt"
   ]
  },
  {
   "cell_type": "code",
   "execution_count": 3,
   "id": "5f49ecdd",
   "metadata": {},
   "outputs": [
    {
     "name": "stderr",
     "output_type": "stream",
     "text": [
      "/tmp/ipykernel_3198888/807572233.py:1: DtypeWarning: Columns (5,6,7,8,9,10,11,12,13,14,16,17,18,19,20,21,22,23,24,25,26) have mixed types. Specify dtype option on import or set low_memory=False.\n",
      "  df = pd.read_csv('../data/3m.tsv', delimiter='\\t')\n"
     ]
    }
   ],
   "source": [
    "df = pd.read_csv('../data/3m.tsv', delimiter='\\t')"
   ]
  },
  {
   "cell_type": "code",
   "execution_count": 4,
   "id": "12f1cef6",
   "metadata": {},
   "outputs": [
    {
     "data": {
      "text/html": [
       "<div>\n",
       "<style scoped>\n",
       "    .dataframe tbody tr th:only-of-type {\n",
       "        vertical-align: middle;\n",
       "    }\n",
       "\n",
       "    .dataframe tbody tr th {\n",
       "        vertical-align: top;\n",
       "    }\n",
       "\n",
       "    .dataframe thead th {\n",
       "        text-align: right;\n",
       "    }\n",
       "</style>\n",
       "<table border=\"1\" class=\"dataframe\">\n",
       "  <thead>\n",
       "    <tr style=\"text-align: right;\">\n",
       "      <th></th>\n",
       "      <th>CLASS-ID</th>\n",
       "      <th>RX.ID</th>\n",
       "      <th>#reactants</th>\n",
       "      <th>#products</th>\n",
       "      <th>REACTANT1</th>\n",
       "      <th>REACTANT2</th>\n",
       "      <th>REACTANT3</th>\n",
       "      <th>REACTANT4</th>\n",
       "      <th>REACTANT5</th>\n",
       "      <th>REACTANT6</th>\n",
       "      <th>...</th>\n",
       "      <th>PRODUCT3</th>\n",
       "      <th>PRODUCT4</th>\n",
       "      <th>PRODUCT5</th>\n",
       "      <th>PRODUCT6</th>\n",
       "      <th>PRODUCT7</th>\n",
       "      <th>PRODUCT8</th>\n",
       "      <th>PRODUCT9</th>\n",
       "      <th>PRODUCT10</th>\n",
       "      <th>PRODUCT11</th>\n",
       "      <th>PRODUCT12</th>\n",
       "    </tr>\n",
       "  </thead>\n",
       "  <tbody>\n",
       "    <tr>\n",
       "      <th>0</th>\n",
       "      <td>272, 327, 1128, 1226</td>\n",
       "      <td>20308219</td>\n",
       "      <td>1</td>\n",
       "      <td>1</td>\n",
       "      <td>CC1(C)O[C@H]2[C@H]3C[C@@H]([C@H]2O1)C(=O)C3</td>\n",
       "      <td>NaN</td>\n",
       "      <td>NaN</td>\n",
       "      <td>NaN</td>\n",
       "      <td>NaN</td>\n",
       "      <td>NaN</td>\n",
       "      <td>...</td>\n",
       "      <td>NaN</td>\n",
       "      <td>NaN</td>\n",
       "      <td>NaN</td>\n",
       "      <td>NaN</td>\n",
       "      <td>NaN</td>\n",
       "      <td>NaN</td>\n",
       "      <td>NaN</td>\n",
       "      <td>NaN</td>\n",
       "      <td>NaN</td>\n",
       "      <td>NaN</td>\n",
       "    </tr>\n",
       "    <tr>\n",
       "      <th>1</th>\n",
       "      <td>84</td>\n",
       "      <td>20308266</td>\n",
       "      <td>1</td>\n",
       "      <td>1</td>\n",
       "      <td>CC(=O)OC(\\C=C\\c1ccccc1)C#N</td>\n",
       "      <td>NaN</td>\n",
       "      <td>NaN</td>\n",
       "      <td>NaN</td>\n",
       "      <td>NaN</td>\n",
       "      <td>NaN</td>\n",
       "      <td>...</td>\n",
       "      <td>NaN</td>\n",
       "      <td>NaN</td>\n",
       "      <td>NaN</td>\n",
       "      <td>NaN</td>\n",
       "      <td>NaN</td>\n",
       "      <td>NaN</td>\n",
       "      <td>NaN</td>\n",
       "      <td>NaN</td>\n",
       "      <td>NaN</td>\n",
       "      <td>NaN</td>\n",
       "    </tr>\n",
       "    <tr>\n",
       "      <th>2</th>\n",
       "      <td>68</td>\n",
       "      <td>20308388</td>\n",
       "      <td>1</td>\n",
       "      <td>1</td>\n",
       "      <td>CC1(C)O[C@H]2[C@H](OC(=O)[C@H]2O1)[C@@H](O)CO</td>\n",
       "      <td>NaN</td>\n",
       "      <td>NaN</td>\n",
       "      <td>NaN</td>\n",
       "      <td>NaN</td>\n",
       "      <td>NaN</td>\n",
       "      <td>...</td>\n",
       "      <td>NaN</td>\n",
       "      <td>NaN</td>\n",
       "      <td>NaN</td>\n",
       "      <td>NaN</td>\n",
       "      <td>NaN</td>\n",
       "      <td>NaN</td>\n",
       "      <td>NaN</td>\n",
       "      <td>NaN</td>\n",
       "      <td>NaN</td>\n",
       "      <td>NaN</td>\n",
       "    </tr>\n",
       "    <tr>\n",
       "      <th>3</th>\n",
       "      <td>1872</td>\n",
       "      <td>20308549</td>\n",
       "      <td>1</td>\n",
       "      <td>1</td>\n",
       "      <td>O=Cc1ccccc1</td>\n",
       "      <td>NaN</td>\n",
       "      <td>NaN</td>\n",
       "      <td>NaN</td>\n",
       "      <td>NaN</td>\n",
       "      <td>NaN</td>\n",
       "      <td>...</td>\n",
       "      <td>NaN</td>\n",
       "      <td>NaN</td>\n",
       "      <td>NaN</td>\n",
       "      <td>NaN</td>\n",
       "      <td>NaN</td>\n",
       "      <td>NaN</td>\n",
       "      <td>NaN</td>\n",
       "      <td>NaN</td>\n",
       "      <td>NaN</td>\n",
       "      <td>NaN</td>\n",
       "    </tr>\n",
       "    <tr>\n",
       "      <th>4</th>\n",
       "      <td>636</td>\n",
       "      <td>20308813</td>\n",
       "      <td>1</td>\n",
       "      <td>1</td>\n",
       "      <td>ClC(=O)c1ccccc1</td>\n",
       "      <td>NaN</td>\n",
       "      <td>NaN</td>\n",
       "      <td>NaN</td>\n",
       "      <td>NaN</td>\n",
       "      <td>NaN</td>\n",
       "      <td>...</td>\n",
       "      <td>NaN</td>\n",
       "      <td>NaN</td>\n",
       "      <td>NaN</td>\n",
       "      <td>NaN</td>\n",
       "      <td>NaN</td>\n",
       "      <td>NaN</td>\n",
       "      <td>NaN</td>\n",
       "      <td>NaN</td>\n",
       "      <td>NaN</td>\n",
       "      <td>NaN</td>\n",
       "    </tr>\n",
       "    <tr>\n",
       "      <th>...</th>\n",
       "      <td>...</td>\n",
       "      <td>...</td>\n",
       "      <td>...</td>\n",
       "      <td>...</td>\n",
       "      <td>...</td>\n",
       "      <td>...</td>\n",
       "      <td>...</td>\n",
       "      <td>...</td>\n",
       "      <td>...</td>\n",
       "      <td>...</td>\n",
       "      <td>...</td>\n",
       "      <td>...</td>\n",
       "      <td>...</td>\n",
       "      <td>...</td>\n",
       "      <td>...</td>\n",
       "      <td>...</td>\n",
       "      <td>...</td>\n",
       "      <td>...</td>\n",
       "      <td>...</td>\n",
       "      <td>...</td>\n",
       "      <td>...</td>\n",
       "    </tr>\n",
       "    <tr>\n",
       "      <th>3060187</th>\n",
       "      <td>72</td>\n",
       "      <td>20308054</td>\n",
       "      <td>1</td>\n",
       "      <td>1</td>\n",
       "      <td>CCc1ccc2c3ccc4c(OC(C)=O)ccc([C@@H]5O[C@H](COC(...</td>\n",
       "      <td>NaN</td>\n",
       "      <td>NaN</td>\n",
       "      <td>NaN</td>\n",
       "      <td>NaN</td>\n",
       "      <td>NaN</td>\n",
       "      <td>...</td>\n",
       "      <td>NaN</td>\n",
       "      <td>NaN</td>\n",
       "      <td>NaN</td>\n",
       "      <td>NaN</td>\n",
       "      <td>NaN</td>\n",
       "      <td>NaN</td>\n",
       "      <td>NaN</td>\n",
       "      <td>NaN</td>\n",
       "      <td>NaN</td>\n",
       "      <td>NaN</td>\n",
       "    </tr>\n",
       "    <tr>\n",
       "      <th>3060188</th>\n",
       "      <td>42</td>\n",
       "      <td>20308093</td>\n",
       "      <td>1</td>\n",
       "      <td>1</td>\n",
       "      <td>CC1(C)C2CC1C(=C)CC2</td>\n",
       "      <td>NaN</td>\n",
       "      <td>NaN</td>\n",
       "      <td>NaN</td>\n",
       "      <td>NaN</td>\n",
       "      <td>NaN</td>\n",
       "      <td>...</td>\n",
       "      <td>NaN</td>\n",
       "      <td>NaN</td>\n",
       "      <td>NaN</td>\n",
       "      <td>NaN</td>\n",
       "      <td>NaN</td>\n",
       "      <td>NaN</td>\n",
       "      <td>NaN</td>\n",
       "      <td>NaN</td>\n",
       "      <td>NaN</td>\n",
       "      <td>NaN</td>\n",
       "    </tr>\n",
       "    <tr>\n",
       "      <th>3060189</th>\n",
       "      <td>42</td>\n",
       "      <td>20308094</td>\n",
       "      <td>1</td>\n",
       "      <td>1</td>\n",
       "      <td>CC1(C)C2CC1C(=C)CC2</td>\n",
       "      <td>NaN</td>\n",
       "      <td>NaN</td>\n",
       "      <td>NaN</td>\n",
       "      <td>NaN</td>\n",
       "      <td>NaN</td>\n",
       "      <td>...</td>\n",
       "      <td>NaN</td>\n",
       "      <td>NaN</td>\n",
       "      <td>NaN</td>\n",
       "      <td>NaN</td>\n",
       "      <td>NaN</td>\n",
       "      <td>NaN</td>\n",
       "      <td>NaN</td>\n",
       "      <td>NaN</td>\n",
       "      <td>NaN</td>\n",
       "      <td>NaN</td>\n",
       "    </tr>\n",
       "    <tr>\n",
       "      <th>3060190</th>\n",
       "      <td>256</td>\n",
       "      <td>20308164</td>\n",
       "      <td>1</td>\n",
       "      <td>1</td>\n",
       "      <td>COC(=O)CCC[C@H](O)C=CBr</td>\n",
       "      <td>NaN</td>\n",
       "      <td>NaN</td>\n",
       "      <td>NaN</td>\n",
       "      <td>NaN</td>\n",
       "      <td>NaN</td>\n",
       "      <td>...</td>\n",
       "      <td>NaN</td>\n",
       "      <td>NaN</td>\n",
       "      <td>NaN</td>\n",
       "      <td>NaN</td>\n",
       "      <td>NaN</td>\n",
       "      <td>NaN</td>\n",
       "      <td>NaN</td>\n",
       "      <td>NaN</td>\n",
       "      <td>NaN</td>\n",
       "      <td>NaN</td>\n",
       "    </tr>\n",
       "    <tr>\n",
       "      <th>3060191</th>\n",
       "      <td>670</td>\n",
       "      <td>20308180</td>\n",
       "      <td>1</td>\n",
       "      <td>1</td>\n",
       "      <td>C[C@@H](OC(C)=O)\\C=C\\[C@H](C)OC(C)=O</td>\n",
       "      <td>NaN</td>\n",
       "      <td>NaN</td>\n",
       "      <td>NaN</td>\n",
       "      <td>NaN</td>\n",
       "      <td>NaN</td>\n",
       "      <td>...</td>\n",
       "      <td>NaN</td>\n",
       "      <td>NaN</td>\n",
       "      <td>NaN</td>\n",
       "      <td>NaN</td>\n",
       "      <td>NaN</td>\n",
       "      <td>NaN</td>\n",
       "      <td>NaN</td>\n",
       "      <td>NaN</td>\n",
       "      <td>NaN</td>\n",
       "      <td>NaN</td>\n",
       "    </tr>\n",
       "  </tbody>\n",
       "</table>\n",
       "<p>3060192 rows × 27 columns</p>\n",
       "</div>"
      ],
      "text/plain": [
       "                     CLASS-ID     RX.ID  #reactants  #products  \\\n",
       "0        272, 327, 1128, 1226  20308219           1          1   \n",
       "1                          84  20308266           1          1   \n",
       "2                          68  20308388           1          1   \n",
       "3                        1872  20308549           1          1   \n",
       "4                         636  20308813           1          1   \n",
       "...                       ...       ...         ...        ...   \n",
       "3060187                    72  20308054           1          1   \n",
       "3060188                    42  20308093           1          1   \n",
       "3060189                    42  20308094           1          1   \n",
       "3060190                   256  20308164           1          1   \n",
       "3060191                   670  20308180           1          1   \n",
       "\n",
       "                                                 REACTANT1 REACTANT2  \\\n",
       "0              CC1(C)O[C@H]2[C@H]3C[C@@H]([C@H]2O1)C(=O)C3       NaN   \n",
       "1                               CC(=O)OC(\\C=C\\c1ccccc1)C#N       NaN   \n",
       "2            CC1(C)O[C@H]2[C@H](OC(=O)[C@H]2O1)[C@@H](O)CO       NaN   \n",
       "3                                              O=Cc1ccccc1       NaN   \n",
       "4                                          ClC(=O)c1ccccc1       NaN   \n",
       "...                                                    ...       ...   \n",
       "3060187  CCc1ccc2c3ccc4c(OC(C)=O)ccc([C@@H]5O[C@H](COC(...       NaN   \n",
       "3060188                                CC1(C)C2CC1C(=C)CC2       NaN   \n",
       "3060189                                CC1(C)C2CC1C(=C)CC2       NaN   \n",
       "3060190                            COC(=O)CCC[C@H](O)C=CBr       NaN   \n",
       "3060191               C[C@@H](OC(C)=O)\\C=C\\[C@H](C)OC(C)=O       NaN   \n",
       "\n",
       "        REACTANT3 REACTANT4 REACTANT5 REACTANT6  ... PRODUCT3 PRODUCT4  \\\n",
       "0             NaN       NaN       NaN       NaN  ...      NaN      NaN   \n",
       "1             NaN       NaN       NaN       NaN  ...      NaN      NaN   \n",
       "2             NaN       NaN       NaN       NaN  ...      NaN      NaN   \n",
       "3             NaN       NaN       NaN       NaN  ...      NaN      NaN   \n",
       "4             NaN       NaN       NaN       NaN  ...      NaN      NaN   \n",
       "...           ...       ...       ...       ...  ...      ...      ...   \n",
       "3060187       NaN       NaN       NaN       NaN  ...      NaN      NaN   \n",
       "3060188       NaN       NaN       NaN       NaN  ...      NaN      NaN   \n",
       "3060189       NaN       NaN       NaN       NaN  ...      NaN      NaN   \n",
       "3060190       NaN       NaN       NaN       NaN  ...      NaN      NaN   \n",
       "3060191       NaN       NaN       NaN       NaN  ...      NaN      NaN   \n",
       "\n",
       "        PRODUCT5 PRODUCT6 PRODUCT7 PRODUCT8 PRODUCT9 PRODUCT10 PRODUCT11  \\\n",
       "0            NaN      NaN      NaN      NaN      NaN       NaN       NaN   \n",
       "1            NaN      NaN      NaN      NaN      NaN       NaN       NaN   \n",
       "2            NaN      NaN      NaN      NaN      NaN       NaN       NaN   \n",
       "3            NaN      NaN      NaN      NaN      NaN       NaN       NaN   \n",
       "4            NaN      NaN      NaN      NaN      NaN       NaN       NaN   \n",
       "...          ...      ...      ...      ...      ...       ...       ...   \n",
       "3060187      NaN      NaN      NaN      NaN      NaN       NaN       NaN   \n",
       "3060188      NaN      NaN      NaN      NaN      NaN       NaN       NaN   \n",
       "3060189      NaN      NaN      NaN      NaN      NaN       NaN       NaN   \n",
       "3060190      NaN      NaN      NaN      NaN      NaN       NaN       NaN   \n",
       "3060191      NaN      NaN      NaN      NaN      NaN       NaN       NaN   \n",
       "\n",
       "        PRODUCT12  \n",
       "0             NaN  \n",
       "1             NaN  \n",
       "2             NaN  \n",
       "3             NaN  \n",
       "4             NaN  \n",
       "...           ...  \n",
       "3060187       NaN  \n",
       "3060188       NaN  \n",
       "3060189       NaN  \n",
       "3060190       NaN  \n",
       "3060191       NaN  \n",
       "\n",
       "[3060192 rows x 27 columns]"
      ]
     },
     "execution_count": 4,
     "metadata": {},
     "output_type": "execute_result"
    }
   ],
   "source": [
    "df"
   ]
  },
  {
   "cell_type": "code",
   "execution_count": 5,
   "id": "8d15bbe7",
   "metadata": {},
   "outputs": [],
   "source": [
    "data = df"
   ]
  },
  {
   "cell_type": "markdown",
   "id": "e5b21f7c",
   "metadata": {},
   "source": [
    "### Analysis 1: \n",
    "For this part, we are ging to show some basic statistics in this dataset, also do some data checkings."
   ]
  },
  {
   "cell_type": "markdown",
   "id": "a5caf2fd",
   "metadata": {},
   "source": [
    "#### The number of classes"
   ]
  },
  {
   "cell_type": "code",
   "execution_count": 7,
   "id": "664ef405",
   "metadata": {},
   "outputs": [
    {
     "data": {
      "text/plain": [
       "1674"
      ]
     },
     "execution_count": 7,
     "metadata": {},
     "output_type": "execute_result"
    }
   ],
   "source": [
    "unique_class_ids = set()\n",
    "data['CLASS-ID'].str.split(',').apply(lambda x: unique_class_ids.update(x))\n",
    "unique_class_id_count = len(unique_class_ids)\n",
    "unique_class_id_count"
   ]
  },
  {
   "cell_type": "markdown",
   "id": "84eb1a00",
   "metadata": {},
   "source": [
    "#### Dubplicate checking"
   ]
  },
  {
   "cell_type": "code",
   "execution_count": 8,
   "id": "778c6e50",
   "metadata": {},
   "outputs": [
    {
     "data": {
      "text/plain": [
       "0"
      ]
     },
     "execution_count": 8,
     "metadata": {},
     "output_type": "execute_result"
    }
   ],
   "source": [
    "duplicate_rows_count = data.duplicated().sum()\n",
    "duplicate_rows_count"
   ]
  },
  {
   "cell_type": "code",
   "execution_count": 9,
   "id": "9b2d6c43",
   "metadata": {},
   "outputs": [
    {
     "data": {
      "text/plain": [
       "0"
      ]
     },
     "execution_count": 9,
     "metadata": {},
     "output_type": "execute_result"
    }
   ],
   "source": [
    "duplicate_rx_id_count = data['RX.ID'].duplicated().sum()\n",
    "duplicate_rx_id_count"
   ]
  },
  {
   "cell_type": "markdown",
   "id": "1ab2c428",
   "metadata": {},
   "source": [
    "#### Missing reactants or products checking"
   ]
  },
  {
   "cell_type": "code",
   "execution_count": 10,
   "id": "8549bc78",
   "metadata": {},
   "outputs": [],
   "source": [
    "# Define a function to check for reactions without reactants or products\n",
    "def check_missing_reactants_or_products(row):\n",
    "    has_reactants = row['#reactants'] > 0 and pd.notna(row['REACTANT1'])\n",
    "    has_products = row['#products'] > 0 and pd.notna(row['PRODUCT1'])\n",
    "    return not (has_reactants and has_products)"
   ]
  },
  {
   "cell_type": "code",
   "execution_count": 11,
   "id": "42a5100d",
   "metadata": {},
   "outputs": [
    {
     "data": {
      "text/plain": [
       "1"
      ]
     },
     "execution_count": 11,
     "metadata": {},
     "output_type": "execute_result"
    }
   ],
   "source": [
    "missing_data_count = data.apply(check_missing_reactants_or_products, axis=1).sum()\n",
    "missing_data_count"
   ]
  },
  {
   "cell_type": "code",
   "execution_count": 12,
   "id": "06a56020",
   "metadata": {},
   "outputs": [
    {
     "data": {
      "text/html": [
       "<div>\n",
       "<style scoped>\n",
       "    .dataframe tbody tr th:only-of-type {\n",
       "        vertical-align: middle;\n",
       "    }\n",
       "\n",
       "    .dataframe tbody tr th {\n",
       "        vertical-align: top;\n",
       "    }\n",
       "\n",
       "    .dataframe thead th {\n",
       "        text-align: right;\n",
       "    }\n",
       "</style>\n",
       "<table border=\"1\" class=\"dataframe\">\n",
       "  <thead>\n",
       "    <tr style=\"text-align: right;\">\n",
       "      <th></th>\n",
       "      <th>CLASS-ID</th>\n",
       "      <th>RX.ID</th>\n",
       "      <th>#reactants</th>\n",
       "      <th>#products</th>\n",
       "      <th>REACTANT1</th>\n",
       "      <th>REACTANT2</th>\n",
       "      <th>REACTANT3</th>\n",
       "      <th>REACTANT4</th>\n",
       "      <th>REACTANT5</th>\n",
       "      <th>REACTANT6</th>\n",
       "      <th>...</th>\n",
       "      <th>PRODUCT3</th>\n",
       "      <th>PRODUCT4</th>\n",
       "      <th>PRODUCT5</th>\n",
       "      <th>PRODUCT6</th>\n",
       "      <th>PRODUCT7</th>\n",
       "      <th>PRODUCT8</th>\n",
       "      <th>PRODUCT9</th>\n",
       "      <th>PRODUCT10</th>\n",
       "      <th>PRODUCT11</th>\n",
       "      <th>PRODUCT12</th>\n",
       "    </tr>\n",
       "  </thead>\n",
       "  <tbody>\n",
       "    <tr>\n",
       "      <th>2064408</th>\n",
       "      <td>912, 1407</td>\n",
       "      <td>49004297</td>\n",
       "      <td>2</td>\n",
       "      <td>1</td>\n",
       "      <td>[C]c1cccc(N)c1C=O</td>\n",
       "      <td>CC[C@@]1(O)C(=O)OCc2c1cc1C(=O)CCn1c2=O</td>\n",
       "      <td>NaN</td>\n",
       "      <td>NaN</td>\n",
       "      <td>NaN</td>\n",
       "      <td>NaN</td>\n",
       "      <td>...</td>\n",
       "      <td>NaN</td>\n",
       "      <td>NaN</td>\n",
       "      <td>NaN</td>\n",
       "      <td>NaN</td>\n",
       "      <td>NaN</td>\n",
       "      <td>NaN</td>\n",
       "      <td>NaN</td>\n",
       "      <td>NaN</td>\n",
       "      <td>NaN</td>\n",
       "      <td>NaN</td>\n",
       "    </tr>\n",
       "  </tbody>\n",
       "</table>\n",
       "<p>1 rows × 27 columns</p>\n",
       "</div>"
      ],
      "text/plain": [
       "          CLASS-ID     RX.ID  #reactants  #products          REACTANT1  \\\n",
       "2064408  912, 1407  49004297           2          1  [C]c1cccc(N)c1C=O   \n",
       "\n",
       "                                      REACTANT2 REACTANT3 REACTANT4 REACTANT5  \\\n",
       "2064408  CC[C@@]1(O)C(=O)OCc2c1cc1C(=O)CCn1c2=O       NaN       NaN       NaN   \n",
       "\n",
       "        REACTANT6  ... PRODUCT3 PRODUCT4 PRODUCT5 PRODUCT6 PRODUCT7 PRODUCT8  \\\n",
       "2064408       NaN  ...      NaN      NaN      NaN      NaN      NaN      NaN   \n",
       "\n",
       "        PRODUCT9 PRODUCT10 PRODUCT11 PRODUCT12  \n",
       "2064408      NaN       NaN       NaN       NaN  \n",
       "\n",
       "[1 rows x 27 columns]"
      ]
     },
     "execution_count": 12,
     "metadata": {},
     "output_type": "execute_result"
    }
   ],
   "source": [
    "missing_data = data[data.apply(check_missing_reactants_or_products, axis=1)]\n",
    "missing_data"
   ]
  },
  {
   "cell_type": "markdown",
   "id": "825bda73",
   "metadata": {},
   "source": [
    "#### Trouble data checking"
   ]
  },
  {
   "cell_type": "code",
   "execution_count": 13,
   "id": "fa63a222",
   "metadata": {},
   "outputs": [],
   "source": [
    "# Define a function to check if a value contains a \".\" or \">>\", because we are going to combine reactants and products into R1.R2>>P1.P2.\n",
    "def check_special_characters(value):\n",
    "    if pd.isna(value):\n",
    "        return False\n",
    "    return '.' in value or '>>' in value"
   ]
  },
  {
   "cell_type": "code",
   "execution_count": 14,
   "id": "a4dc0b14",
   "metadata": {},
   "outputs": [
    {
     "data": {
      "text/plain": [
       "258373"
      ]
     },
     "execution_count": 14,
     "metadata": {},
     "output_type": "execute_result"
    }
   ],
   "source": [
    "special_character_counts = sum(\n",
    "    data[column].apply(check_special_characters).sum()\n",
    "    for column in ['REACTANT1', 'REACTANT2', 'REACTANT3', 'REACTANT4', 'REACTANT5', 'PRODUCT1', 'PRODUCT2', 'PRODUCT3', 'PRODUCT4', 'PRODUCT5']\n",
    ")\n",
    "special_character_counts"
   ]
  },
  {
   "cell_type": "code",
   "execution_count": 15,
   "id": "b617fd9f",
   "metadata": {},
   "outputs": [
    {
     "name": "stderr",
     "output_type": "stream",
     "text": [
      "\n",
      "KeyboardInterrupt\n",
      "\n"
     ]
    }
   ],
   "source": [
    "def row_contains_special_characters(row):\n",
    "    for item in row[['REACTANT1', 'REACTANT2', 'REACTANT3', 'REACTANT4', 'REACTANT5', 'PRODUCT1', 'PRODUCT2', 'PRODUCT3', 'PRODUCT4', 'PRODUCT5']]:\n",
    "        if pd.notna(item) and ('.' in item or '>>' in item):\n",
    "            return True\n",
    "    return False\n",
    "trouble_rows = data[data.apply(row_contains_special_characters, axis=1)]\n",
    "trouble_rows"
   ]
  },
  {
   "cell_type": "markdown",
   "id": "76aedcd2",
   "metadata": {},
   "source": [
    "### Analysis 2: \n",
    "Count of reactants and products per reaction"
   ]
  },
  {
   "cell_type": "code",
   "execution_count": 6,
   "id": "d9568244",
   "metadata": {},
   "outputs": [],
   "source": [
    "combination_counts = {}\n",
    "# Loop over each row in the data to count combinations of reactants and products\n",
    "for _, row in data.iterrows():\n",
    "    reactants = row['#reactants']\n",
    "    products = row['#products']\n",
    "    key = (reactants, products)\n",
    "    \n",
    "    if key in combination_counts:\n",
    "        combination_counts[key] += 1\n",
    "    else:\n",
    "        combination_counts[key] = 1"
   ]
  },
  {
   "cell_type": "code",
   "execution_count": 7,
   "id": "fdd5e312",
   "metadata": {},
   "outputs": [],
   "source": [
    "# Convert counts to percentages and combine all counts of reactants or products greater than 3 into 'other'\n",
    "total_reactions = sum(combination_counts.values())\n",
    "combination_percentages = {}\n",
    "other_percentage = 0\n",
    "for key, count in combination_counts.items():\n",
    "    if key[0] > 3 or key[1] > 3:\n",
    "        other_percentage += (count / total_reactions) * 100\n",
    "    else:\n",
    "        combination_percentages[key] = (count / total_reactions) * 100"
   ]
  },
  {
   "cell_type": "code",
   "execution_count": 8,
   "id": "2720c9de",
   "metadata": {},
   "outputs": [],
   "source": [
    "# If there's any 'other' percentage, we add it to the dictionary\n",
    "if other_percentage > 0:\n",
    "    combination_percentages['other'] = other_percentage"
   ]
  },
  {
   "cell_type": "code",
   "execution_count": 9,
   "id": "d28dcc05",
   "metadata": {},
   "outputs": [],
   "source": [
    "# Sorting the keys for a nicer plot, first by reactants then by products\n",
    "sorted_keys = sorted(combination_percentages, key=lambda x: (x if x != 'other' else (4, 4)))"
   ]
  },
  {
   "cell_type": "code",
   "execution_count": 17,
   "id": "b01e2fde",
   "metadata": {},
   "outputs": [
    {
     "data": {
      "image/png": "[encoded data removed]",
      "text/plain": [
       "<Figure size 720x360 with 1 Axes>"
      ]
     },
     "metadata": {
      "needs_background": "light"
     },
     "output_type": "display_data"
    }
   ],
   "source": [
    "# Plotting\n",
    "x_labels = [f'{k[0]} >> {k[1]}' if k != 'other' else 'other' for k in sorted_keys]\n",
    "percentages = [combination_percentages[k] for k in sorted_keys]\n",
    "\n",
    "fig, ax = plt.subplots(figsize=(10,5))\n",
    "bars = ax.bar(x_labels, percentages, color='#00b0be')\n",
    "ax.set_xlabel('Number of reactants >> Number of products')\n",
    "ax.set_ylabel('% of reactions')\n",
    "ax.set_title('Count of reactants and products per reaction')\n",
    "\n",
    "for bar, percentage in zip(bars, percentages):\n",
    "    ax.text(bar.get_x() + bar.get_width() / 2, bar.get_height(), f'{percentage:.1f}%', \n",
    "            ha='center', va='bottom')\n",
    "plt.xticks(rotation=45)\n",
    "plt.show()"
   ]
  },
  {
   "cell_type": "markdown",
   "id": "a8500968",
   "metadata": {},
   "source": [
    "### Analysis 3:\n",
    "Reactions Belonging to Different Number of Class-ID"
   ]
  },
  {
   "cell_type": "code",
   "execution_count": 20,
   "id": "a85bf570",
   "metadata": {},
   "outputs": [],
   "source": [
    "num_classes_per_reaction = data['CLASS-ID'].str.split(', ').apply(len)\n",
    "num_classes_counts = num_classes_per_reaction.value_counts(normalize=True).sort_index() * 100"
   ]
  },
  {
   "cell_type": "code",
   "execution_count": 21,
   "id": "ee52a773",
   "metadata": {},
   "outputs": [
    {
     "data": {
      "image/png": "[encoded data removed]",
      "text/plain": [
       "<Figure size 600x400 with 1 Axes>"
      ]
     },
     "metadata": {},
     "output_type": "display_data"
    }
   ],
   "source": [
    "# Plot the distribution\n",
    "fig, ax = plt.subplots(figsize=(6,4))\n",
    "bars = ax.bar(num_classes_counts.index, num_classes_counts.values)\n",
    "\n",
    "ax.set_xlabel('Number of Different Class-IDs per Reaction')\n",
    "ax.set_ylabel('% of Reactions')\n",
    "ax.set_title('Reactions Belonging to Different Number of Class-IDs')\n",
    "\n",
    "for bar in bars:\n",
    "    yval = bar.get_height()\n",
    "    ax.text(bar.get_x() + bar.get_width()/2, yval + 1, f'{yval:.2f}%', ha='center', va='baseline')\n",
    "\n",
    "plt.show()"
   ]
  },
  {
   "cell_type": "markdown",
   "id": "3b4bc697",
   "metadata": {},
   "source": [
    "### Analysis 4:\n",
    "Population of Class Label"
   ]
  },
  {
   "cell_type": "code",
   "execution_count": 13,
   "id": "865df838",
   "metadata": {},
   "outputs": [],
   "source": [
    "# Split some reactions belongs to many classes.\n",
    "df['CLASS-ID'] = df['CLASS-ID'].astype(str)\n",
    "df = df.assign(**{'CLASS-ID': df['CLASS-ID'].str.split(', ')}).explode('CLASS-ID')"
   ]
  },
  {
   "cell_type": "code",
   "execution_count": 14,
   "id": "c1d028eb",
   "metadata": {},
   "outputs": [],
   "source": [
    "# Count the occurrences of each CLASS-ID\n",
    "id_counts = df['CLASS-ID'].value_counts()\n",
    "count_data = pd.DataFrame({'CLASS-ID': id_counts.index, 'Count': id_counts.values})"
   ]
  },
  {
   "cell_type": "code",
   "execution_count": 15,
   "id": "bedd3e7b",
   "metadata": {},
   "outputs": [],
   "source": [
    "# Define bins and labels for the specified ranges based on count\n",
    "bins = [0, 10, 50, 100, 500, 1000, np.inf]\n",
    "labels = ['1-10', '11-50', '51-100', '101-500', '501-1000', '1001+']\n",
    "# Categorize the count of CLASS-IDs into the defined bins\n",
    "count_data['Range Group'] = pd.cut(count_data['Count'], bins=bins, labels=labels)\n",
    "# Count the number of CLASS-ID occurrences in each range\n",
    "range_group_counts = count_data['Range Group'].value_counts().reindex(labels)"
   ]
  },
  {
   "cell_type": "code",
   "execution_count": 24,
   "id": "b0c4dfb5",
   "metadata": {},
   "outputs": [
    {
     "data": {
      "image/png": "[encoded data removed]",
      "text/plain": [
       "<Figure size 720x360 with 1 Axes>"
      ]
     },
     "metadata": {
      "needs_background": "light"
     },
     "output_type": "display_data"
    }
   ],
   "source": [
    "# Plot the distribution\n",
    "ax = range_group_counts.plot(kind='bar', figsize=(10, 5), color='#00b0be')\n",
    "plt.title('Population of Class Label')\n",
    "plt.xlabel('Count Range of CLASS-IDs')\n",
    "plt.ylabel('Number of CLASS-IDs')\n",
    "plt.xticks(rotation=45)\n",
    "\n",
    "for p in ax.patches:\n",
    "    ax.annotate(str(p.get_height()), \n",
    "                (p.get_x() + p.get_width() / 2., p.get_height()), \n",
    "                ha='center', va='bottom', \n",
    "                xytext=(0, 0.5), \n",
    "                textcoords='offset points')\n",
    "\n",
    "plt.show()\n"
   ]
  },
  {
   "cell_type": "code",
   "execution_count": null,
   "id": "371da9ed",
   "metadata": {},
   "outputs": [],
   "source": []
  },
  {
   "cell_type": "code",
   "execution_count": null,
   "id": "2f8db0ab",
   "metadata": {},
   "outputs": [],
   "source": []
  }
 ],
 "metadata": {
  "kernelspec": {
   "display_name": "reaction-workbench-env [Python]",
   "language": "python",
   "name": "conda-env-reaction-workbench-env-py"
  },
  "language_info": {
   "codemirror_mode": {
    "name": "ipython",
    "version": 3
   },
   "file_extension": ".py",
   "mimetype": "text/x-python",
   "name": "python",
   "nbconvert_exporter": "python",
   "pygments_lexer": "ipython3",
   "version": "3.8.8"
  },
  "vscode": {
   "interpreter": {
    "hash": "f4bc7a400e35f160b13ed52195005e41b219907c1be09b125a1c17e685484faa"
   }
  }
 },
 "nbformat": 4,
 "nbformat_minor": 5
}
