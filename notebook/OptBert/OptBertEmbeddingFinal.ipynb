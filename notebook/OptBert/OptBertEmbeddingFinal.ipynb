{
 "cells": [
  {
   "cell_type": "code",
   "execution_count": 1,
   "id": "a1695c50",
   "metadata": {},
   "outputs": [
    {
     "name": "stderr",
     "output_type": "stream",
     "text": [
      "/opt/conda/envs/reaction-workbench-env/lib/python3.8/site-packages/tqdm/auto.py:21: TqdmWarning: IProgress not found. Please update jupyter and ipywidgets. See https://ipywidgets.readthedocs.io/en/stable/user_install.html\n",
      "  from .autonotebook import tqdm as notebook_tqdm\n"
     ]
    }
   ],
   "source": [
    "import os\n",
    "import pickle\n",
    "import numpy as np\n",
    "import pandas as pd\n",
    "import matplotlib.pyplot as plt\n",
    "\n",
    "import torch\n",
    "import logging\n",
    "import random\n",
    "import pkg_resources\n",
    "import sklearn\n",
    "from sklearn.model_selection import train_test_split\n",
    "from rxnfp.tokenization import *\n",
    "# from rdkit import Chem\n",
    "# from rdkit.Chem import rdChemReactions\n",
    "torch.cuda.is_available()\n",
    "import rxnfp\n",
    "#from rxnfp.models import SmilesClassificationModel\n",
    "#from rxn_yields.core import SmilesTokenizer, SmilesClassificationModel\n",
    "\n",
    "logger = logging.getLogger(__name__)\n",
    "torch.cuda.is_available()\n",
    "# from simpletransformers.classification import ClassificationModel, ClassificationArgs\n",
    "from rxnfp.tokenization import SmilesTokenizer"
   ]
  },
  {
   "cell_type": "code",
   "execution_count": 2,
   "id": "ffa1fd7a",
   "metadata": {},
   "outputs": [],
   "source": [
    "from transformers import AutoTokenizer, AutoModel, AutoModelForSequenceClassification\n",
    "from rxnfp.tokenization import SmilesTokenizer\n",
    "\n",
    "import os\n",
    "import pickle\n",
    "\n",
    "import argparse\n",
    "\n",
    "from tqdm.auto import tqdm\n",
    "from sklearn.metrics import classification_report, accuracy_score\n",
    "from sklearn.metrics import confusion_matrix"
   ]
  },
  {
   "cell_type": "code",
   "execution_count": 3,
   "id": "50ba6300",
   "metadata": {},
   "outputs": [],
   "source": [
    "train = pd.read_csv('../ReactionClassification_2024/data/train.csv', delimiter=',')"
   ]
  },
  {
   "cell_type": "code",
   "execution_count": 4,
   "id": "4b10017d",
   "metadata": {},
   "outputs": [],
   "source": [
    "val = pd.read_csv('../ReactionClassification_2024/data/val.csv', delimiter=',')"
   ]
  },
  {
   "cell_type": "code",
   "execution_count": 5,
   "id": "8fb05311",
   "metadata": {},
   "outputs": [],
   "source": [
    "test = pd.read_csv('../ReactionClassification_2024/data/test.csv', delimiter=',')"
   ]
  },
  {
   "cell_type": "code",
   "execution_count": 6,
   "id": "3756812d",
   "metadata": {},
   "outputs": [],
   "source": [
    "train1 = pd.read_csv('../ReactionClassification_2024/data/train1.csv', delimiter=',')\n",
    "train2 = pd.read_csv('../ReactionClassification_2024/data/train2.csv', delimiter=',')\n",
    "train3 = pd.read_csv('../ReactionClassification_2024/data/train3.csv', delimiter=',')\n",
    "train4 = pd.read_csv('../ReactionClassification_2024/data/train4.csv', delimiter=',')\n",
    "train5 = pd.read_csv('../ReactionClassification_2024/data/train5.csv', delimiter=',')\n",
    "train6 = pd.read_csv('../ReactionClassification_2024/data/train6.csv', delimiter=',')\n",
    "train7 = pd.read_csv('../ReactionClassification_2024/data/train7.csv', delimiter=',')\n",
    "train8 = pd.read_csv('../ReactionClassification_2024/data/train8.csv', delimiter=',')\n",
    "train9 = pd.read_csv('../ReactionClassification_2024/data/train9.csv', delimiter=',')\n",
    "train10 = pd.read_csv('../ReactionClassification_2024/data/train10.csv', delimiter=',')"
   ]
  },
  {
   "cell_type": "markdown",
   "id": "91314bc4",
   "metadata": {},
   "source": [
    "### Train Embedding"
   ]
  },
  {
   "cell_type": "code",
   "execution_count": 14,
   "id": "a1e020e8",
   "metadata": {},
   "outputs": [],
   "source": [
    "#Mean Pooling - Take attention mask into account for correct averaging\n",
    "def mean_pooling(model_output, attention_mask):\n",
    "    token_embeddings = model_output[0] #First element of model_output contains all token embeddings\n",
    "    input_mask_expanded = attention_mask.unsqueeze(-1).expand(token_embeddings.size()).float()\n",
    "    sum_embeddings = torch.sum(token_embeddings * input_mask_expanded, 1)\n",
    "    sum_mask = torch.clamp(input_mask_expanded.sum(1), min=1e-9)\n",
    "    return(sum_embeddings / sum_mask)"
   ]
  },
  {
   "cell_type": "code",
   "execution_count": 15,
   "id": "e143c523",
   "metadata": {},
   "outputs": [],
   "source": [
    "model_path = 'data/fine_tuned_model_Final2'\n",
    "#model_path = 'rxn-data-from-postgresql/models/reaxys_bert/checkpoint-4356432-epoch-36'\n",
    "\n",
    "model = AutoModel.from_pretrained(model_path, output_hidden_states=True)\n",
    "#tokenizer = SmilesTokenizer(vocab_file='rxn-data-from-postgresql/models/reaxys_bert/checkpoint-4235420-epoch-35/vocab.txt')\n",
    "tokenizer = SmilesTokenizer(vocab_file='data/fine_tuned_model_Final2/vocab.txt')"
   ]
  },
  {
   "cell_type": "code",
   "execution_count": 17,
   "id": "bdaeb404",
   "metadata": {},
   "outputs": [],
   "source": [
    "device = torch.device(\"cuda:0\" if torch.cuda.is_available() else \"cpu\")\n",
    "model = model.to(device)\n",
    "val_sentence_embeddings = []\n",
    "test_sentence_embeddings = []\n",
    "rare_sentence_embeddings = []\n",
    "batch= 64"
   ]
  },
  {
   "cell_type": "code",
   "execution_count": 12,
   "id": "ac20eb79",
   "metadata": {},
   "outputs": [
    {
     "name": "stdout",
     "output_type": "stream",
     "text": [
      "1\n"
     ]
    },
    {
     "name": "stderr",
     "output_type": "stream",
     "text": [
      "Processing train1: 100%|██████████| 3759/3759 [02:49<00:00, 22.16it/s]\n"
     ]
    },
    {
     "name": "stdout",
     "output_type": "stream",
     "text": [
      "2\n"
     ]
    },
    {
     "name": "stderr",
     "output_type": "stream",
     "text": [
      "Processing train3: 100%|██████████| 3759/3759 [02:21<00:00, 26.63it/s]\n"
     ]
    },
    {
     "name": "stdout",
     "output_type": "stream",
     "text": [
      "4\n"
     ]
    },
    {
     "name": "stderr",
     "output_type": "stream",
     "text": [
      "Processing train4: 100%|██████████| 3759/3759 [03:00<00:00, 20.79it/s]\n"
     ]
    },
    {
     "name": "stdout",
     "output_type": "stream",
     "text": [
      "5\n"
     ]
    },
    {
     "name": "stderr",
     "output_type": "stream",
     "text": [
      "Processing train5: 100%|██████████| 3759/3759 [03:01<00:00, 20.68it/s]\n"
     ]
    },
    {
     "name": "stdout",
     "output_type": "stream",
     "text": [
      "6\n"
     ]
    },
    {
     "name": "stderr",
     "output_type": "stream",
     "text": [
      "Processing train6:  14%|█▍        | 540/3759 [00:25<03:00, 17.80it/s]IOPub message rate exceeded.\n",
      "The notebook server will temporarily stop sending output\n",
      "to the client in order to avoid crashing it.\n",
      "To change this limit, set the config variable\n",
      "`--NotebookApp.iopub_msg_rate_limit`.\n",
      "\n",
      "Current values:\n",
      "NotebookApp.iopub_msg_rate_limit=1000.0 (msgs/sec)\n",
      "NotebookApp.rate_limit_window=3.0 (secs)\n",
      "\n",
      "Processing train7: 100%|██████████| 3759/3759 [03:01<00:00, 20.75it/s]\n"
     ]
    },
    {
     "name": "stdout",
     "output_type": "stream",
     "text": [
      "8\n"
     ]
    },
    {
     "name": "stderr",
     "output_type": "stream",
     "text": [
      "Processing train8: 100%|██████████| 3759/3759 [03:00<00:00, 20.79it/s]\n"
     ]
    },
    {
     "name": "stdout",
     "output_type": "stream",
     "text": [
      "9\n"
     ]
    },
    {
     "name": "stderr",
     "output_type": "stream",
     "text": [
      "Processing train9: 100%|██████████| 3759/3759 [03:00<00:00, 20.87it/s]\n"
     ]
    },
    {
     "name": "stdout",
     "output_type": "stream",
     "text": [
      "10\n"
     ]
    },
    {
     "name": "stderr",
     "output_type": "stream",
     "text": [
      "Processing train10: 100%|██████████| 3759/3759 [02:53<00:00, 21.64it/s]\n"
     ]
    }
   ],
   "source": [
    "for idx in range(1, 11):\n",
    "    print(idx)\n",
    "    train_df = globals()[f'train{idx}']\n",
    "    train_reactions = train_df['reaction'].astype(str).tolist()\n",
    "    sentence_embeddings = []\n",
    "    batch_size = 64  # Define a suitable batch size\n",
    "\n",
    "    for i in tqdm(range(0, len(train_reactions), batch_size), desc=f'Processing train{idx}'):\n",
    "        # Tokenize sentences\n",
    "        encoded_input = tokenizer(train_reactions[i:i+batch_size], padding=True, truncation=True, max_length=512, return_tensors='pt').to(device)\n",
    "\n",
    "        # Compute token embeddings\n",
    "        with torch.no_grad():\n",
    "            model_output = model(**encoded_input)\n",
    "\n",
    "        # Perform pooling\n",
    "        sentence_embeddings.extend([x.cpu().detach().numpy() for x in mean_pooling(model_output, encoded_input['attention_mask'])])\n",
    "\n",
    "    # Assign embeddings to the DataFrame and save to files\n",
    "    train_df['OptBertFP'] = sentence_embeddings\n",
    "    X_train = np.array(train_df['OptBertFP'])\n",
    "    np.save(f'../ReactionClassification_2024/data/OptBertFPFinal2/X_train{idx}_OptBertFP.npy', X_train)\n",
    "    #train_df.to_csv(f'../ReactionClassification_2024/data/PreBertFP/train{idx}_PreBertFP.csv', index=False)"
   ]
  },
  {
   "cell_type": "code",
   "execution_count": null,
   "id": "a2ae5593",
   "metadata": {},
   "outputs": [],
   "source": [
    "#train.to_csv('data/PreBertFP/train_PreBertFP.csv', index=False)"
   ]
  },
  {
   "cell_type": "markdown",
   "id": "6b458f5f",
   "metadata": {},
   "source": [
    "### Test and Val Embedding"
   ]
  },
  {
   "cell_type": "code",
   "execution_count": 13,
   "id": "94b4d7b1",
   "metadata": {},
   "outputs": [
    {
     "name": "stderr",
     "output_type": "stream",
     "text": [
      "100%|██████████| 5175/5175 [04:10<00:00, 20.68it/s]\n"
     ]
    }
   ],
   "source": [
    "val_reactions = val['reaction'].astype(str).tolist()\n",
    "for i in tqdm(range(0, len(val_reactions), batch)):\n",
    "    #Tokenize sentences\n",
    "    encoded_input = tokenizer(val_reactions[i:i+batch], padding=True, truncation=True, max_length=512, return_tensors='pt').to(device)\n",
    "\n",
    "    #Compute token embeddings\n",
    "    with torch.no_grad():\n",
    "        model_output = model(**encoded_input)\n",
    "\n",
    "    #Perform pooling. In this case, mean pooling\n",
    "    val_sentence_embeddings.extend([x.cpu().detach().numpy() for x in mean_pooling(model_output, encoded_input['attention_mask'])])"
   ]
  },
  {
   "cell_type": "code",
   "execution_count": 14,
   "id": "31cd41b1",
   "metadata": {},
   "outputs": [],
   "source": [
    "val['OptBertFP'] = val_sentence_embeddings"
   ]
  },
  {
   "cell_type": "code",
   "execution_count": 15,
   "id": "0acef974",
   "metadata": {},
   "outputs": [],
   "source": [
    "X_val = np.array(val['OptBertFP'])"
   ]
  },
  {
   "cell_type": "code",
   "execution_count": 16,
   "id": "3a5da38f",
   "metadata": {},
   "outputs": [],
   "source": [
    "np.save('../ReactionClassification_2024/data/OptBertFPFinal2/X_val_OptBertFP.npy', X_val)"
   ]
  },
  {
   "cell_type": "code",
   "execution_count": 17,
   "id": "cfc977cd",
   "metadata": {},
   "outputs": [],
   "source": [
    "#val.to_csv('data/PreBertFP/val_PreBertFP.csv', index=False)"
   ]
  },
  {
   "cell_type": "code",
   "execution_count": 18,
   "id": "a8b6408b",
   "metadata": {},
   "outputs": [
    {
     "name": "stderr",
     "output_type": "stream",
     "text": [
      "100%|██████████| 5169/5169 [04:14<00:00, 20.33it/s]\n"
     ]
    }
   ],
   "source": [
    "test_reactions = test['reaction'].astype(str).tolist()\n",
    "for i in tqdm(range(0, len(test_reactions), batch)):\n",
    "    #Tokenize sentences\n",
    "    encoded_input = tokenizer(test_reactions[i:i+batch], padding=True, truncation=True, max_length=512, return_tensors='pt').to(device)\n",
    "\n",
    "    #Compute token embeddings\n",
    "    with torch.no_grad():\n",
    "        model_output = model(**encoded_input)\n",
    "\n",
    "    #Perform pooling. In this case, mean pooling\n",
    "    test_sentence_embeddings.extend([x.cpu().detach().numpy() for x in mean_pooling(model_output, encoded_input['attention_mask'])])"
   ]
  },
  {
   "cell_type": "code",
   "execution_count": 19,
   "id": "a5ff8b4d",
   "metadata": {},
   "outputs": [],
   "source": [
    "test['OptBertFP'] = test_sentence_embeddings\n",
    "X_test = np.array(test['OptBertFP'])"
   ]
  },
  {
   "cell_type": "code",
   "execution_count": 20,
   "id": "87408dc2",
   "metadata": {},
   "outputs": [],
   "source": [
    "np.save('../ReactionClassification_2024/data/OptBertFPFinal2/X_test_OptBertFP.npy', X_test)"
   ]
  },
  {
   "cell_type": "code",
   "execution_count": 17,
   "id": "28511fd3",
   "metadata": {},
   "outputs": [],
   "source": [
    "#test.to_csv('data/PreBertFP/test_PreBertFP.csv', index=False)"
   ]
  },
  {
   "cell_type": "markdown",
   "id": "18f9c699",
   "metadata": {},
   "source": [
    "### Data Load"
   ]
  },
  {
   "cell_type": "code",
   "execution_count": 3,
   "id": "79e96c2a",
   "metadata": {},
   "outputs": [],
   "source": [
    "X_train1 = np.load('../ReactionClassification_2024/data/OptBertFPFinal2/X_train1_OptBertFP.npy',allow_pickle=True)\n",
    "X_train2 = np.load('../ReactionClassification_2024/data/OptBertFPFinal2/X_train2_OptBertFP.npy',allow_pickle=True)\n",
    "X_train3 = np.load('../ReactionClassification_2024/data/OptBertFPFinal2/X_train3_OptBertFP.npy',allow_pickle=True)\n",
    "X_train4 = np.load('../ReactionClassification_2024/data/OptBertFPFinal2/X_train4_OptBertFP.npy',allow_pickle=True)\n",
    "X_train5 = np.load('../ReactionClassification_2024/data/OptBertFPFinal2/X_train5_OptBertFP.npy',allow_pickle=True)\n",
    "X_train6 = np.load('../ReactionClassification_2024/data/OptBertFPFinal2/X_train6_OptBertFP.npy',allow_pickle=True)\n",
    "X_train7 = np.load('../ReactionClassification_2024/data/OptBertFPFinal2/X_train7_OptBertFP.npy',allow_pickle=True)\n",
    "X_train8 = np.load('../ReactionClassification_2024/data/OptBertFPFinal2/X_train8_OptBertFP.npy',allow_pickle=True)\n",
    "X_train9 = np.load('../ReactionClassification_2024/data/OptBertFPFinal2/X_train9_OptBertFP.npy',allow_pickle=True)\n",
    "X_train10 = np.load('../ReactionClassification_2024/data/OptBertFPFinal2/X_train10_OptBertFP.npy',allow_pickle=True)"
   ]
  },
  {
   "cell_type": "code",
   "execution_count": 4,
   "id": "cf912113",
   "metadata": {},
   "outputs": [],
   "source": [
    "X_train = np.concatenate([X_train1, X_train2, X_train3, X_train4, X_train5,\n",
    "                          X_train6, X_train7, X_train8, X_train9, X_train10], axis=0)"
   ]
  },
  {
   "cell_type": "code",
   "execution_count": 5,
   "id": "bd85079e",
   "metadata": {},
   "outputs": [],
   "source": [
    "X_train1 = np.vstack(X_train)\n",
    "X_train = np.squeeze(X_train1)"
   ]
  },
  {
   "cell_type": "code",
   "execution_count": 6,
   "id": "57451dbf",
   "metadata": {},
   "outputs": [],
   "source": [
    "#X_train = np.load('data/RXNFP/X_train_RXNFP.npy')\n",
    "X_test = np.load('../ReactionClassification_2024/data/OptBertFPFinal2/X_test_OptBertFP.npy',allow_pickle=True)\n",
    "X_val = np.load('../ReactionClassification_2024/data/OptBertFPFinal2/X_val_OptBertFP.npy',allow_pickle=True)"
   ]
  },
  {
   "cell_type": "code",
   "execution_count": 7,
   "id": "d696c8f1",
   "metadata": {},
   "outputs": [],
   "source": [
    "X_test1 = np.vstack(X_test)\n",
    "X_test = np.squeeze(X_test1)"
   ]
  },
  {
   "cell_type": "code",
   "execution_count": 8,
   "id": "04e48f78",
   "metadata": {},
   "outputs": [],
   "source": [
    "X_val1 = np.vstack(X_val)\n",
    "X_val = np.squeeze(X_val1)"
   ]
  },
  {
   "cell_type": "code",
   "execution_count": 9,
   "id": "de78272f",
   "metadata": {},
   "outputs": [],
   "source": [
    "train = pd.read_csv('../ReactionClassification_2024/data/train.csv', delimiter=',')\n",
    "test = pd.read_csv('../ReactionClassification_2024/data/test.csv', delimiter=',')\n",
    "val = pd.read_csv('../ReactionClassification_2024/data/val.csv', delimiter=',')"
   ]
  },
  {
   "cell_type": "code",
   "execution_count": 21,
   "id": "35bbcd40",
   "metadata": {},
   "outputs": [],
   "source": [
    "y_train = train['CLASS-ID'].values\n",
    "y_test = test['CLASS-ID'].values\n",
    "y_val = val['CLASS-ID'].values\n",
    "y_rare = rare['CLASS-ID'].values"
   ]
  },
  {
   "cell_type": "code",
   "execution_count": 13,
   "id": "3755c5c5",
   "metadata": {},
   "outputs": [],
   "source": [
    "rare = pd.read_csv('../ReactionClassification_2024/data/rare.csv', delimiter=',')"
   ]
  },
  {
   "cell_type": "code",
   "execution_count": 18,
   "id": "ca6701f7",
   "metadata": {},
   "outputs": [
    {
     "name": "stderr",
     "output_type": "stream",
     "text": [
      "100%|██████████| 13/13 [00:02<00:00,  5.43it/s]\n"
     ]
    }
   ],
   "source": [
    "rare_reactions = rare['reaction'].astype(str).tolist()\n",
    "for i in tqdm(range(0, len(rare_reactions), batch)):\n",
    "    #Tokenize sentences\n",
    "    encoded_input = tokenizer(rare_reactions[i:i+batch], padding=True, truncation=True, max_length=512, return_tensors='pt').to(device)\n",
    "\n",
    "    #Compute token embeddings\n",
    "    with torch.no_grad():\n",
    "        model_output = model(**encoded_input)\n",
    "\n",
    "    #Perform pooling. In this case, mean pooling\n",
    "    rare_sentence_embeddings.extend([x.cpu().detach().numpy() for x in mean_pooling(model_output, encoded_input['attention_mask'])])"
   ]
  },
  {
   "cell_type": "code",
   "execution_count": 19,
   "id": "12880252",
   "metadata": {},
   "outputs": [],
   "source": [
    "rare['OptBertFP'] = rare_sentence_embeddings\n",
    "X_rare = np.array(rare['OptBertFP'])"
   ]
  },
  {
   "cell_type": "code",
   "execution_count": 20,
   "id": "e48f1add",
   "metadata": {},
   "outputs": [],
   "source": [
    "np.save('../ReactionClassification_2024/data/OptBertFPFinal2/X_rare_OptBertFP.npy', X_rare)"
   ]
  },
  {
   "cell_type": "markdown",
   "id": "5d4ca5dc",
   "metadata": {},
   "source": [
    "### Test on Val set"
   ]
  },
  {
   "cell_type": "code",
   "execution_count": 22,
   "id": "16876576",
   "metadata": {},
   "outputs": [],
   "source": [
    "import faiss\n",
    "index = faiss.IndexFlatL2(X_train.shape[1])\n",
    "index.add(X_train)"
   ]
  },
  {
   "cell_type": "code",
   "execution_count": 12,
   "id": "50cdec14",
   "metadata": {},
   "outputs": [],
   "source": [
    "from tqdm import tqdm\n",
    "k = 1 \n",
    "\n",
    "batch_size = 1000\n",
    "\n",
    "num_batches = (X_val.shape[0] + batch_size - 1) // batch_size"
   ]
  },
  {
   "cell_type": "code",
   "execution_count": 13,
   "id": "c91470e4",
   "metadata": {},
   "outputs": [
    {
     "name": "stderr",
     "output_type": "stream",
     "text": [
      "FAISS Search on Val Data: 100%|██████████| 332/332 [1:59:34<00:00, 21.61s/it]  \n"
     ]
    }
   ],
   "source": [
    "D_val_1nn = np.zeros((X_val.shape[0], k), dtype=np.float32)\n",
    "I_val_1nn = np.zeros((X_val.shape[0], k), dtype=np.int64)\n",
    "\n",
    "for b in tqdm(range(num_batches), desc='FAISS Search on Val Data'):\n",
    "    start = b * batch_size\n",
    "    end = min((b + 1) * batch_size, X_val.shape[0])\n",
    "    D, I = index.search(X_val[start:end], k)\n",
    "    D_val_1nn[start:end, :] = D\n",
    "    I_val_1nn[start:end, :] = I"
   ]
  },
  {
   "cell_type": "code",
   "execution_count": 14,
   "id": "8af7bf1a",
   "metadata": {},
   "outputs": [],
   "source": [
    "y_pred_val_1nn = np.array(y_train[I_val_1nn])"
   ]
  },
  {
   "cell_type": "code",
   "execution_count": 21,
   "id": "8ec240f7",
   "metadata": {},
   "outputs": [],
   "source": [
    "np.save('../ReactionClassification_2024/data/OptBertFPFinal2/y_pred_val_1nn', y_pred_val_1nn)"
   ]
  },
  {
   "cell_type": "code",
   "execution_count": 22,
   "id": "7063a037",
   "metadata": {},
   "outputs": [],
   "source": [
    "y_pred_val_1nn = np.load('../ReactionClassification_2024/data/OptBertFPFinal2/y_pred_val_1nn.npy')"
   ]
  },
  {
   "cell_type": "code",
   "execution_count": 23,
   "id": "3ce83961",
   "metadata": {},
   "outputs": [
    {
     "name": "stdout",
     "output_type": "stream",
     "text": [
      "Overall Accuracy: 0.9612749523674365\n"
     ]
    }
   ],
   "source": [
    "print(f'Overall Accuracy: {accuracy_score(y_val, y_pred_val_1nn)}')"
   ]
  },
  {
   "cell_type": "markdown",
   "id": "61db07fa",
   "metadata": {},
   "source": [
    "### Test on Test set"
   ]
  },
  {
   "cell_type": "code",
   "execution_count": 24,
   "id": "35757683",
   "metadata": {},
   "outputs": [],
   "source": [
    "k = 1  \n",
    "batch_size = 1000  \n",
    "\n",
    "num_batches = (X_test.shape[0] + batch_size - 1) // batch_size"
   ]
  },
  {
   "cell_type": "code",
   "execution_count": null,
   "id": "91fb2d6a",
   "metadata": {},
   "outputs": [
    {
     "name": "stderr",
     "output_type": "stream",
     "text": [
      "FAISS Search on Test Data:  73%|███████▎  | 240/331 [1:26:24<32:26, 21.39s/it]"
     ]
    }
   ],
   "source": [
    "D_test_1nn = np.zeros((X_test.shape[0], k), dtype=np.float32)\n",
    "I_test_1nn = np.zeros((X_test.shape[0], k), dtype=np.int64)\n",
    "\n",
    "for b in tqdm(range(num_batches), desc='FAISS Search on Test Data'):\n",
    "    start = b * batch_size\n",
    "    end = min((b + 1) * batch_size, X_test.shape[0])\n",
    "    D, I = index.search(X_test[start:end], k)\n",
    "    D_test_1nn[start:end, :] = D\n",
    "    I_test_1nn[start:end, :] = I"
   ]
  },
  {
   "cell_type": "code",
   "execution_count": null,
   "id": "2629002a",
   "metadata": {},
   "outputs": [],
   "source": [
    "y_pred_test_1nn = np.array(y_train[I_test_1nn])"
   ]
  },
  {
   "cell_type": "code",
   "execution_count": null,
   "id": "fb39f7f2",
   "metadata": {},
   "outputs": [],
   "source": [
    "np.save('../ReactionClassification_2024/data/OptBertFPFinal2/y_pred_test_1nn', y_pred_test_1nn)"
   ]
  },
  {
   "cell_type": "code",
   "execution_count": null,
   "id": "56ad5794",
   "metadata": {},
   "outputs": [],
   "source": [
    "y_pred_test_1nn = np.load('../ReactionClassification_2024/data/OptBertFPFinal2/y_pred_test_1nn.npy')"
   ]
  },
  {
   "cell_type": "code",
   "execution_count": null,
   "id": "fc37465c",
   "metadata": {},
   "outputs": [],
   "source": [
    "print(f'Overall Accuracy: {accuracy_score(y_test, y_pred_test_1nn)}')"
   ]
  },
  {
   "cell_type": "code",
   "execution_count": null,
   "id": "c0e38514",
   "metadata": {},
   "outputs": [],
   "source": [
    "report_test1nn = classification_report(y_test, y_pred_test_1nn, output_dict=True)\n",
    "report_df = pd.DataFrame(report_test1nn).transpose()\n",
    "df_test1nn = report_df[:-3].reset_index().rename(columns={'index': 'CLASS-ID'})\n",
    "df_test1nn['test_support'] = df_test1nn['support'].astype(int)\n",
    "df_test1nn['CLASS-ID'] = df_test1nn['CLASS-ID'].astype(int)"
   ]
  },
  {
   "cell_type": "code",
   "execution_count": null,
   "id": "8b3ed734",
   "metadata": {},
   "outputs": [],
   "source": [
    "train_class_support = train['CLASS-ID'].value_counts().sort_index()\n",
    "train_support_df = train_class_support.reset_index()\n",
    "train_support_df.columns = ['CLASS-ID', 'train_support']\n",
    "train_support_df['CLASS-ID'] = train_support_df['CLASS-ID'].astype(int)"
   ]
  },
  {
   "cell_type": "code",
   "execution_count": null,
   "id": "8b03628d",
   "metadata": {},
   "outputs": [],
   "source": [
    "# Merge with df_val1nn on 'CLASS-ID'\n",
    "df_test1nn_report = pd.merge(df_test1nn, train_support_df, on='CLASS-ID', how='left')\n",
    "# Sort based on the number of train_support\n",
    "df_test1nn_report = df_test1nn_report.sort_values(by='train_support', ascending=False)\n",
    "df_test1nn_report = df_test1nn_report.drop(columns=['support'])"
   ]
  },
  {
   "cell_type": "code",
   "execution_count": null,
   "id": "25be4459",
   "metadata": {},
   "outputs": [],
   "source": [
    "df_class = pd.read_csv('../ReactionClassification_2024/data/className.tsv', sep='\\t', encoding='ISO-8859-1')"
   ]
  },
  {
   "cell_type": "code",
   "execution_count": null,
   "id": "6c2d7a01",
   "metadata": {},
   "outputs": [],
   "source": [
    "# Convert multi Class-ID into one\n",
    "def clean_class_id(row):\n",
    "    # Split the string by comma and convert to a list\n",
    "    class_ids = str(row['CLASS-ID']).split(',')\n",
    "    # Return the first element from the list, ensuring it's an integer\n",
    "    return int(class_ids[0].strip())\n",
    "\n",
    "# Apply the function to the 'CLASS-ID' column\n",
    "df_class['CLASS-ID'] = df_class.apply(clean_class_id, axis=1)\n",
    "df_class['CLASS-ID'] = df_class['CLASS-ID'].astype(int)"
   ]
  },
  {
   "cell_type": "code",
   "execution_count": null,
   "id": "21293515",
   "metadata": {},
   "outputs": [],
   "source": [
    "df_test1nn = pd.merge(df_test1nn_report, df_class[['CLASS-ID', 'TRANSFORM_NAME', 'TRANSFORM_ID']], on='CLASS-ID', how='left')"
   ]
  },
  {
   "cell_type": "code",
   "execution_count": null,
   "id": "3a2d33a0",
   "metadata": {},
   "outputs": [],
   "source": [
    "df_test1nn"
   ]
  },
  {
   "cell_type": "code",
   "execution_count": null,
   "id": "8370119d",
   "metadata": {},
   "outputs": [],
   "source": [
    "df_test1nn.to_csv('data/OptBertFPFinal2/df_test1nn.csv', index=False)"
   ]
  },
  {
   "cell_type": "code",
   "execution_count": null,
   "id": "06e5fdcb",
   "metadata": {},
   "outputs": [],
   "source": [
    "# Calculate macro average for precision, recall, and f1-score\n",
    "macro_precision2 = df_test1nn['precision'].mean()\n",
    "macro_recall2 = df_test1nn['recall'].mean()\n",
    "macro_f12 = df_test1nn['f1-score'].mean()\n",
    "\n",
    "# Calculate weighted average for precision, recall, and f1-score\n",
    "weighted_precision2 = (df_test1nn['precision'] * df_test1nn['test_support']).sum() / df_test1nn['test_support'].sum()\n",
    "weighted_recall2 = (df_test1nn['recall'] * df_test1nn['test_support']).sum() / df_test1nn['test_support'].sum()\n",
    "weighted_f12 = (df_test1nn['f1-score'] * df_test1nn['test_support']).sum() / df_test1nn['test_support'].sum()"
   ]
  },
  {
   "cell_type": "code",
   "execution_count": null,
   "id": "ed218b18",
   "metadata": {},
   "outputs": [],
   "source": [
    "output1 = f\"\"\"\n",
    "Macro-averages:\n",
    "- Precision: {macro_precision2:.4f}\n",
    "- Recall: {macro_recall2:.4f}\n",
    "- F1-score: {macro_f12:.4f}\n",
    "\n",
    "Weighted-averages:\n",
    "- Precision: {weighted_precision2:.4f}\n",
    "- Recall: {weighted_recall2:.4f}\n",
    "- F1-score: {weighted_f12:.4f}\n",
    "\"\"\""
   ]
  },
  {
   "cell_type": "code",
   "execution_count": null,
   "id": "3e53b784",
   "metadata": {},
   "outputs": [],
   "source": [
    "print(output1)"
   ]
  },
  {
   "cell_type": "code",
   "execution_count": null,
   "id": "1286e701",
   "metadata": {},
   "outputs": [],
   "source": []
  }
 ],
 "metadata": {
  "kernelspec": {
   "display_name": "reaction-workbench-env [Python]",
   "language": "python",
   "name": "conda-env-reaction-workbench-env-py"
  },
  "language_info": {
   "codemirror_mode": {
    "name": "ipython",
    "version": 3
   },
   "file_extension": ".py",
   "mimetype": "text/x-python",
   "name": "python",
   "nbconvert_exporter": "python",
   "pygments_lexer": "ipython3",
   "version": "3.8.8"
  }
 },
 "nbformat": 4,
 "nbformat_minor": 5
}
