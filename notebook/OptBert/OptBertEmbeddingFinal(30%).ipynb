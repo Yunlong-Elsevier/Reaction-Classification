{
 "cells": [
  {
   "cell_type": "code",
   "execution_count": 1,
   "id": "a5fb1df7",
   "metadata": {},
   "outputs": [
    {
     "name": "stderr",
     "output_type": "stream",
     "text": [
      "/opt/conda/envs/reaction-workbench-env/lib/python3.8/site-packages/tqdm/auto.py:21: TqdmWarning: IProgress not found. Please update jupyter and ipywidgets. See https://ipywidgets.readthedocs.io/en/stable/user_install.html\n",
      "  from .autonotebook import tqdm as notebook_tqdm\n"
     ]
    }
   ],
   "source": [
    "import os\n",
    "import pickle\n",
    "import numpy as np\n",
    "import pandas as pd\n",
    "import matplotlib.pyplot as plt\n",
    "\n",
    "import torch\n",
    "import logging\n",
    "import random\n",
    "import pkg_resources\n",
    "import sklearn\n",
    "from sklearn.model_selection import train_test_split\n",
    "from rxnfp.tokenization import *\n",
    "# from rdkit import Chem\n",
    "# from rdkit.Chem import rdChemReactions\n",
    "torch.cuda.is_available()\n",
    "import rxnfp\n",
    "#from rxnfp.models import SmilesClassificationModel\n",
    "#from rxn_yields.core import SmilesTokenizer, SmilesClassificationModel\n",
    "\n",
    "logger = logging.getLogger(__name__)\n",
    "torch.cuda.is_available()\n",
    "# from simpletransformers.classification import ClassificationModel, ClassificationArgs\n",
    "from rxnfp.tokenization import SmilesTokenizer"
   ]
  },
  {
   "cell_type": "code",
   "execution_count": 2,
   "id": "1865cb83",
   "metadata": {},
   "outputs": [],
   "source": [
    "from transformers import AutoTokenizer, AutoModel, AutoModelForSequenceClassification\n",
    "from rxnfp.tokenization import SmilesTokenizer\n",
    "\n",
    "import os\n",
    "import pickle\n",
    "\n",
    "import argparse\n",
    "\n",
    "from tqdm.auto import tqdm\n",
    "from sklearn.metrics import classification_report, accuracy_score\n",
    "from sklearn.metrics import confusion_matrix"
   ]
  },
  {
   "cell_type": "code",
   "execution_count": 4,
   "id": "ff2bcc82",
   "metadata": {},
   "outputs": [],
   "source": [
    "train = pd.read_csv('../ReactionClassification_2024/data/train.csv', delimiter=',')"
   ]
  },
  {
   "cell_type": "code",
   "execution_count": 5,
   "id": "982e668c",
   "metadata": {},
   "outputs": [],
   "source": [
    "val = pd.read_csv('../ReactionClassification_2024/data/val.csv', delimiter=',')"
   ]
  },
  {
   "cell_type": "code",
   "execution_count": 6,
   "id": "fa07d17e",
   "metadata": {},
   "outputs": [],
   "source": [
    "test = pd.read_csv('../ReactionClassification_2024/data/test.csv', delimiter=',')"
   ]
  },
  {
   "cell_type": "code",
   "execution_count": 7,
   "id": "a49dd7a5",
   "metadata": {},
   "outputs": [],
   "source": [
    "train1 = pd.read_csv('../ReactionClassification_2024/data/train1.csv', delimiter=',')\n",
    "train2 = pd.read_csv('../ReactionClassification_2024/data/train2.csv', delimiter=',')\n",
    "train3 = pd.read_csv('../ReactionClassification_2024/data/train3.csv', delimiter=',')\n",
    "train4 = pd.read_csv('../ReactionClassification_2024/data/train4.csv', delimiter=',')\n",
    "train5 = pd.read_csv('../ReactionClassification_2024/data/train5.csv', delimiter=',')\n",
    "train6 = pd.read_csv('../ReactionClassification_2024/data/train6.csv', delimiter=',')\n",
    "train7 = pd.read_csv('../ReactionClassification_2024/data/train7.csv', delimiter=',')\n",
    "train8 = pd.read_csv('../ReactionClassification_2024/data/train8.csv', delimiter=',')\n",
    "train9 = pd.read_csv('../ReactionClassification_2024/data/train9.csv', delimiter=',')\n",
    "train10 = pd.read_csv('../ReactionClassification_2024/data/train10.csv', delimiter=',')"
   ]
  },
  {
   "cell_type": "markdown",
   "id": "04ce8465",
   "metadata": {},
   "source": [
    "### Train Embedding"
   ]
  },
  {
   "cell_type": "code",
   "execution_count": 8,
   "id": "547063f1",
   "metadata": {},
   "outputs": [],
   "source": [
    "#Mean Pooling - Take attention mask into account for correct averaging\n",
    "def mean_pooling(model_output, attention_mask):\n",
    "    token_embeddings = model_output[0] #First element of model_output contains all token embeddings\n",
    "    input_mask_expanded = attention_mask.unsqueeze(-1).expand(token_embeddings.size()).float()\n",
    "    sum_embeddings = torch.sum(token_embeddings * input_mask_expanded, 1)\n",
    "    sum_mask = torch.clamp(input_mask_expanded.sum(1), min=1e-9)\n",
    "    return(sum_embeddings / sum_mask)"
   ]
  },
  {
   "cell_type": "code",
   "execution_count": 9,
   "id": "dc9bbea3",
   "metadata": {},
   "outputs": [],
   "source": [
    "model_path = 'data/fine_tuned_model_Final0.3'\n",
    "#model_path = 'rxn-data-from-postgresql/models/reaxys_bert/checkpoint-4356432-epoch-36'\n",
    "\n",
    "model = AutoModel.from_pretrained(model_path, output_hidden_states=True)\n",
    "#tokenizer = SmilesTokenizer(vocab_file='rxn-data-from-postgresql/models/reaxys_bert/checkpoint-4235420-epoch-35/vocab.txt')\n",
    "tokenizer = SmilesTokenizer(vocab_file='data/fine_tuned_model_Final0.3/vocab.txt')"
   ]
  },
  {
   "cell_type": "code",
   "execution_count": 10,
   "id": "d4c842d0",
   "metadata": {},
   "outputs": [],
   "source": [
    "device = torch.device(\"cuda:0\" if torch.cuda.is_available() else \"cpu\")\n",
    "model = model.to(device)\n",
    "val_sentence_embeddings = []\n",
    "test_sentence_embeddings = []\n",
    "batch= 64"
   ]
  },
  {
   "cell_type": "code",
   "execution_count": null,
   "id": "f929d2a0",
   "metadata": {},
   "outputs": [
    {
     "name": "stdout",
     "output_type": "stream",
     "text": [
      "1\n"
     ]
    },
    {
     "name": "stderr",
     "output_type": "stream",
     "text": [
      "Processing train1: 100%|██████████| 3759/3759 [02:53<00:00, 21.61it/s]\n"
     ]
    },
    {
     "name": "stdout",
     "output_type": "stream",
     "text": [
      "2\n"
     ]
    },
    {
     "name": "stderr",
     "output_type": "stream",
     "text": [
      "Processing train2: 100%|██████████| 3759/3759 [02:45<00:00, 22.66it/s]\n"
     ]
    },
    {
     "name": "stdout",
     "output_type": "stream",
     "text": [
      "3\n"
     ]
    },
    {
     "name": "stderr",
     "output_type": "stream",
     "text": [
      "Processing train4: 100%|██████████| 3759/3759 [03:02<00:00, 20.62it/s]\n"
     ]
    },
    {
     "name": "stdout",
     "output_type": "stream",
     "text": [
      "5\n"
     ]
    },
    {
     "name": "stderr",
     "output_type": "stream",
     "text": [
      "Processing train5: 100%|██████████| 3759/3759 [03:04<00:00, 20.41it/s]\n"
     ]
    },
    {
     "name": "stdout",
     "output_type": "stream",
     "text": [
      "6\n"
     ]
    },
    {
     "name": "stderr",
     "output_type": "stream",
     "text": [
      "Processing train6: 100%|██████████| 3759/3759 [03:04<00:00, 20.42it/s]\n"
     ]
    },
    {
     "name": "stdout",
     "output_type": "stream",
     "text": [
      "7\n"
     ]
    },
    {
     "name": "stderr",
     "output_type": "stream",
     "text": [
      "Processing train7: 100%|██████████| 3759/3759 [03:05<00:00, 20.31it/s]\n"
     ]
    },
    {
     "name": "stdout",
     "output_type": "stream",
     "text": [
      "8\n"
     ]
    },
    {
     "name": "stderr",
     "output_type": "stream",
     "text": [
      "Processing train8:  91%|█████████ | 3418/3759 [02:48<00:15, 22.35it/s]"
     ]
    }
   ],
   "source": [
    "for idx in range(1, 11):\n",
    "    print(idx)\n",
    "    train_df = globals()[f'train{idx}']\n",
    "    train_reactions = train_df['reaction'].astype(str).tolist()\n",
    "    sentence_embeddings = []\n",
    "    batch_size = 64  # Define a suitable batch size\n",
    "\n",
    "    for i in tqdm(range(0, len(train_reactions), batch_size), desc=f'Processing train{idx}'):\n",
    "        # Tokenize sentences\n",
    "        encoded_input = tokenizer(train_reactions[i:i+batch_size], padding=True, truncation=True, max_length=512, return_tensors='pt').to(device)\n",
    "\n",
    "        # Compute token embeddings\n",
    "        with torch.no_grad():\n",
    "            model_output = model(**encoded_input)\n",
    "\n",
    "        # Perform pooling\n",
    "        sentence_embeddings.extend([x.cpu().detach().numpy() for x in mean_pooling(model_output, encoded_input['attention_mask'])])\n",
    "\n",
    "    # Assign embeddings to the DataFrame and save to files\n",
    "    train_df['OptBertFP'] = sentence_embeddings\n",
    "    X_train = np.array(train_df['OptBertFP'])\n",
    "    np.save(f'../ReactionClassification_2024/data/OptBertFPFinal0.3/X_train{idx}_OptBertFP.npy', X_train)\n",
    "    #train_df.to_csv(f'../ReactionClassification_2024/data/PreBertFP/train{idx}_PreBertFP.csv', index=False)"
   ]
  },
  {
   "cell_type": "code",
   "execution_count": null,
   "id": "fa122251",
   "metadata": {},
   "outputs": [],
   "source": [
    "#train.to_csv('data/PreBertFP/train_PreBertFP.csv', index=False)"
   ]
  },
  {
   "cell_type": "markdown",
   "id": "0db4bcb0",
   "metadata": {},
   "source": [
    "### Test and Val Embedding"
   ]
  },
  {
   "cell_type": "code",
   "execution_count": null,
   "id": "66871a8c",
   "metadata": {},
   "outputs": [],
   "source": [
    "val_reactions = val['reaction'].astype(str).tolist()\n",
    "for i in tqdm(range(0, len(val_reactions), batch)):\n",
    "    #Tokenize sentences\n",
    "    encoded_input = tokenizer(val_reactions[i:i+batch], padding=True, truncation=True, max_length=512, return_tensors='pt').to(device)\n",
    "\n",
    "    #Compute token embeddings\n",
    "    with torch.no_grad():\n",
    "        model_output = model(**encoded_input)\n",
    "\n",
    "    #Perform pooling. In this case, mean pooling\n",
    "    val_sentence_embeddings.extend([x.cpu().detach().numpy() for x in mean_pooling(model_output, encoded_input['attention_mask'])])"
   ]
  },
  {
   "cell_type": "code",
   "execution_count": null,
   "id": "3b606a8a",
   "metadata": {},
   "outputs": [],
   "source": [
    "val['OptBertFP'] = val_sentence_embeddings"
   ]
  },
  {
   "cell_type": "code",
   "execution_count": null,
   "id": "a3fc37a5",
   "metadata": {},
   "outputs": [],
   "source": [
    "X_val = np.array(val['OptBertFP'])"
   ]
  },
  {
   "cell_type": "code",
   "execution_count": null,
   "id": "1e5f15d9",
   "metadata": {},
   "outputs": [],
   "source": [
    "np.save('../ReactionClassification_2024/data/OptBertFPFinal0.3/X_val_OptBertFP.npy', X_val)"
   ]
  },
  {
   "cell_type": "code",
   "execution_count": null,
   "id": "027fce5c",
   "metadata": {},
   "outputs": [],
   "source": [
    "#val.to_csv('data/PreBertFP/val_PreBertFP.csv', index=False)"
   ]
  },
  {
   "cell_type": "code",
   "execution_count": null,
   "id": "d97fea87",
   "metadata": {},
   "outputs": [],
   "source": [
    "test_reactions = test['reaction'].astype(str).tolist()\n",
    "for i in tqdm(range(0, len(test_reactions), batch)):\n",
    "    #Tokenize sentences\n",
    "    encoded_input = tokenizer(test_reactions[i:i+batch], padding=True, truncation=True, max_length=512, return_tensors='pt').to(device)\n",
    "\n",
    "    #Compute token embeddings\n",
    "    with torch.no_grad():\n",
    "        model_output = model(**encoded_input)\n",
    "\n",
    "    #Perform pooling. In this case, mean pooling\n",
    "    test_sentence_embeddings.extend([x.cpu().detach().numpy() for x in mean_pooling(model_output, encoded_input['attention_mask'])])"
   ]
  },
  {
   "cell_type": "code",
   "execution_count": null,
   "id": "d6852dd6",
   "metadata": {},
   "outputs": [],
   "source": [
    "test['OptBertFP'] = test_sentence_embeddings\n",
    "X_test = np.array(test['OptBertFP'])"
   ]
  },
  {
   "cell_type": "code",
   "execution_count": null,
   "id": "fa2d4006",
   "metadata": {},
   "outputs": [],
   "source": [
    "np.save('../ReactionClassification_2024/data/OptBertFPFinal0.3/X_test_OptBertFP.npy', X_test)"
   ]
  },
  {
   "cell_type": "code",
   "execution_count": 17,
   "id": "53bb615b",
   "metadata": {},
   "outputs": [],
   "source": [
    "#test.to_csv('data/PreBertFP/test_PreBertFP.csv', index=False)"
   ]
  },
  {
   "cell_type": "markdown",
   "id": "71fb1468",
   "metadata": {},
   "source": [
    "### Data Load"
   ]
  },
  {
   "cell_type": "code",
   "execution_count": 3,
   "id": "d2e4b4c4",
   "metadata": {},
   "outputs": [],
   "source": [
    "X_train1 = np.load('../ReactionClassification_2024/data/OptBertFPFinal0.3/X_train1_OptBertFP.npy',allow_pickle=True)\n",
    "X_train2 = np.load('../ReactionClassification_2024/data/OptBertFPFinal0.3/X_train2_OptBertFP.npy',allow_pickle=True)\n",
    "X_train3 = np.load('../ReactionClassification_2024/data/OptBertFPFinal0.3/X_train3_OptBertFP.npy',allow_pickle=True)\n",
    "X_train4 = np.load('../ReactionClassification_2024/data/OptBertFPFinal0.3/X_train4_OptBertFP.npy',allow_pickle=True)\n",
    "X_train5 = np.load('../ReactionClassification_2024/data/OptBertFPFinal0.3/X_train5_OptBertFP.npy',allow_pickle=True)\n",
    "X_train6 = np.load('../ReactionClassification_2024/data/OptBertFPFinal0.3/X_train6_OptBertFP.npy',allow_pickle=True)\n",
    "X_train7 = np.load('../ReactionClassification_2024/data/OptBertFPFinal0.3/X_train7_OptBertFP.npy',allow_pickle=True)\n",
    "X_train8 = np.load('../ReactionClassification_2024/data/OptBertFPFinal0.3/X_train8_OptBertFP.npy',allow_pickle=True)\n",
    "X_train9 = np.load('../ReactionClassification_2024/data/OptBertFPFinal0.3/X_train9_OptBertFP.npy',allow_pickle=True)\n",
    "X_train10 = np.load('../ReactionClassification_2024/data/OptBertFPFinal0.3/X_train10_OptBertFP.npy',allow_pickle=True)"
   ]
  },
  {
   "cell_type": "code",
   "execution_count": 4,
   "id": "153c8fc8",
   "metadata": {},
   "outputs": [],
   "source": [
    "X_train = np.concatenate([X_train1, X_train2, X_train3, X_train4, X_train5,\n",
    "                          X_train6, X_train7, X_train8, X_train9, X_train10], axis=0)"
   ]
  },
  {
   "cell_type": "code",
   "execution_count": 5,
   "id": "6ea69e0a",
   "metadata": {},
   "outputs": [],
   "source": [
    "X_train1 = np.vstack(X_train)\n",
    "X_train = np.squeeze(X_train1)"
   ]
  },
  {
   "cell_type": "code",
   "execution_count": 6,
   "id": "ac7e7572",
   "metadata": {},
   "outputs": [],
   "source": [
    "#X_train = np.load('data/RXNFP/X_train_RXNFP.npy')\n",
    "X_test = np.load('../ReactionClassification_2024/data/OptBertFPFinal0.3/X_test_OptBertFP.npy',allow_pickle=True)\n",
    "X_val = np.load('../ReactionClassification_2024/data/OptBertFPFinal0.3/X_val_OptBertFP.npy',allow_pickle=True)"
   ]
  },
  {
   "cell_type": "code",
   "execution_count": 7,
   "id": "3f601c6e",
   "metadata": {},
   "outputs": [],
   "source": [
    "X_test1 = np.vstack(X_test)\n",
    "X_test = np.squeeze(X_test1)"
   ]
  },
  {
   "cell_type": "code",
   "execution_count": 8,
   "id": "9d9c2f71",
   "metadata": {},
   "outputs": [],
   "source": [
    "X_val1 = np.vstack(X_val)\n",
    "X_val = np.squeeze(X_val1)"
   ]
  },
  {
   "cell_type": "code",
   "execution_count": 9,
   "id": "3dc6cf7e",
   "metadata": {},
   "outputs": [],
   "source": [
    "train = pd.read_csv('../ReactionClassification_2024/data/train.csv', delimiter=',')\n",
    "test = pd.read_csv('../ReactionClassification_2024/data/test.csv', delimiter=',')\n",
    "val = pd.read_csv('../ReactionClassification_2024/data/val.csv', delimiter=',')"
   ]
  },
  {
   "cell_type": "code",
   "execution_count": 10,
   "id": "f9338929",
   "metadata": {},
   "outputs": [],
   "source": [
    "y_train = train['CLASS-ID'].values\n",
    "y_test = test['CLASS-ID'].values\n",
    "y_val = val['CLASS-ID'].values"
   ]
  },
  {
   "cell_type": "markdown",
   "id": "472bdbc0",
   "metadata": {},
   "source": [
    "### Test on Val set"
   ]
  },
  {
   "cell_type": "code",
   "execution_count": 11,
   "id": "a30c852a",
   "metadata": {},
   "outputs": [],
   "source": [
    "import faiss\n",
    "index = faiss.IndexFlatL2(X_train.shape[1])\n",
    "index.add(X_train)"
   ]
  },
  {
   "cell_type": "code",
   "execution_count": 12,
   "id": "d530266c",
   "metadata": {},
   "outputs": [],
   "source": [
    "from tqdm import tqdm\n",
    "k = 1 \n",
    "\n",
    "batch_size = 1000\n",
    "\n",
    "num_batches = (X_val.shape[0] + batch_size - 1) // batch_size"
   ]
  },
  {
   "cell_type": "code",
   "execution_count": 13,
   "id": "387238ba",
   "metadata": {},
   "outputs": [
    {
     "name": "stderr",
     "output_type": "stream",
     "text": [
      "FAISS Search on Val Data: 100%|██████████| 332/332 [2:04:22<00:00, 22.48s/it]  \n"
     ]
    }
   ],
   "source": [
    "D_val_1nn = np.zeros((X_val.shape[0], k), dtype=np.float32)\n",
    "I_val_1nn = np.zeros((X_val.shape[0], k), dtype=np.int64)\n",
    "\n",
    "for b in tqdm(range(num_batches), desc='FAISS Search on Val Data'):\n",
    "    start = b * batch_size\n",
    "    \n",
    "    end = min((b + 1) * batch_size, X_val.shape[0])\n",
    "    D, I = index.search(X_val[start:end], k)\n",
    "    D_val_1nn[start:end, :] = D\n",
    "    I_val_1nn[start:end, :] = I"
   ]
  },
  {
   "cell_type": "code",
   "execution_count": 35,
   "id": "d8062d3c",
   "metadata": {},
   "outputs": [],
   "source": [
    "y_pred_val_1nn = np.array(y_train[I_val_1nn])"
   ]
  },
  {
   "cell_type": "code",
   "execution_count": 15,
   "id": "899f8f44",
   "metadata": {},
   "outputs": [],
   "source": [
    "np.save('../ReactionClassification_2024/data/OptBertFPFinal0.3/y_pred_val_1nn', y_pred_val_1nn)"
   ]
  },
  {
   "cell_type": "code",
   "execution_count": 16,
   "id": "bc111100",
   "metadata": {},
   "outputs": [],
   "source": [
    "y_pred_val_1nn = np.load('../ReactionClassification_2024/data/OptBertFPFinal0.3/y_pred_val_1nn.npy')"
   ]
  },
  {
   "cell_type": "code",
   "execution_count": 17,
   "id": "4e4541fd",
   "metadata": {},
   "outputs": [
    {
     "name": "stdout",
     "output_type": "stream",
     "text": [
      "Overall Accuracy: 0.9616342724975164\n"
     ]
    }
   ],
   "source": [
    "print(f'Overall Accuracy: {accuracy_score(y_val, y_pred_val_1nn)}')"
   ]
  },
  {
   "cell_type": "markdown",
   "id": "ec7ae225",
   "metadata": {},
   "source": [
    "### Test on Test set"
   ]
  },
  {
   "cell_type": "code",
   "execution_count": 18,
   "id": "1c703bf9",
   "metadata": {},
   "outputs": [],
   "source": [
    "k = 1  \n",
    "batch_size = 1000  \n",
    "\n",
    "num_batches = (X_test.shape[0] + batch_size - 1) // batch_size"
   ]
  },
  {
   "cell_type": "code",
   "execution_count": 19,
   "id": "6866a7e9",
   "metadata": {},
   "outputs": [
    {
     "name": "stderr",
     "output_type": "stream",
     "text": [
      "FAISS Search on Test Data: 100%|██████████| 331/331 [2:04:13<00:00, 22.52s/it]  \n"
     ]
    }
   ],
   "source": [
    "D_test_1nn = np.zeros((X_test.shape[0], k), dtype=np.float32)\n",
    "I_test_1nn = np.zeros((X_test.shape[0], k), dtype=np.int64)\n",
    "\n",
    "for b in tqdm(range(num_batches), desc='FAISS Search on Test Data'):\n",
    "    start = b * batch_size\n",
    "    end = min((b + 1) * batch_size, X_test.shape[0])\n",
    "    D, I = index.search(X_test[start:end], k)\n",
    "    D_test_1nn[start:end, :] = D\n",
    "    I_test_1nn[start:end, :] = I"
   ]
  },
  {
   "cell_type": "code",
   "execution_count": 20,
   "id": "5b5e34e1",
   "metadata": {},
   "outputs": [],
   "source": [
    "y_pred_test_1nn = np.array(y_train[I_test_1nn])"
   ]
  },
  {
   "cell_type": "code",
   "execution_count": 21,
   "id": "bc142f7e",
   "metadata": {},
   "outputs": [],
   "source": [
    "np.save('../ReactionClassification_2024/data/OptBertFPFinal0.3/y_pred_test_1nn', y_pred_test_1nn)"
   ]
  },
  {
   "cell_type": "code",
   "execution_count": 22,
   "id": "8619fbd0",
   "metadata": {},
   "outputs": [],
   "source": [
    "y_pred_test_1nn = np.load('../ReactionClassification_2024/data/OptBertFPFinal0.3/y_pred_test_1nn.npy')"
   ]
  },
  {
   "cell_type": "code",
   "execution_count": 23,
   "id": "4757403a",
   "metadata": {},
   "outputs": [
    {
     "name": "stdout",
     "output_type": "stream",
     "text": [
      "Overall Accuracy: 0.9613977812037121\n"
     ]
    }
   ],
   "source": [
    "print(f'Overall Accuracy: {accuracy_score(y_test, y_pred_test_1nn)}')"
   ]
  },
  {
   "cell_type": "code",
   "execution_count": 24,
   "id": "7d01d032",
   "metadata": {},
   "outputs": [
    {
     "name": "stderr",
     "output_type": "stream",
     "text": [
      "/opt/conda/envs/reaction-workbench-env/lib/python3.8/site-packages/sklearn/metrics/_classification.py:1221: UndefinedMetricWarning: Precision and F-score are ill-defined and being set to 0.0 in labels with no predicted samples. Use `zero_division` parameter to control this behavior.\n",
      "  _warn_prf(average, modifier, msg_start, len(result))\n"
     ]
    }
   ],
   "source": [
    "report_test1nn = classification_report(y_test, y_pred_test_1nn, output_dict=True)\n",
    "report_df = pd.DataFrame(report_test1nn).transpose()\n",
    "df_test1nn = report_df[:-3].reset_index().rename(columns={'index': 'CLASS-ID'})\n",
    "df_test1nn['test_support'] = df_test1nn['support'].astype(int)\n",
    "df_test1nn['CLASS-ID'] = df_test1nn['CLASS-ID'].astype(int)"
   ]
  },
  {
   "cell_type": "code",
   "execution_count": 25,
   "id": "3994593b",
   "metadata": {},
   "outputs": [],
   "source": [
    "train_class_support = train['CLASS-ID'].value_counts().sort_index()\n",
    "train_support_df = train_class_support.reset_index()\n",
    "train_support_df.columns = ['CLASS-ID', 'train_support']\n",
    "train_support_df['CLASS-ID'] = train_support_df['CLASS-ID'].astype(int)"
   ]
  },
  {
   "cell_type": "code",
   "execution_count": 26,
   "id": "3463cafb",
   "metadata": {},
   "outputs": [],
   "source": [
    "# Merge with df_val1nn on 'CLASS-ID'\n",
    "df_test1nn_report = pd.merge(df_test1nn, train_support_df, on='CLASS-ID', how='left')\n",
    "# Sort based on the number of train_support\n",
    "df_test1nn_report = df_test1nn_report.sort_values(by='train_support', ascending=False)\n",
    "df_test1nn_report = df_test1nn_report.drop(columns=['support'])"
   ]
  },
  {
   "cell_type": "code",
   "execution_count": 27,
   "id": "8984ba09",
   "metadata": {},
   "outputs": [],
   "source": [
    "df_class = pd.read_csv('../ReactionClassification_2024/data/className.tsv', sep='\\t', encoding='ISO-8859-1')"
   ]
  },
  {
   "cell_type": "code",
   "execution_count": 28,
   "id": "7d181c05",
   "metadata": {},
   "outputs": [],
   "source": [
    "# Convert multi Class-ID into one\n",
    "def clean_class_id(row):\n",
    "    # Split the string by comma and convert to a list\n",
    "    class_ids = str(row['CLASS-ID']).split(',')\n",
    "    # Return the first element from the list, ensuring it's an integer\n",
    "    return int(class_ids[0].strip())\n",
    "\n",
    "# Apply the function to the 'CLASS-ID' column\n",
    "df_class['CLASS-ID'] = df_class.apply(clean_class_id, axis=1)\n",
    "df_class['CLASS-ID'] = df_class['CLASS-ID'].astype(int)"
   ]
  },
  {
   "cell_type": "code",
   "execution_count": 29,
   "id": "3e5f3e05",
   "metadata": {},
   "outputs": [],
   "source": [
    "df_test1nn = pd.merge(df_test1nn_report, df_class[['CLASS-ID', 'TRANSFORM_NAME', 'TRANSFORM_ID']], on='CLASS-ID', how='left')"
   ]
  },
  {
   "cell_type": "code",
   "execution_count": 30,
   "id": "ac3b53c8",
   "metadata": {},
   "outputs": [
    {
     "data": {
      "text/html": [
       "<div>\n",
       "<style scoped>\n",
       "    .dataframe tbody tr th:only-of-type {\n",
       "        vertical-align: middle;\n",
       "    }\n",
       "\n",
       "    .dataframe tbody tr th {\n",
       "        vertical-align: top;\n",
       "    }\n",
       "\n",
       "    .dataframe thead th {\n",
       "        text-align: right;\n",
       "    }\n",
       "</style>\n",
       "<table border=\"1\" class=\"dataframe\">\n",
       "  <thead>\n",
       "    <tr style=\"text-align: right;\">\n",
       "      <th></th>\n",
       "      <th>CLASS-ID</th>\n",
       "      <th>precision</th>\n",
       "      <th>recall</th>\n",
       "      <th>f1-score</th>\n",
       "      <th>test_support</th>\n",
       "      <th>train_support</th>\n",
       "      <th>TRANSFORM_NAME</th>\n",
       "      <th>TRANSFORM_ID</th>\n",
       "    </tr>\n",
       "  </thead>\n",
       "  <tbody>\n",
       "    <tr>\n",
       "      <th>0</th>\n",
       "      <td>1085</td>\n",
       "      <td>0.999039</td>\n",
       "      <td>0.999399</td>\n",
       "      <td>0.999219</td>\n",
       "      <td>24966</td>\n",
       "      <td>185024</td>\n",
       "      <td>Suzuki coupling, Suzuki-Miyaura Cross-Coupling</td>\n",
       "      <td>(ARCOUPLG)4.1.B, (AVNAMEDR)Suzuki-Miyaura</td>\n",
       "    </tr>\n",
       "    <tr>\n",
       "      <th>1</th>\n",
       "      <td>432</td>\n",
       "      <td>0.985893</td>\n",
       "      <td>0.986218</td>\n",
       "      <td>0.986055</td>\n",
       "      <td>21259</td>\n",
       "      <td>164914</td>\n",
       "      <td>N-alkylation of alkylamines</td>\n",
       "      <td>(AG2ALKN)1.1.2</td>\n",
       "    </tr>\n",
       "    <tr>\n",
       "      <th>2</th>\n",
       "      <td>1016</td>\n",
       "      <td>0.994446</td>\n",
       "      <td>0.992906</td>\n",
       "      <td>0.993675</td>\n",
       "      <td>15507</td>\n",
       "      <td>113635</td>\n",
       "      <td>hydrolysis of carboxylic esters</td>\n",
       "      <td>(AQCLEAV1)1.1</td>\n",
       "    </tr>\n",
       "    <tr>\n",
       "      <th>3</th>\n",
       "      <td>60</td>\n",
       "      <td>0.998927</td>\n",
       "      <td>0.999017</td>\n",
       "      <td>0.998972</td>\n",
       "      <td>11185</td>\n",
       "      <td>85921</td>\n",
       "      <td>reduction of C-NO2 to C-NH2</td>\n",
       "      <td>(AAREDUCT)A.1</td>\n",
       "    </tr>\n",
       "    <tr>\n",
       "      <th>4</th>\n",
       "      <td>433</td>\n",
       "      <td>0.955051</td>\n",
       "      <td>0.958882</td>\n",
       "      <td>0.956962</td>\n",
       "      <td>7977</td>\n",
       "      <td>60554</td>\n",
       "      <td>N-alkylation of benzenoid amines, anilines</td>\n",
       "      <td>(AG2ALKN)1.1.3</td>\n",
       "    </tr>\n",
       "    <tr>\n",
       "      <th>...</th>\n",
       "      <td>...</td>\n",
       "      <td>...</td>\n",
       "      <td>...</td>\n",
       "      <td>...</td>\n",
       "      <td>...</td>\n",
       "      <td>...</td>\n",
       "      <td>...</td>\n",
       "      <td>...</td>\n",
       "    </tr>\n",
       "    <tr>\n",
       "      <th>1294</th>\n",
       "      <td>1267</td>\n",
       "      <td>0.500000</td>\n",
       "      <td>1.000000</td>\n",
       "      <td>0.666667</td>\n",
       "      <td>1</td>\n",
       "      <td>8</td>\n",
       "      <td>Brackeen Imidazole Synthesis</td>\n",
       "      <td>(AVNAMEDR)Brackeen</td>\n",
       "    </tr>\n",
       "    <tr>\n",
       "      <th>1295</th>\n",
       "      <td>1800</td>\n",
       "      <td>1.000000</td>\n",
       "      <td>1.000000</td>\n",
       "      <td>1.000000</td>\n",
       "      <td>5</td>\n",
       "      <td>8</td>\n",
       "      <td>Shestakov Hydrazino Acid Synthesis</td>\n",
       "      <td>(AVNAMEDR)Shestakov</td>\n",
       "    </tr>\n",
       "    <tr>\n",
       "      <th>1296</th>\n",
       "      <td>500</td>\n",
       "      <td>0.000000</td>\n",
       "      <td>0.000000</td>\n",
       "      <td>0.000000</td>\n",
       "      <td>1</td>\n",
       "      <td>7</td>\n",
       "      <td>O-propargylation of N-hydroxy amides, includin...</td>\n",
       "      <td>(AG2ALKO)2.4.1</td>\n",
       "    </tr>\n",
       "    <tr>\n",
       "      <th>1297</th>\n",
       "      <td>1622</td>\n",
       "      <td>1.000000</td>\n",
       "      <td>1.000000</td>\n",
       "      <td>1.000000</td>\n",
       "      <td>1</td>\n",
       "      <td>7</td>\n",
       "      <td>ListMacMillan Hydrogenation</td>\n",
       "      <td>(AVNAMEDR)List-MacMillan</td>\n",
       "    </tr>\n",
       "    <tr>\n",
       "      <th>1298</th>\n",
       "      <td>1404</td>\n",
       "      <td>1.000000</td>\n",
       "      <td>1.000000</td>\n",
       "      <td>1.000000</td>\n",
       "      <td>2</td>\n",
       "      <td>7</td>\n",
       "      <td>Frankland-Duppa Reaction</td>\n",
       "      <td>(AVNAMEDR)Frankland-Duppa</td>\n",
       "    </tr>\n",
       "  </tbody>\n",
       "</table>\n",
       "<p>1299 rows × 8 columns</p>\n",
       "</div>"
      ],
      "text/plain": [
       "      CLASS-ID  precision    recall  f1-score  test_support  train_support  \\\n",
       "0         1085   0.999039  0.999399  0.999219         24966         185024   \n",
       "1          432   0.985893  0.986218  0.986055         21259         164914   \n",
       "2         1016   0.994446  0.992906  0.993675         15507         113635   \n",
       "3           60   0.998927  0.999017  0.998972         11185          85921   \n",
       "4          433   0.955051  0.958882  0.956962          7977          60554   \n",
       "...        ...        ...       ...       ...           ...            ...   \n",
       "1294      1267   0.500000  1.000000  0.666667             1              8   \n",
       "1295      1800   1.000000  1.000000  1.000000             5              8   \n",
       "1296       500   0.000000  0.000000  0.000000             1              7   \n",
       "1297      1622   1.000000  1.000000  1.000000             1              7   \n",
       "1298      1404   1.000000  1.000000  1.000000             2              7   \n",
       "\n",
       "                                         TRANSFORM_NAME  \\\n",
       "0        Suzuki coupling, Suzuki-Miyaura Cross-Coupling   \n",
       "1                           N-alkylation of alkylamines   \n",
       "2                       hydrolysis of carboxylic esters   \n",
       "3                           reduction of C-NO2 to C-NH2   \n",
       "4            N-alkylation of benzenoid amines, anilines   \n",
       "...                                                 ...   \n",
       "1294                       Brackeen Imidazole Synthesis   \n",
       "1295                 Shestakov Hydrazino Acid Synthesis   \n",
       "1296  O-propargylation of N-hydroxy amides, includin...   \n",
       "1297                       ListMacMillan Hydrogenation   \n",
       "1298                           Frankland-Duppa Reaction   \n",
       "\n",
       "                                   TRANSFORM_ID  \n",
       "0     (ARCOUPLG)4.1.B, (AVNAMEDR)Suzuki-Miyaura  \n",
       "1                                (AG2ALKN)1.1.2  \n",
       "2                                 (AQCLEAV1)1.1  \n",
       "3                                 (AAREDUCT)A.1  \n",
       "4                                (AG2ALKN)1.1.3  \n",
       "...                                         ...  \n",
       "1294                         (AVNAMEDR)Brackeen  \n",
       "1295                        (AVNAMEDR)Shestakov  \n",
       "1296                             (AG2ALKO)2.4.1  \n",
       "1297                   (AVNAMEDR)List-MacMillan  \n",
       "1298                  (AVNAMEDR)Frankland-Duppa  \n",
       "\n",
       "[1299 rows x 8 columns]"
      ]
     },
     "execution_count": 30,
     "metadata": {},
     "output_type": "execute_result"
    }
   ],
   "source": [
    "df_test1nn"
   ]
  },
  {
   "cell_type": "code",
   "execution_count": 31,
   "id": "d9e43c8d",
   "metadata": {},
   "outputs": [],
   "source": [
    "df_test1nn.to_csv('data/OptBertFPFinal0.3/df_test1nn.csv', index=False)"
   ]
  },
  {
   "cell_type": "code",
   "execution_count": 32,
   "id": "1c4adb0c",
   "metadata": {},
   "outputs": [],
   "source": [
    "# Calculate macro average for precision, recall, and f1-score\n",
    "macro_precision2 = df_test1nn['precision'].mean()\n",
    "macro_recall2 = df_test1nn['recall'].mean()\n",
    "macro_f12 = df_test1nn['f1-score'].mean()\n",
    "\n",
    "# Calculate weighted average for precision, recall, and f1-score\n",
    "weighted_precision2 = (df_test1nn['precision'] * df_test1nn['test_support']).sum() / df_test1nn['test_support'].sum()\n",
    "weighted_recall2 = (df_test1nn['recall'] * df_test1nn['test_support']).sum() / df_test1nn['test_support'].sum()\n",
    "weighted_f12 = (df_test1nn['f1-score'] * df_test1nn['test_support']).sum() / df_test1nn['test_support'].sum()"
   ]
  },
  {
   "cell_type": "code",
   "execution_count": 33,
   "id": "5476d8d9",
   "metadata": {},
   "outputs": [],
   "source": [
    "output1 = f\"\"\"\n",
    "Macro-averages:\n",
    "- Precision: {macro_precision2:.4f}\n",
    "- Recall: {macro_recall2:.4f}\n",
    "- F1-score: {macro_f12:.4f}\n",
    "\n",
    "Weighted-averages:\n",
    "- Precision: {weighted_precision2:.4f}\n",
    "- Recall: {weighted_recall2:.4f}\n",
    "- F1-score: {weighted_f12:.4f}\n",
    "\"\"\""
   ]
  },
  {
   "cell_type": "code",
   "execution_count": 34,
   "id": "8a3d6b90",
   "metadata": {},
   "outputs": [
    {
     "name": "stdout",
     "output_type": "stream",
     "text": [
      "\n",
      "Macro-averages:\n",
      "- Precision: 0.8957\n",
      "- Recall: 0.8800\n",
      "- F1-score: 0.8813\n",
      "\n",
      "Weighted-averages:\n",
      "- Precision: 0.9614\n",
      "- Recall: 0.9614\n",
      "- F1-score: 0.9612\n",
      "\n"
     ]
    }
   ],
   "source": [
    "print(output1)"
   ]
  },
  {
   "cell_type": "code",
   "execution_count": null,
   "id": "de48255f",
   "metadata": {},
   "outputs": [],
   "source": []
  },
  {
   "cell_type": "code",
   "execution_count": null,
   "id": "e06d3e6e",
   "metadata": {},
   "outputs": [],
   "source": []
  }
 ],
 "metadata": {
  "kernelspec": {
   "display_name": "reaction-workbench-env [Python]",
   "language": "python",
   "name": "conda-env-reaction-workbench-env-py"
  },
  "language_info": {
   "codemirror_mode": {
    "name": "ipython",
    "version": 3
   },
   "file_extension": ".py",
   "mimetype": "text/x-python",
   "name": "python",
   "nbconvert_exporter": "python",
   "pygments_lexer": "ipython3",
   "version": "3.8.8"
  }
 },
 "nbformat": 4,
 "nbformat_minor": 5
}
