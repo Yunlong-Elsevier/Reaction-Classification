{
 "cells": [
  {
   "cell_type": "code",
   "execution_count": null,
   "id": "beec18b9",
   "metadata": {},
   "outputs": [],
   "source": [
    "# Imports\n",
    "import os\n",
    "import numpy as np\n",
    "import pandas as pd\n",
    "from collections import Counter\n",
    "import matplotlib.pyplot as plt\n",
    "import pickle\n",
    "from sklearn.metrics import classification_report, accuracy_score\n",
    "from sklearn.metrics import confusion_matrix"
   ]
  },
  {
   "cell_type": "markdown",
   "id": "584cefd4",
   "metadata": {
    "jp-MarkdownHeadingCollapsed": true,
    "tags": []
   },
   "source": [
    "### Data load"
   ]
  },
  {
   "cell_type": "code",
   "execution_count": null,
   "id": "15b78c32",
   "metadata": {},
   "outputs": [],
   "source": [
    "X_train = np.load('data/DRFP/X_train_DRFP.npy')\n",
    "X_test = np.load('data/DRFP/X_test_DRFP.npy')\n",
    "X_val = np.load('data/DRFP/X_val_DRFP.npy')"
   ]
  },
  {
   "cell_type": "code",
   "execution_count": null,
   "id": "acc07d5a",
   "metadata": {},
   "outputs": [],
   "source": [
    "train = pd.read_csv('data/train.csv', delimiter=',')\n",
    "test = pd.read_csv('data/test.csv', delimiter=',')\n",
    "val = pd.read_csv('data/val.csv', delimiter=',')"
   ]
  },
  {
   "cell_type": "code",
   "execution_count": null,
   "id": "2ab8ba34",
   "metadata": {},
   "outputs": [],
   "source": [
    "y_train = train['CLASS-ID'].values\n",
    "y_test = test['CLASS-ID'].values\n",
    "y_val = val['CLASS-ID'].values"
   ]
  },
  {
   "cell_type": "code",
   "execution_count": null,
   "id": "a696ec2f",
   "metadata": {},
   "outputs": [],
   "source": [
    "X_train = np.squeeze(X_train)\n",
    "X_test = np.squeeze(X_test)\n",
    "X_val = np.squeeze(X_val)"
   ]
  },
  {
   "cell_type": "code",
   "execution_count": null,
   "id": "54da2d09",
   "metadata": {},
   "outputs": [],
   "source": [
    "df_test1nn = pd.read_csv('data/DRFP/df_test1nn.csv', delimiter=',')"
   ]
  },
  {
   "cell_type": "code",
   "execution_count": null,
   "id": "b6a21007",
   "metadata": {},
   "outputs": [],
   "source": [
    "y_pred_test1nn = np.load('data/DRFP/y_pred_test_1nn.npy')"
   ]
  },
  {
   "cell_type": "markdown",
   "id": "3ea78052",
   "metadata": {},
   "source": [
    "### Evaluation"
   ]
  },
  {
   "cell_type": "code",
   "execution_count": null,
   "id": "98f8be38",
   "metadata": {},
   "outputs": [],
   "source": [
    "df_class = pd.read_csv('data/className.tsv', sep='\\t', encoding='ISO-8859-1')"
   ]
  },
  {
   "cell_type": "code",
   "execution_count": null,
   "id": "0e4d5c1b",
   "metadata": {},
   "outputs": [],
   "source": [
    "# Convert multi Class-ID into one\n",
    "def clean_class_id(row):\n",
    "    # Split the string by comma and convert to a list\n",
    "    class_ids = str(row['CLASS-ID']).split(',')\n",
    "    # Return the first element from the list, ensuring it's an integer\n",
    "    return int(class_ids[0].strip())\n",
    "\n",
    "# Apply the function to the 'CLASS-ID' column\n",
    "df_class['CLASS-ID'] = df_class.apply(clean_class_id, axis=1)\n",
    "df_class['CLASS-ID'] = df_class['CLASS-ID'].astype(int)"
   ]
  },
  {
   "cell_type": "code",
   "execution_count": null,
   "id": "8767ab26",
   "metadata": {},
   "outputs": [],
   "source": [
    "df_test1nn = pd.merge(df_test1nn, df_class[['CLASS-ID', 'TRANSFORM_ID']], on='CLASS-ID', how='left')"
   ]
  },
  {
   "cell_type": "code",
   "execution_count": null,
   "id": "0a08b2b9",
   "metadata": {},
   "outputs": [],
   "source": [
    "df_test1nn"
   ]
  },
  {
   "cell_type": "code",
   "execution_count": null,
   "id": "4fa56eeb",
   "metadata": {},
   "outputs": [],
   "source": [
    "df_test1nn['SUPER_TRANSFORM_ID'] = df_test1nn['TRANSFORM_ID'].str.extract(r'\\((.*?)\\)')"
   ]
  },
  {
   "cell_type": "code",
   "execution_count": null,
   "id": "cfb63daf",
   "metadata": {},
   "outputs": [],
   "source": [
    "df_test1nn"
   ]
  },
  {
   "cell_type": "code",
   "execution_count": null,
   "id": "cc572c87",
   "metadata": {},
   "outputs": [],
   "source": [
    "def weighted_mean(values, weights):\n",
    "    return (values * weights).sum() / weights.sum()"
   ]
  },
  {
   "cell_type": "code",
   "execution_count": null,
   "id": "485f8ab4",
   "metadata": {},
   "outputs": [],
   "source": [
    "grouped = df_test1nn.groupby('SUPER_TRANSFORM_ID')\n",
    "\n",
    "grouped_metrics = grouped.apply(lambda x: pd.Series({\n",
    "    'weighted_precision': weighted_mean(x['precision'], x['test_support']),\n",
    "    'weighted_recall': weighted_mean(x['recall'], x['test_support']),\n",
    "    'weighted_f1-score': weighted_mean(x['f1-score'], x['test_support']),\n",
    "    'total_test_support': x['test_support'].sum(),\n",
    "    'total_train_support': x['train_support'].sum(),\n",
    "    'class_count': len(x)\n",
    "}))"
   ]
  },
  {
   "cell_type": "code",
   "execution_count": null,
   "id": "87918b9e",
   "metadata": {},
   "outputs": [],
   "source": [
    "grouped_metrics.sort_values(by=['SUPER_TRANSFORM_ID'])"
   ]
  },
  {
   "cell_type": "code",
   "execution_count": null,
   "id": "f86d3a62",
   "metadata": {},
   "outputs": [],
   "source": [
    "# Calculate macro average for precision, recall, and f1-score\n",
    "macro_precision2 = df_test1nn['precision'].mean()\n",
    "macro_recall2 = df_test1nn['recall'].mean()\n",
    "macro_f12 = df_test1nn['f1-score'].mean()\n",
    "\n",
    "# Calculate weighted average for precision, recall, and f1-score\n",
    "weighted_precision2 = (df_test1nn['precision'] * df_test1nn['test_support']).sum() / df_test1nn['test_support'].sum()\n",
    "weighted_recall2 = (df_test1nn['recall'] * df_test1nn['test_support']).sum() / df_test1nn['test_support'].sum()\n",
    "weighted_f12 = (df_test1nn['f1-score'] * df_test1nn['test_support']).sum() / df_test1nn['test_support'].sum()"
   ]
  },
  {
   "cell_type": "code",
   "execution_count": 19,
   "id": "db93ff1e",
   "metadata": {},
   "outputs": [],
   "source": [
    "output1 = f\"\"\"\n",
    "Macro-averages:\n",
    "- Precision: {macro_precision2:.4f}\n",
    "- Recall: {macro_recall2:.4f}\n",
    "- F1-score: {macro_f12:.4f}\n",
    "\n",
    "Weighted-averages:\n",
    "- Precision: {weighted_precision2:.4f}\n",
    "- Recall: {weighted_recall2:.4f}\n",
    "- F1-score: {weighted_f12:.4f}\n",
    "\"\"\""
   ]
  },
  {
   "cell_type": "code",
   "execution_count": 20,
   "id": "c0ef207a",
   "metadata": {},
   "outputs": [
    {
     "name": "stdout",
     "output_type": "stream",
     "text": [
      "Accuracy: 0.926952026843203\n"
     ]
    }
   ],
   "source": [
    "print(f'Accuracy: {accuracy_score(y_test, y_pred_test1nn)}')"
   ]
  },
  {
   "cell_type": "code",
   "execution_count": 21,
   "id": "a810a435",
   "metadata": {},
   "outputs": [
    {
     "name": "stdout",
     "output_type": "stream",
     "text": [
      "\n",
      "Macro-averages:\n",
      "- Precision: 0.8903\n",
      "- Recall: 0.8603\n",
      "- F1-score: 0.8675\n",
      "\n",
      "Weighted-averages:\n",
      "- Precision: 0.9279\n",
      "- Recall: 0.9270\n",
      "- F1-score: 0.9266\n",
      "\n"
     ]
    }
   ],
   "source": [
    "print(output1)"
   ]
  },
  {
   "cell_type": "code",
   "execution_count": 22,
   "id": "2c7d6628",
   "metadata": {},
   "outputs": [
    {
     "data": {
      "text/html": [
       "<div>\n",
       "<style scoped>\n",
       "    .dataframe tbody tr th:only-of-type {\n",
       "        vertical-align: middle;\n",
       "    }\n",
       "\n",
       "    .dataframe tbody tr th {\n",
       "        vertical-align: top;\n",
       "    }\n",
       "\n",
       "    .dataframe thead th {\n",
       "        text-align: right;\n",
       "    }\n",
       "</style>\n",
       "<table border=\"1\" class=\"dataframe\">\n",
       "  <thead>\n",
       "    <tr style=\"text-align: right;\">\n",
       "      <th></th>\n",
       "      <th>precision</th>\n",
       "      <th>recall</th>\n",
       "      <th>f1-score</th>\n",
       "      <th>test_support</th>\n",
       "      <th>train_support</th>\n",
       "    </tr>\n",
       "  </thead>\n",
       "  <tbody>\n",
       "    <tr>\n",
       "      <th>count</th>\n",
       "      <td>1299.000000</td>\n",
       "      <td>1299.000000</td>\n",
       "      <td>1299.000000</td>\n",
       "      <td>1299.000000</td>\n",
       "      <td>1299.000000</td>\n",
       "    </tr>\n",
       "    <tr>\n",
       "      <th>mean</th>\n",
       "      <td>0.890264</td>\n",
       "      <td>0.860311</td>\n",
       "      <td>0.867475</td>\n",
       "      <td>254.665127</td>\n",
       "      <td>1851.890685</td>\n",
       "    </tr>\n",
       "    <tr>\n",
       "      <th>std</th>\n",
       "      <td>0.182265</td>\n",
       "      <td>0.196462</td>\n",
       "      <td>0.182413</td>\n",
       "      <td>1212.528218</td>\n",
       "      <td>9034.637418</td>\n",
       "    </tr>\n",
       "    <tr>\n",
       "      <th>min</th>\n",
       "      <td>0.000000</td>\n",
       "      <td>0.000000</td>\n",
       "      <td>0.000000</td>\n",
       "      <td>1.000000</td>\n",
       "      <td>7.000000</td>\n",
       "    </tr>\n",
       "    <tr>\n",
       "      <th>25%</th>\n",
       "      <td>0.875000</td>\n",
       "      <td>0.807190</td>\n",
       "      <td>0.833333</td>\n",
       "      <td>6.000000</td>\n",
       "      <td>39.000000</td>\n",
       "    </tr>\n",
       "    <tr>\n",
       "      <th>50%</th>\n",
       "      <td>0.953586</td>\n",
       "      <td>0.928144</td>\n",
       "      <td>0.924370</td>\n",
       "      <td>24.000000</td>\n",
       "      <td>160.000000</td>\n",
       "    </tr>\n",
       "    <tr>\n",
       "      <th>75%</th>\n",
       "      <td>1.000000</td>\n",
       "      <td>1.000000</td>\n",
       "      <td>0.980642</td>\n",
       "      <td>110.500000</td>\n",
       "      <td>811.000000</td>\n",
       "    </tr>\n",
       "    <tr>\n",
       "      <th>max</th>\n",
       "      <td>1.000000</td>\n",
       "      <td>1.000000</td>\n",
       "      <td>1.000000</td>\n",
       "      <td>24966.000000</td>\n",
       "      <td>185024.000000</td>\n",
       "    </tr>\n",
       "  </tbody>\n",
       "</table>\n",
       "</div>"
      ],
      "text/plain": [
       "         precision       recall     f1-score  test_support  train_support\n",
       "count  1299.000000  1299.000000  1299.000000   1299.000000    1299.000000\n",
       "mean      0.890264     0.860311     0.867475    254.665127    1851.890685\n",
       "std       0.182265     0.196462     0.182413   1212.528218    9034.637418\n",
       "min       0.000000     0.000000     0.000000      1.000000       7.000000\n",
       "25%       0.875000     0.807190     0.833333      6.000000      39.000000\n",
       "50%       0.953586     0.928144     0.924370     24.000000     160.000000\n",
       "75%       1.000000     1.000000     0.980642    110.500000     811.000000\n",
       "max       1.000000     1.000000     1.000000  24966.000000  185024.000000"
      ]
     },
     "execution_count": 22,
     "metadata": {},
     "output_type": "execute_result"
    }
   ],
   "source": [
    "summary_stats = df_test1nn[[\"precision\", \"recall\", \"f1-score\", \"test_support\", \"train_support\"]].describe()\n",
    "summary_stats"
   ]
  },
  {
   "cell_type": "code",
   "execution_count": 23,
   "id": "9a183460",
   "metadata": {},
   "outputs": [],
   "source": [
    "low_f1_reactions = df_test1nn[df_test1nn['f1-score'] < df_test1nn['f1-score'].quantile(0.25)].head(10)"
   ]
  },
  {
   "cell_type": "markdown",
   "id": "ba061560",
   "metadata": {},
   "source": [
    "### Wrong predict evaluation in details"
   ]
  },
  {
   "cell_type": "code",
   "execution_count": 24,
   "id": "64849ffe",
   "metadata": {},
   "outputs": [],
   "source": [
    "class_to_transform_id = pd.Series(df_class['TRANSFORM_ID'].values,index=df_class['CLASS-ID']).to_dict()"
   ]
  },
  {
   "cell_type": "code",
   "execution_count": 25,
   "id": "f4540860",
   "metadata": {},
   "outputs": [],
   "source": [
    "y_pred_flattened = y_pred_test1nn.flatten() "
   ]
  },
  {
   "cell_type": "code",
   "execution_count": 26,
   "id": "cd10084d",
   "metadata": {},
   "outputs": [],
   "source": [
    "mismatches = y_pred_flattened != y_test\n",
    "\n",
    "full_comparison_df = pd.DataFrame({\n",
    "    'CLASS-ID': y_test,\n",
    "    'CLASS-ID-predict': y_pred_flattened,\n",
    "    'Misclassified': mismatches\n",
    "})\n",
    "\n",
    "misclassified_df = full_comparison_df[full_comparison_df['Misclassified'] == True].sort_values(by=['CLASS-ID', 'CLASS-ID-predict'])"
   ]
  },
  {
   "cell_type": "code",
   "execution_count": 27,
   "id": "b1cd08f4",
   "metadata": {},
   "outputs": [],
   "source": [
    "counts = misclassified_df.groupby(['CLASS-ID', 'CLASS-ID-predict']).size().reset_index(name='Count')\n",
    "top_counts = (counts.sort_values(by=['CLASS-ID', 'Count'], ascending=[True, False])\n",
    "             .groupby('CLASS-ID')\n",
    "             .head(3))"
   ]
  },
  {
   "cell_type": "code",
   "execution_count": 28,
   "id": "89944bb9",
   "metadata": {},
   "outputs": [],
   "source": [
    "reshaped_df = pd.DataFrame()\n",
    "for i, group in top_counts.groupby('CLASS-ID'):\n",
    "    reshaped_row = {'CLASS-ID': i}\n",
    "    for j, (index, row) in enumerate(group.iterrows(), start=1):\n",
    "        reshaped_row[f'Top{j}_CLASS-ID-predict'] = row['CLASS-ID-predict']\n",
    "        reshaped_row[f'Top{j}_Count'] = row['Count']\n",
    "    reshaped_df = reshaped_df.append(reshaped_row, ignore_index=True)\n",
    "reshaped_df = reshaped_df[['CLASS-ID'] + [col for col in reshaped_df.columns if col != 'CLASS-ID']].fillna(0).astype(int)"
   ]
  },
  {
   "cell_type": "code",
   "execution_count": 29,
   "id": "8fea5f82",
   "metadata": {},
   "outputs": [],
   "source": [
    "reshaped_df['Top1_MISTRANSFORM_ID'] = reshaped_df['Top1_CLASS-ID-predict'].map(class_to_transform_id)\n",
    "reshaped_df['Top2_MISTRANSFORM_ID'] = reshaped_df['Top2_CLASS-ID-predict'].map(class_to_transform_id)\n",
    "reshaped_df['Top3_MISTRANSFORM_ID'] = reshaped_df['Top3_CLASS-ID-predict'].map(class_to_transform_id)"
   ]
  },
  {
   "cell_type": "code",
   "execution_count": 30,
   "id": "01bc5b26",
   "metadata": {},
   "outputs": [],
   "source": [
    "df_low = pd.merge(low_f1_reactions, reshaped_df[['CLASS-ID', 'Top1_MISTRANSFORM_ID', 'Top1_Count', 'Top2_MISTRANSFORM_ID', 'Top2_Count', 'Top3_MISTRANSFORM_ID', 'Top3_Count']], on='CLASS-ID', how='left')"
   ]
  },
  {
   "cell_type": "code",
   "execution_count": 31,
   "id": "dd52bbfb",
   "metadata": {},
   "outputs": [
    {
     "data": {
      "text/html": [
       "<div>\n",
       "<style scoped>\n",
       "    .dataframe tbody tr th:only-of-type {\n",
       "        vertical-align: middle;\n",
       "    }\n",
       "\n",
       "    .dataframe tbody tr th {\n",
       "        vertical-align: top;\n",
       "    }\n",
       "\n",
       "    .dataframe thead th {\n",
       "        text-align: right;\n",
       "    }\n",
       "</style>\n",
       "<table border=\"1\" class=\"dataframe\">\n",
       "  <thead>\n",
       "    <tr style=\"text-align: right;\">\n",
       "      <th></th>\n",
       "      <th>CLASS-ID</th>\n",
       "      <th>precision</th>\n",
       "      <th>recall</th>\n",
       "      <th>f1-score</th>\n",
       "      <th>test_support</th>\n",
       "      <th>train_support</th>\n",
       "      <th>TRANSFORM_NAME</th>\n",
       "      <th>TRANSFORM_ID</th>\n",
       "      <th>SUPER_TRANSFORM_ID</th>\n",
       "      <th>Top1_MISTRANSFORM_ID</th>\n",
       "      <th>Top1_Count</th>\n",
       "      <th>Top2_MISTRANSFORM_ID</th>\n",
       "      <th>Top2_Count</th>\n",
       "      <th>Top3_MISTRANSFORM_ID</th>\n",
       "      <th>Top3_Count</th>\n",
       "    </tr>\n",
       "  </thead>\n",
       "  <tbody>\n",
       "    <tr>\n",
       "      <th>0</th>\n",
       "      <td>72</td>\n",
       "      <td>0.819018</td>\n",
       "      <td>0.813409</td>\n",
       "      <td>0.816204</td>\n",
       "      <td>3505</td>\n",
       "      <td>23643</td>\n",
       "      <td>oxidation of (CH2)2 to C=C</td>\n",
       "      <td>(ABOXIDAT)1.1.1</td>\n",
       "      <td>ABOXIDAT</td>\n",
       "      <td>(ACADD)1.1.1</td>\n",
       "      <td>153</td>\n",
       "      <td>(AAREDUCT)4.4.2</td>\n",
       "      <td>87</td>\n",
       "      <td>(AAREDUCT)4.3</td>\n",
       "      <td>36</td>\n",
       "    </tr>\n",
       "    <tr>\n",
       "      <th>1</th>\n",
       "      <td>5</td>\n",
       "      <td>0.717607</td>\n",
       "      <td>0.740326</td>\n",
       "      <td>0.728790</td>\n",
       "      <td>3127</td>\n",
       "      <td>23357</td>\n",
       "      <td>reduction of aldehydes to alcohols</td>\n",
       "      <td>(AAREDUCT)1.1.1</td>\n",
       "      <td>AAREDUCT</td>\n",
       "      <td>(ABOXIDAT)5.1.3, (AVNAMEDR)Dess-Martin1.1</td>\n",
       "      <td>250</td>\n",
       "      <td>(ABOXIDAT)5.1.1, (AVNAMEDR)Swern1.1</td>\n",
       "      <td>231</td>\n",
       "      <td>(AVNAMEDR)Corey-Suggs</td>\n",
       "      <td>216</td>\n",
       "    </tr>\n",
       "    <tr>\n",
       "      <th>2</th>\n",
       "      <td>848</td>\n",
       "      <td>0.789173</td>\n",
       "      <td>0.842575</td>\n",
       "      <td>0.815000</td>\n",
       "      <td>2128</td>\n",
       "      <td>16370</td>\n",
       "      <td>condensation of heteroaryl carboxylic acids wi...</td>\n",
       "      <td>(AHCONDEN)1.3.1</td>\n",
       "      <td>AHCONDEN</td>\n",
       "      <td>(AQCLEAV1)1.1</td>\n",
       "      <td>265</td>\n",
       "      <td>(AHCONDEN)1.1.1</td>\n",
       "      <td>27</td>\n",
       "      <td>(AAREDUCT)1.3.5</td>\n",
       "      <td>6</td>\n",
       "    </tr>\n",
       "    <tr>\n",
       "      <th>3</th>\n",
       "      <td>109</td>\n",
       "      <td>0.782669</td>\n",
       "      <td>0.691373</td>\n",
       "      <td>0.734194</td>\n",
       "      <td>1646</td>\n",
       "      <td>12611</td>\n",
       "      <td>Dess-Martin ketone synthesis, Dess-Martin oxid...</td>\n",
       "      <td>(ABOXIDAT)5.2.3, (AVNAMEDR)Dess-Martin1.2</td>\n",
       "      <td>ABOXIDAT</td>\n",
       "      <td>(AVNAMEDR)Corey-Suggs</td>\n",
       "      <td>163</td>\n",
       "      <td>(ABOXIDAT)5.2.1, (AVNAMEDR)Swern1.2</td>\n",
       "      <td>90</td>\n",
       "      <td>(AHCONDEN)1.1.1</td>\n",
       "      <td>29</td>\n",
       "    </tr>\n",
       "    <tr>\n",
       "      <th>4</th>\n",
       "      <td>1331</td>\n",
       "      <td>0.564826</td>\n",
       "      <td>0.564487</td>\n",
       "      <td>0.564656</td>\n",
       "      <td>1667</td>\n",
       "      <td>12096</td>\n",
       "      <td>Corey-Suggs Reagent</td>\n",
       "      <td>(AVNAMEDR)Corey-Suggs</td>\n",
       "      <td>AVNAMEDR</td>\n",
       "      <td>(AAREDUCT)1.1.1</td>\n",
       "      <td>178</td>\n",
       "      <td>(ABOXIDAT)5.2.3, (AVNAMEDR)Dess-Martin1.2</td>\n",
       "      <td>132</td>\n",
       "      <td>(ABOXIDAT)5.1.1, (AVNAMEDR)Swern1.1</td>\n",
       "      <td>97</td>\n",
       "    </tr>\n",
       "    <tr>\n",
       "      <th>5</th>\n",
       "      <td>99</td>\n",
       "      <td>0.567708</td>\n",
       "      <td>0.528028</td>\n",
       "      <td>0.547150</td>\n",
       "      <td>1445</td>\n",
       "      <td>10979</td>\n",
       "      <td>Dess-Martin aldehyde synthesis, Dess-Martin ox...</td>\n",
       "      <td>(ABOXIDAT)5.1.3, (AVNAMEDR)Dess-Martin1.1</td>\n",
       "      <td>ABOXIDAT</td>\n",
       "      <td>(AAREDUCT)1.1.1</td>\n",
       "      <td>290</td>\n",
       "      <td>(ABOXIDAT)5.1.1, (AVNAMEDR)Swern1.1</td>\n",
       "      <td>236</td>\n",
       "      <td>(AVNAMEDR)Corey-Suggs</td>\n",
       "      <td>104</td>\n",
       "    </tr>\n",
       "    <tr>\n",
       "      <th>6</th>\n",
       "      <td>77</td>\n",
       "      <td>0.788978</td>\n",
       "      <td>0.786696</td>\n",
       "      <td>0.787835</td>\n",
       "      <td>1383</td>\n",
       "      <td>9051</td>\n",
       "      <td>oxidation of methylene group to ketones</td>\n",
       "      <td>(ABOXIDAT)1.3.2</td>\n",
       "      <td>ABOXIDAT</td>\n",
       "      <td>(AAREDUCT)1.2.4</td>\n",
       "      <td>150</td>\n",
       "      <td>(AAREDUCT)C.2.1</td>\n",
       "      <td>13</td>\n",
       "      <td>(AHCONDEN)1.1.1</td>\n",
       "      <td>12</td>\n",
       "    </tr>\n",
       "    <tr>\n",
       "      <th>7</th>\n",
       "      <td>12</td>\n",
       "      <td>0.795971</td>\n",
       "      <td>0.847165</td>\n",
       "      <td>0.820771</td>\n",
       "      <td>1446</td>\n",
       "      <td>8567</td>\n",
       "      <td>reduction of ketones to methylene group</td>\n",
       "      <td>(AAREDUCT)1.2.4</td>\n",
       "      <td>AAREDUCT</td>\n",
       "      <td>(ABOXIDAT)1.3.2</td>\n",
       "      <td>138</td>\n",
       "      <td>(AHCONDEN)1.1.1</td>\n",
       "      <td>9</td>\n",
       "      <td>(ACADD)1.1.1</td>\n",
       "      <td>4</td>\n",
       "    </tr>\n",
       "    <tr>\n",
       "      <th>8</th>\n",
       "      <td>97</td>\n",
       "      <td>0.449362</td>\n",
       "      <td>0.539877</td>\n",
       "      <td>0.490478</td>\n",
       "      <td>978</td>\n",
       "      <td>7239</td>\n",
       "      <td>Swern aldehyde synthesis, Swern oxidation of a...</td>\n",
       "      <td>(ABOXIDAT)5.1.1, (AVNAMEDR)Swern1.1</td>\n",
       "      <td>ABOXIDAT</td>\n",
       "      <td>(AAREDUCT)1.1.1</td>\n",
       "      <td>185</td>\n",
       "      <td>(ABOXIDAT)5.1.3, (AVNAMEDR)Dess-Martin1.1</td>\n",
       "      <td>164</td>\n",
       "      <td>(AVNAMEDR)Corey-Suggs</td>\n",
       "      <td>69</td>\n",
       "    </tr>\n",
       "    <tr>\n",
       "      <th>9</th>\n",
       "      <td>44</td>\n",
       "      <td>0.765393</td>\n",
       "      <td>0.758947</td>\n",
       "      <td>0.762156</td>\n",
       "      <td>950</td>\n",
       "      <td>6185</td>\n",
       "      <td>alkene reduction of alpha,beta unsaturated car...</td>\n",
       "      <td>(AAREDUCT)4.4.2</td>\n",
       "      <td>AAREDUCT</td>\n",
       "      <td>(ABOXIDAT)1.1.1</td>\n",
       "      <td>99</td>\n",
       "      <td>(ACADD)1.1.1</td>\n",
       "      <td>24</td>\n",
       "      <td>(AAREDUCT)4.3</td>\n",
       "      <td>8</td>\n",
       "    </tr>\n",
       "  </tbody>\n",
       "</table>\n",
       "</div>"
      ],
      "text/plain": [
       "   CLASS-ID  precision    recall  f1-score  test_support  train_support  \\\n",
       "0        72   0.819018  0.813409  0.816204          3505          23643   \n",
       "1         5   0.717607  0.740326  0.728790          3127          23357   \n",
       "2       848   0.789173  0.842575  0.815000          2128          16370   \n",
       "3       109   0.782669  0.691373  0.734194          1646          12611   \n",
       "4      1331   0.564826  0.564487  0.564656          1667          12096   \n",
       "5        99   0.567708  0.528028  0.547150          1445          10979   \n",
       "6        77   0.788978  0.786696  0.787835          1383           9051   \n",
       "7        12   0.795971  0.847165  0.820771          1446           8567   \n",
       "8        97   0.449362  0.539877  0.490478           978           7239   \n",
       "9        44   0.765393  0.758947  0.762156           950           6185   \n",
       "\n",
       "                                      TRANSFORM_NAME  \\\n",
       "0                         oxidation of (CH2)2 to C=C   \n",
       "1                 reduction of aldehydes to alcohols   \n",
       "2  condensation of heteroaryl carboxylic acids wi...   \n",
       "3  Dess-Martin ketone synthesis, Dess-Martin oxid...   \n",
       "4                                Corey-Suggs Reagent   \n",
       "5  Dess-Martin aldehyde synthesis, Dess-Martin ox...   \n",
       "6            oxidation of methylene group to ketones   \n",
       "7            reduction of ketones to methylene group   \n",
       "8  Swern aldehyde synthesis, Swern oxidation of a...   \n",
       "9  alkene reduction of alpha,beta unsaturated car...   \n",
       "\n",
       "                                TRANSFORM_ID SUPER_TRANSFORM_ID  \\\n",
       "0                            (ABOXIDAT)1.1.1           ABOXIDAT   \n",
       "1                            (AAREDUCT)1.1.1           AAREDUCT   \n",
       "2                            (AHCONDEN)1.3.1           AHCONDEN   \n",
       "3  (ABOXIDAT)5.2.3, (AVNAMEDR)Dess-Martin1.2           ABOXIDAT   \n",
       "4                      (AVNAMEDR)Corey-Suggs           AVNAMEDR   \n",
       "5  (ABOXIDAT)5.1.3, (AVNAMEDR)Dess-Martin1.1           ABOXIDAT   \n",
       "6                            (ABOXIDAT)1.3.2           ABOXIDAT   \n",
       "7                            (AAREDUCT)1.2.4           AAREDUCT   \n",
       "8        (ABOXIDAT)5.1.1, (AVNAMEDR)Swern1.1           ABOXIDAT   \n",
       "9                            (AAREDUCT)4.4.2           AAREDUCT   \n",
       "\n",
       "                        Top1_MISTRANSFORM_ID  Top1_Count  \\\n",
       "0                               (ACADD)1.1.1         153   \n",
       "1  (ABOXIDAT)5.1.3, (AVNAMEDR)Dess-Martin1.1         250   \n",
       "2                              (AQCLEAV1)1.1         265   \n",
       "3                      (AVNAMEDR)Corey-Suggs         163   \n",
       "4                            (AAREDUCT)1.1.1         178   \n",
       "5                            (AAREDUCT)1.1.1         290   \n",
       "6                            (AAREDUCT)1.2.4         150   \n",
       "7                            (ABOXIDAT)1.3.2         138   \n",
       "8                            (AAREDUCT)1.1.1         185   \n",
       "9                            (ABOXIDAT)1.1.1          99   \n",
       "\n",
       "                        Top2_MISTRANSFORM_ID  Top2_Count  \\\n",
       "0                            (AAREDUCT)4.4.2          87   \n",
       "1        (ABOXIDAT)5.1.1, (AVNAMEDR)Swern1.1         231   \n",
       "2                            (AHCONDEN)1.1.1          27   \n",
       "3        (ABOXIDAT)5.2.1, (AVNAMEDR)Swern1.2          90   \n",
       "4  (ABOXIDAT)5.2.3, (AVNAMEDR)Dess-Martin1.2         132   \n",
       "5        (ABOXIDAT)5.1.1, (AVNAMEDR)Swern1.1         236   \n",
       "6                            (AAREDUCT)C.2.1          13   \n",
       "7                            (AHCONDEN)1.1.1           9   \n",
       "8  (ABOXIDAT)5.1.3, (AVNAMEDR)Dess-Martin1.1         164   \n",
       "9                               (ACADD)1.1.1          24   \n",
       "\n",
       "                  Top3_MISTRANSFORM_ID  Top3_Count  \n",
       "0                        (AAREDUCT)4.3          36  \n",
       "1                (AVNAMEDR)Corey-Suggs         216  \n",
       "2                      (AAREDUCT)1.3.5           6  \n",
       "3                      (AHCONDEN)1.1.1          29  \n",
       "4  (ABOXIDAT)5.1.1, (AVNAMEDR)Swern1.1          97  \n",
       "5                (AVNAMEDR)Corey-Suggs         104  \n",
       "6                      (AHCONDEN)1.1.1          12  \n",
       "7                         (ACADD)1.1.1           4  \n",
       "8                (AVNAMEDR)Corey-Suggs          69  \n",
       "9                        (AAREDUCT)4.3           8  "
      ]
     },
     "execution_count": 31,
     "metadata": {},
     "output_type": "execute_result"
    }
   ],
   "source": [
    "df_low"
   ]
  },
  {
   "cell_type": "code",
   "execution_count": null,
   "id": "172e692f",
   "metadata": {},
   "outputs": [],
   "source": []
  },
  {
   "cell_type": "code",
   "execution_count": 268,
   "id": "dd305ab9",
   "metadata": {},
   "outputs": [
    {
     "data": {
      "image/png": "[encoded data removed]",
      "text/plain": [
       "<Figure size 1008x432 with 2 Axes>"
      ]
     },
     "metadata": {
      "needs_background": "light"
     },
     "output_type": "display_data"
    }
   ],
   "source": [
    "fig, (ax1, ax2) = plt.subplots(1, 2, figsize=(14, 6))\n",
    "\n",
    "ax1.scatter(df_test1nn['train_support'], df_test1nn['f1-score'], color='blue')\n",
    "ax1.set_title('Train Support vs. F1-Score')\n",
    "ax1.set_xlabel('Train Support')\n",
    "ax1.set_ylabel('F1-Score')\n",
    "ax1.set_xscale('log')  # Set x-axis to log scale\n",
    "\n",
    "ax2.scatter(df_test1nn['test_support'], df_test1nn['f1-score'], color='red')\n",
    "ax2.set_title('Test Support vs. F1-Score')\n",
    "ax2.set_xlabel('Test Support')\n",
    "ax2.set_ylabel('F1-Score')\n",
    "ax2.set_xscale('log')  # Set x-axis to log scale\n",
    "\n",
    "plt.tight_layout()\n",
    "plt.show()"
   ]
  }
 ],
 "metadata": {
  "kernelspec": {
   "display_name": "reaction-workbench-env [Python]",
   "language": "python",
   "name": "conda-env-reaction-workbench-env-py"
  },
  "language_info": {
   "codemirror_mode": {
    "name": "ipython",
    "version": 3
   },
   "file_extension": ".py",
   "mimetype": "text/x-python",
   "name": "python",
   "nbconvert_exporter": "python",
   "pygments_lexer": "ipython3",
   "version": "3.8.8"
  }
 },
 "nbformat": 4,
 "nbformat_minor": 5
}
