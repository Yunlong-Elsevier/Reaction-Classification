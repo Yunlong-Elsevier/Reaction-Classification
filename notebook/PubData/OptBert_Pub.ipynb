{
 "cells": [
  {
   "cell_type": "code",
   "execution_count": 1,
   "id": "8a0456b4",
   "metadata": {},
   "outputs": [
    {
     "name": "stderr",
     "output_type": "stream",
     "text": [
      "/opt/conda/envs/reaction-workbench-env/lib/python3.8/site-packages/tqdm/auto.py:21: TqdmWarning: IProgress not found. Please update jupyter and ipywidgets. See https://ipywidgets.readthedocs.io/en/stable/user_install.html\n",
      "  from .autonotebook import tqdm as notebook_tqdm\n"
     ]
    }
   ],
   "source": [
    "import os\n",
    "import pickle\n",
    "import numpy as np\n",
    "import pandas as pd\n",
    "import matplotlib.pyplot as plt\n",
    "from torch.utils.data import DataLoader, Dataset, random_split\n",
    "import torch\n",
    "import logging\n",
    "import random\n",
    "import pkg_resources\n",
    "import sklearn\n",
    "from scipy.spatial.distance import euclidean\n",
    "from sklearn.model_selection import train_test_split\n",
    "from transformers import get_linear_schedule_with_warmup\n",
    "from torch.cuda.amp import GradScaler, autocast\n",
    "from sklearn.metrics.pairwise import pairwise_distances\n",
    "#from rxnfp.tokenization import *\n",
    "# from rdkit import Chem\n",
    "# from rdkit.Chem import rdChemReactions\n",
    "torch.cuda.is_available()\n",
    "#import rxnfp\n",
    "#from rxnfp.models import SmilesClassificationModel\n",
    "#from rxn_yields.core import SmilesTokenizer, SmilesClassificationModel§1`\n",
    "\n",
    "logger = logging.getLogger(__name__)\n",
    "#torch.cuda.is_available()\n",
    "# from simpletransformers.classification import ClassificationModel, ClassificationArgs\n",
    "#from rxnfp.tokenization import SmilesTokenizer"
   ]
  },
  {
   "cell_type": "code",
   "execution_count": 2,
   "id": "f74c156b",
   "metadata": {},
   "outputs": [],
   "source": [
    "from transformers import AutoTokenizer, AutoModel, AutoModelForSequenceClassification\n",
    "from rxnfp.tokenization import SmilesTokenizer\n",
    "\n",
    "import os\n",
    "import pickle\n",
    "\n",
    "import argparse\n",
    "\n",
    "from tqdm.auto import tqdm\n",
    "from sklearn.metrics import classification_report, accuracy_score\n",
    "from sklearn.metrics import confusion_matrix"
   ]
  },
  {
   "cell_type": "code",
   "execution_count": 3,
   "id": "29cfc7d0",
   "metadata": {},
   "outputs": [],
   "source": [
    "train = pd.read_csv('../ReactionClassification_2024/data/pub_train.tsv', sep='\\t')\n",
    "test = pd.read_csv('../ReactionClassification_2024/data/pub_test.tsv', sep='\\t')"
   ]
  },
  {
   "cell_type": "code",
   "execution_count": 9,
   "id": "bdf41267",
   "metadata": {},
   "outputs": [],
   "source": [
    "y_train = train['labels'].values\n",
    "y_test = test['labels'].values"
   ]
  },
  {
   "cell_type": "markdown",
   "id": "a9615446",
   "metadata": {},
   "source": [
    "### Train Embedding"
   ]
  },
  {
   "cell_type": "code",
   "execution_count": 10,
   "id": "01350d93",
   "metadata": {},
   "outputs": [
    {
     "name": "stderr",
     "output_type": "stream",
     "text": [
      "Some weights of BertModel were not initialized from the model checkpoint at ../Janssen_project/rxn-data-from-postgresql/models/reaxys_bert/checkpoint-4356432-epoch-36 and are newly initialized: ['bert.pooler.dense.bias', 'bert.pooler.dense.weight']\n",
      "You should probably TRAIN this model on a down-stream task to be able to use it for predictions and inference.\n"
     ]
    }
   ],
   "source": [
    "from transformers import AutoModel\n",
    "\n",
    "model_path = '../Janssen_project/rxn-data-from-postgresql/models/reaxys_bert/checkpoint-4356432-epoch-36'\n",
    "pretrained_model = AutoModel.from_pretrained(model_path, output_hidden_states=True)\n",
    "tokenizer = SmilesTokenizer(vocab_file='../Janssen_project/rxn-data-from-postgresql/models/reaxys_bert/checkpoint-4356432-epoch-36/vocab.txt')"
   ]
  },
  {
   "cell_type": "code",
   "execution_count": 30,
   "id": "50a71125",
   "metadata": {},
   "outputs": [],
   "source": [
    "df_Name=train"
   ]
  },
  {
   "cell_type": "code",
   "execution_count": 41,
   "id": "7a75273e",
   "metadata": {},
   "outputs": [],
   "source": [
    "embeddings = X_train \n",
    "df_Name['embedding'] = list(embeddings)"
   ]
  },
  {
   "cell_type": "code",
   "execution_count": 46,
   "id": "62203fa0",
   "metadata": {},
   "outputs": [],
   "source": [
    "class PairDataset:\n",
    "    def __init__(self, dataframe):\n",
    "        self.df = dataframe\n",
    "        self.pairs = []\n",
    "        self.targets = []\n",
    "        self.create_pairs()\n",
    "\n",
    "    def create_pairs(self):\n",
    "        positive_pairs = []\n",
    "        negative_pairs = []\n",
    "        positive_targets = []\n",
    "        negative_targets = []\n",
    "\n",
    "        for _, group in tqdm(self.df.groupby('labels'), desc='Positive Pairs'):\n",
    "            indices = group.index.tolist()\n",
    "            for i in range(len(indices)):\n",
    "                pair_index = (i + 1) % len(indices)\n",
    "                positive_pairs.append((indices[i], indices[pair_index]))\n",
    "                positive_targets.append(0)  # Positive pair (similar)\n",
    "        \n",
    "        labels = self.df['labels'].unique()\n",
    "\n",
    "        for label in tqdm(labels, desc='Negative Pairs'):\n",
    "            label_indices = self.df[self.df['labels'] == label].index.tolist()\n",
    "            for index in label_indices:\n",
    "                while True:\n",
    "                    # Randomly select a different label\n",
    "                    random_label = random.choice(labels)\n",
    "                    if random_label != label:\n",
    "                        break\n",
    "                random_index = random.choice(self.df[self.df['labels'] == random_label].index.tolist())\n",
    "                negative_pairs.append((index, random_index))\n",
    "                negative_targets.append(1)  # Negative pair (dissimilar)\n",
    "        self.pairs = positive_pairs + negative_pairs\n",
    "        self.targets = positive_targets + negative_targets\n",
    "\n",
    "    def print_sample_pairs_with_distances(self, num_samples):\n",
    "        from scipy.spatial.distance import euclidean\n",
    "\n",
    "        print(\"\\nSample Pairs with Distances:\")\n",
    "        sample_indices = np.random.choice(len(self.pairs), num_samples, replace=False)\n",
    "        for i, idx in enumerate(sample_indices):\n",
    "            pair = self.pairs[idx]\n",
    "            target = self.targets[idx]\n",
    "            embedding1 = self.df.loc[pair[0], 'embedding']\n",
    "            embedding2 = self.df.loc[pair[1], 'embedding']\n",
    "            distance = euclidean(embedding1, embedding2)\n",
    "\n",
    "            pair_type = \"Positive\" if target == 0 else \"Negative\"\n",
    "            print(f\"{pair_type} Pair {i + 1}:\")\n",
    "            print(f\"Reaction 1 ID: {pair[0]}\")\n",
    "            print(f\"Reaction 2 ID: {pair[1]}\")\n",
    "            print(f\"Distance: {distance:.4f}\")\n",
    "            print(\"-\" * 30)\n",
    "\n",
    "    def calculate_average_distances(self):\n",
    "        positive_distances = []\n",
    "        negative_distances = []\n",
    "\n",
    "        for idx, (index1, index2) in enumerate(self.pairs):\n",
    "            embedding1 = self.df.loc[index1, 'embedding']\n",
    "            embedding2 = self.df.loc[index2, 'embedding']\n",
    "            distance = euclidean(embedding1, embedding2)\n",
    "\n",
    "            if self.targets[idx] == 0:\n",
    "                positive_distances.append(distance)\n",
    "            else:\n",
    "                negative_distances.append(distance)\n",
    "\n",
    "        avg_positive_distance = np.mean(positive_distances)\n",
    "        avg_negative_distance = np.mean(negative_distances)\n",
    "\n",
    "        print(f\"Average Positive Pair Distance: {avg_positive_distance:.4f}\")\n",
    "        print(f\"Average Negative Pair Distance: {avg_negative_distance:.4f}\")\n",
    "\n",
    "    def plot_distance_distributions(self, num_samples=100):\n",
    "        positive_distances = []\n",
    "        negative_distances = []\n",
    "\n",
    "        sample_indices = np.random.choice(len(self.pairs), num_samples, replace=False)\n",
    "        for idx in sample_indices:\n",
    "            pair = self.pairs[idx]\n",
    "            target = self.targets[idx]\n",
    "            embedding1 = self.df.loc[pair[0], 'embedding']\n",
    "            embedding2 = self.df.loc[pair[1], 'embedding']\n",
    "            distance = euclidean(embedding1, embedding2)\n",
    "\n",
    "            if target == 0:\n",
    "                positive_distances.append(distance)\n",
    "            else:\n",
    "                negative_distances.append(distance)\n",
    "\n",
    "        plt.hist(positive_distances, bins=30, alpha=0.5, label='Positive Pairs')\n",
    "        plt.hist(negative_distances, bins=30, alpha=0.5, label='Negative Pairs')\n",
    "        plt.xlabel('Distance')\n",
    "        plt.ylabel('Frequency')\n",
    "        plt.title('Distance Distribution of Positive and Negative Pairs')\n",
    "        plt.legend(loc='upper right')\n",
    "        plt.show()"
   ]
  },
  {
   "cell_type": "code",
   "execution_count": 47,
   "id": "d02793d9",
   "metadata": {},
   "outputs": [
    {
     "name": "stderr",
     "output_type": "stream",
     "text": [
      "Positive Pairs: 100%|██████████| 1000/1000 [00:00<00:00, 3752.13it/s]\n",
      "Negative Pairs: 100%|██████████| 1000/1000 [03:34<00:00,  4.66it/s]\n"
     ]
    }
   ],
   "source": [
    "sample_fraction = 0.5  # Use 50% of the data\n",
    "sample_df = df_Name.sample(frac=sample_fraction, random_state=42)\n",
    "\n",
    "# Create the dataset and dataloaders\n",
    "dataset = PairDataset(sample_df)"
   ]
  },
  {
   "cell_type": "code",
   "execution_count": 48,
   "id": "eef4e1aa",
   "metadata": {},
   "outputs": [
    {
     "name": "stdout",
     "output_type": "stream",
     "text": [
      "Total number of positive pairs: 200302\n",
      "Total number of negative pairs: 200302\n"
     ]
    }
   ],
   "source": [
    "print(f\"Total number of positive pairs: {sum(1 for t in dataset.targets if t == 1)}\")\n",
    "print(f\"Total number of negative pairs: {sum(1 for t in dataset.targets if t == 0)}\")"
   ]
  },
  {
   "cell_type": "code",
   "execution_count": 49,
   "id": "89aa350a",
   "metadata": {},
   "outputs": [
    {
     "name": "stdout",
     "output_type": "stream",
     "text": [
      "Average Positive Pair Distance: 1.8285\n",
      "Average Negative Pair Distance: 2.2569\n"
     ]
    }
   ],
   "source": [
    "dataset.calculate_average_distances()"
   ]
  },
  {
   "cell_type": "code",
   "execution_count": 50,
   "id": "9fd2c913",
   "metadata": {},
   "outputs": [
    {
     "data": {
      "image/png": "[encoded data removed]",
      "text/plain": [
       "<Figure size 432x288 with 1 Axes>"
      ]
     },
     "metadata": {
      "needs_background": "light"
     },
     "output_type": "display_data"
    }
   ],
   "source": [
    "dataset.plot_distance_distributions(10000)"
   ]
  },
  {
   "cell_type": "code",
   "execution_count": 51,
   "id": "1e8f77a0",
   "metadata": {},
   "outputs": [],
   "source": [
    "class ReactionPairDataset(Dataset):\n",
    "    def __init__(self, dataframe, pairs, targets):\n",
    "        self.df = dataframe\n",
    "        self.pairs = pairs\n",
    "        self.targets = targets\n",
    "\n",
    "    def __len__(self):\n",
    "        return len(self.pairs)\n",
    "\n",
    "    def __getitem__(self, idx):\n",
    "        index1, index2 = self.pairs[idx]\n",
    "        reaction1 = self.df.loc[index1, 'canonical_rxn_with_fragment_info']\n",
    "        reaction2 = self.df.loc[index2, 'canonical_rxn_with_fragment_info']\n",
    "        label = self.targets[idx]\n",
    "        return reaction1, reaction2, torch.tensor(label, dtype=torch.float32)"
   ]
  },
  {
   "cell_type": "code",
   "execution_count": 52,
   "id": "f07d1515",
   "metadata": {},
   "outputs": [],
   "source": [
    "reaction_dataset = ReactionPairDataset(df_Name, dataset.pairs, dataset.targets)\n",
    "train_size = int(0.9 * len(reaction_dataset))\n",
    "val_size = len(reaction_dataset) - train_size\n",
    "train_dataset, val_dataset = random_split(reaction_dataset, [train_size, val_size])"
   ]
  },
  {
   "cell_type": "code",
   "execution_count": 53,
   "id": "9ad4f11a",
   "metadata": {},
   "outputs": [],
   "source": [
    "train_dataloader = DataLoader(train_dataset, batch_size=32, shuffle=True)\n",
    "val_dataloader = DataLoader(val_dataset, batch_size=32)"
   ]
  },
  {
   "cell_type": "code",
   "execution_count": 54,
   "id": "983e9f7a",
   "metadata": {},
   "outputs": [
    {
     "data": {
      "text/plain": [
       "BertModel(\n",
       "  (embeddings): BertEmbeddings(\n",
       "    (word_embeddings): Embedding(987, 256, padding_idx=0)\n",
       "    (position_embeddings): Embedding(512, 256)\n",
       "    (token_type_embeddings): Embedding(2, 256)\n",
       "    (LayerNorm): LayerNorm((256,), eps=1e-12, elementwise_affine=True)\n",
       "    (dropout): Dropout(p=0.1, inplace=False)\n",
       "  )\n",
       "  (encoder): BertEncoder(\n",
       "    (layer): ModuleList(\n",
       "      (0-11): 12 x BertLayer(\n",
       "        (attention): BertAttention(\n",
       "          (self): BertSdpaSelfAttention(\n",
       "            (query): Linear(in_features=256, out_features=256, bias=True)\n",
       "            (key): Linear(in_features=256, out_features=256, bias=True)\n",
       "            (value): Linear(in_features=256, out_features=256, bias=True)\n",
       "            (dropout): Dropout(p=0.1, inplace=False)\n",
       "          )\n",
       "          (output): BertSelfOutput(\n",
       "            (dense): Linear(in_features=256, out_features=256, bias=True)\n",
       "            (LayerNorm): LayerNorm((256,), eps=1e-12, elementwise_affine=True)\n",
       "            (dropout): Dropout(p=0.1, inplace=False)\n",
       "          )\n",
       "        )\n",
       "        (intermediate): BertIntermediate(\n",
       "          (dense): Linear(in_features=256, out_features=512, bias=True)\n",
       "          (intermediate_act_fn): GELUActivation()\n",
       "        )\n",
       "        (output): BertOutput(\n",
       "          (dense): Linear(in_features=512, out_features=256, bias=True)\n",
       "          (LayerNorm): LayerNorm((256,), eps=1e-12, elementwise_affine=True)\n",
       "          (dropout): Dropout(p=0.1, inplace=False)\n",
       "        )\n",
       "      )\n",
       "    )\n",
       "  )\n",
       "  (pooler): BertPooler(\n",
       "    (dense): Linear(in_features=256, out_features=256, bias=True)\n",
       "    (activation): Tanh()\n",
       "  )\n",
       ")"
      ]
     },
     "execution_count": 54,
     "metadata": {},
     "output_type": "execute_result"
    }
   ],
   "source": [
    "device = torch.device('cuda' if torch.cuda.is_available() else 'cpu')\n",
    "pretrained_model.to(device)"
   ]
  },
  {
   "cell_type": "code",
   "execution_count": 55,
   "id": "97bd9380",
   "metadata": {},
   "outputs": [],
   "source": [
    "optimizer = torch.optim.AdamW(pretrained_model.parameters(), lr=1e-6) \n",
    "total_steps = len(train_dataloader) * 10  \n",
    "scheduler = get_linear_schedule_with_warmup(optimizer, num_warmup_steps=0, num_training_steps=total_steps)"
   ]
  },
  {
   "cell_type": "code",
   "execution_count": 58,
   "id": "5c4f03ce",
   "metadata": {},
   "outputs": [],
   "source": [
    "class ContrastiveLoss(torch.nn.Module):\n",
    "    def __init__(self, margin=2):\n",
    "        super(ContrastiveLoss, self).__init__()\n",
    "        self.margin = margin\n",
    "\n",
    "    def forward(self, output1, output2, label):\n",
    "        euclidean_distance = torch.nn.functional.pairwise_distance(output1, output2)\n",
    "        loss = torch.mean((1 - label) * torch.pow(euclidean_distance, 2) +\n",
    "                          label * torch.pow(torch.clamp(self.margin - euclidean_distance, min=0.0), 2))\n",
    "        return loss"
   ]
  },
  {
   "cell_type": "code",
   "execution_count": 59,
   "id": "5a883e04",
   "metadata": {},
   "outputs": [],
   "source": [
    "criterion = ContrastiveLoss(margin=2)"
   ]
  },
  {
   "cell_type": "code",
   "execution_count": 60,
   "id": "69d43be9",
   "metadata": {},
   "outputs": [],
   "source": [
    "def evaluate_model(dataloader):\n",
    "    pretrained_model.eval()\n",
    "    total_loss = 0\n",
    "    with torch.no_grad():\n",
    "        for reaction1, reaction2, target in dataloader:\n",
    "            inputs1 = tokenizer(reaction1, return_tensors='pt', padding=True, truncation=True, max_length=512).to(device)\n",
    "            inputs2 = tokenizer(reaction2, return_tensors='pt', padding=True, truncation=True, max_length=512).to(device)\n",
    "            target = target.to(device)\n",
    "            \n",
    "            embedding1 = pretrained_model(**inputs1).last_hidden_state[:, 0, :]\n",
    "            embedding2 = pretrained_model(**inputs2).last_hidden_state[:, 0, :]\n",
    "            \n",
    "            loss = criterion(embedding1, embedding2, target)\n",
    "            total_loss += loss.item()\n",
    "    \n",
    "    return total_loss / len(dataloader)"
   ]
  },
  {
   "cell_type": "code",
   "execution_count": 61,
   "id": "7de6e6b1",
   "metadata": {},
   "outputs": [
    {
     "name": "stderr",
     "output_type": "stream",
     "text": [
      "Epoch 1/5: 100%|██████████| 11267/11267 [20:40<00:00,  9.08it/s, loss=6.2] \n"
     ]
    },
    {
     "name": "stdout",
     "output_type": "stream",
     "text": [
      "Epoch 1/5, Training Loss: 1.5493613505909412, Validation Loss: 0.32532729238224106\n"
     ]
    },
    {
     "name": "stderr",
     "output_type": "stream",
     "text": [
      "Epoch 2/5: 100%|██████████| 11267/11267 [20:42<00:00,  9.07it/s, loss=2.1] \n"
     ]
    },
    {
     "name": "stdout",
     "output_type": "stream",
     "text": [
      "Epoch 2/5, Training Loss: 0.5243102118202309, Validation Loss: 0.22996507489833587\n"
     ]
    },
    {
     "name": "stderr",
     "output_type": "stream",
     "text": [
      "Epoch 3/5: 100%|██████████| 11267/11267 [20:50<00:00,  9.01it/s, loss=1.73]\n"
     ]
    },
    {
     "name": "stdout",
     "output_type": "stream",
     "text": [
      "Epoch 3/5, Training Loss: 0.4314229673384202, Validation Loss: 0.19844357477138028\n"
     ]
    },
    {
     "name": "stderr",
     "output_type": "stream",
     "text": [
      "Epoch 4/5: 100%|██████████| 11267/11267 [20:55<00:00,  8.98it/s, loss=1.52]\n"
     ]
    },
    {
     "name": "stdout",
     "output_type": "stream",
     "text": [
      "Epoch 4/5, Training Loss: 0.3793551168401461, Validation Loss: 0.17702412028639272\n"
     ]
    },
    {
     "name": "stderr",
     "output_type": "stream",
     "text": [
      "Epoch 5/5: 100%|██████████| 11267/11267 [20:48<00:00,  9.02it/s, loss=1.38]\n"
     ]
    },
    {
     "name": "stdout",
     "output_type": "stream",
     "text": [
      "Epoch 5/5, Training Loss: 0.34411742976572646, Validation Loss: 0.16152286386718384\n"
     ]
    }
   ],
   "source": [
    "num_epochs = 5\n",
    "accumulation_steps = 4 \n",
    "#early_stopping_patience = 3\n",
    "best_val_loss = float('inf')\n",
    "#patience_counter = 0\n",
    "scaler = torch.cuda.amp.GradScaler()\n",
    "for epoch in range(num_epochs):\n",
    "    pretrained_model.train()\n",
    "    total_loss = 0\n",
    "    progress_bar = tqdm(train_dataloader, desc=f\"Epoch {epoch+1}/{num_epochs}\", mininterval=1)  # Update every 100 seconds\n",
    "    optimizer.zero_grad()\n",
    "\n",
    "    for i, (reaction1, reaction2, target) in enumerate(progress_bar):\n",
    "        inputs1 = tokenizer(reaction1, return_tensors='pt', padding=True, truncation=True, max_length=512).to(device)\n",
    "        inputs2 = tokenizer(reaction2, return_tensors='pt', padding=True, truncation=True, max_length=512).to(device)\n",
    "        target = target.to(device)\n",
    "\n",
    "        with torch.cuda.amp.autocast():\n",
    "            embedding1 = pretrained_model(**inputs1).last_hidden_state[:, 0, :]\n",
    "            embedding2 = pretrained_model(**inputs2).last_hidden_state[:, 0, :]\n",
    "            loss = criterion(embedding1, embedding2, target)\n",
    "            loss = loss / accumulation_steps  # Scale the loss\n",
    "\n",
    "        scaler.scale(loss).backward()\n",
    "\n",
    "        if (i + 1) % accumulation_steps == 0:\n",
    "            scaler.unscale_(optimizer)\n",
    "            torch.nn.utils.clip_grad_norm_(pretrained_model.parameters(), max_norm=1.0)\n",
    "            scaler.step(optimizer)\n",
    "            scaler.update()\n",
    "            optimizer.zero_grad()\n",
    "\n",
    "        total_loss += loss.item() * accumulation_steps\n",
    "\n",
    "        # Print loss less frequently\n",
    "        if (i + 1) % (len(train_dataloader) // 10) == 0:\n",
    "            progress_bar.set_postfix(loss=total_loss / ((i + 1) // accumulation_steps if (i + 1) // accumulation_steps > 0 else 1))\n",
    "\n",
    "    val_loss = evaluate_model(val_dataloader)\n",
    "    print(f\"Epoch {epoch+1}/{num_epochs}, Training Loss: {total_loss / len(train_dataloader)}, Validation Loss: {val_loss}\")\n",
    "\n",
    "    scheduler.step()"
   ]
  },
  {
   "cell_type": "code",
   "execution_count": 62,
   "id": "d43590d0",
   "metadata": {},
   "outputs": [
    {
     "data": {
      "text/plain": [
       "('data/fine_tuned_model_Pub/tokenizer_config.json',\n",
       " 'data/fine_tuned_model_Pub/special_tokens_map.json',\n",
       " 'data/fine_tuned_model_Pub/vocab.txt',\n",
       " 'data/fine_tuned_model_Pub/added_tokens.json')"
      ]
     },
     "execution_count": 62,
     "metadata": {},
     "output_type": "execute_result"
    }
   ],
   "source": [
    "pretrained_model.save_pretrained('data/fine_tuned_model_Pub')\n",
    "tokenizer.save_pretrained('data/fine_tuned_model_Pub')"
   ]
  },
  {
   "cell_type": "markdown",
   "id": "4f789908",
   "metadata": {},
   "source": [
    "\n",
    "### Data Load"
   ]
  },
  {
   "cell_type": "code",
   "execution_count": 37,
   "id": "6e24eb93",
   "metadata": {},
   "outputs": [],
   "source": [
    "X_train = np.load('../ReactionClassification_2024/data/PreBertFP_Pub/X_train_PreBertFP.npy',allow_pickle=True)"
   ]
  },
  {
   "cell_type": "code",
   "execution_count": 38,
   "id": "b9d38c37",
   "metadata": {},
   "outputs": [],
   "source": [
    "X_train1 = np.vstack(X_train)\n",
    "X_train = np.squeeze(X_train1)"
   ]
  },
  {
   "cell_type": "code",
   "execution_count": 39,
   "id": "55824053",
   "metadata": {},
   "outputs": [],
   "source": [
    "#X_train = np.load('data/RXNFP/X_train_RXNFP.npy')\n",
    "X_test = np.load('../ReactionClassification_2024/data/PreBertFP_Pub/X_test_PreBertFP.npy',allow_pickle=True)\n",
    "#X_val = np.load('../ReactionClassification_2024/data/PreBertFP_Pub/X_val_PreBertFP.npy',allow_pickle=True)"
   ]
  },
  {
   "cell_type": "code",
   "execution_count": 40,
   "id": "d43e7794",
   "metadata": {},
   "outputs": [],
   "source": [
    "X_test1 = np.vstack(X_test)\n",
    "X_test = np.squeeze(X_test1)"
   ]
  },
  {
   "cell_type": "code",
   "execution_count": null,
   "id": "f7fae98d",
   "metadata": {},
   "outputs": [],
   "source": []
  },
  {
   "cell_type": "code",
   "execution_count": null,
   "id": "9c0b1a48",
   "metadata": {},
   "outputs": [],
   "source": []
  }
 ],
 "metadata": {
  "kernelspec": {
   "display_name": "reaction-workbench-env [Python]",
   "language": "python",
   "name": "conda-env-reaction-workbench-env-py"
  },
  "language_info": {
   "codemirror_mode": {
    "name": "ipython",
    "version": 3
   },
   "file_extension": ".py",
   "mimetype": "text/x-python",
   "name": "python",
   "nbconvert_exporter": "python",
   "pygments_lexer": "ipython3",
   "version": "3.8.8"
  }
 },
 "nbformat": 4,
 "nbformat_minor": 5
}
