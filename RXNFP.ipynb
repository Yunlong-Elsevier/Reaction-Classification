{
 "cells": [
  {
   "cell_type": "code",
   "execution_count": 1,
   "id": "fa19a69f",
   "metadata": {},
   "outputs": [],
   "source": [
    "import pandas as pd\n",
    "import rdkit\n",
    "from rxnfp.transformer_fingerprints import (\n",
    "    RXNBERTFingerprintGenerator, get_default_model_and_tokenizer, generate_fingerprints, RXNBERTMinhashFingerprintGenerator\n",
    ")\n",
    "import os\n",
    "import numpy as np\n",
    "import pandas as pd\n",
    "from collections import Counter\n",
    "import matplotlib.pyplot as plt\n",
    "import pickle\n",
    "from sklearn.metrics import classification_report, accuracy_score"
   ]
  },
  {
   "cell_type": "code",
   "execution_count": 2,
   "id": "b9203ab1",
   "metadata": {},
   "outputs": [],
   "source": [
    "train = pd.read_csv('data/train.csv', delimiter=',')"
   ]
  },
  {
   "cell_type": "code",
   "execution_count": 3,
   "id": "dfefc44a",
   "metadata": {},
   "outputs": [],
   "source": [
    "val = pd.read_csv('data/val.csv', delimiter=',')"
   ]
  },
  {
   "cell_type": "code",
   "execution_count": 4,
   "id": "cfd63764",
   "metadata": {},
   "outputs": [],
   "source": [
    "test = pd.read_csv('data/test.csv', delimiter=',')"
   ]
  },
  {
   "cell_type": "markdown",
   "id": "f4b6fb94",
   "metadata": {},
   "source": [
    "### Test example"
   ]
  },
  {
   "cell_type": "code",
   "execution_count": 35,
   "id": "d8f31a83",
   "metadata": {},
   "outputs": [
    {
     "name": "stdout",
     "output_type": "stream",
     "text": [
      "[-0.20927272737026215, -0.2657712399959564, 1.1200777292251587, -1.178081750869751, 0.8444035053253174, -1.5568156242370605, -0.046560872346162796, 0.8905509114265442, -0.8488855361938477, 0.55846107006073]\n",
      "[-0.4799078702926636, -1.4244647026062012, -0.10955993086099625, -1.541298747062683, 1.057775855064392, -2.771310567855835, 0.036745138466358185, 1.4090137481689453, -1.0847077369689941, 0.6043930649757385]\n"
     ]
    }
   ],
   "source": [
    "model, tokenizer = get_default_model_and_tokenizer()\n",
    "\n",
    "rxnmhfp_generator = RXNBERTFingerprintGenerator(model, tokenizer)\n",
    "\n",
    "example_rxn1 = \"C1CCCCC1>>C1=CC=CC=C1\"\n",
    "example_rxn2 = \"C1CCCCC1>>c1ccccc1\"\n",
    "fp1 = rxnmhfp_generator.convert(example_rxn1)\n",
    "fp2 = rxnmhfp_generator.convert(example_rxn2)\n",
    "print(fp1[:10])\n",
    "print(fp2[:10])"
   ]
  },
  {
   "cell_type": "markdown",
   "id": "1e954687",
   "metadata": {},
   "source": [
    "### Embeddings"
   ]
  },
  {
   "cell_type": "code",
   "execution_count": 10,
   "id": "09f7c192",
   "metadata": {},
   "outputs": [],
   "source": [
    "train_reactions = train['reaction'].astype(str)\n",
    "subsets = np.array_split(train_reactions, 10)  # Split into 10 subsets"
   ]
  },
  {
   "cell_type": "code",
   "execution_count": 11,
   "id": "28357ae7",
   "metadata": {},
   "outputs": [],
   "source": [
    "for i, subset in enumerate(subsets):\n",
    "    subset.to_csv(f'data/train{i+1}.csv', index=False)"
   ]
  },
  {
   "cell_type": "code",
   "execution_count": 5,
   "id": "59d84bb5",
   "metadata": {},
   "outputs": [],
   "source": [
    "from tqdm import tqdm\n",
    "\n",
    "def process_in_batches(data, batch_size):\n",
    "    results = []\n",
    "    # Wrap the range function with tqdm for a progress bar\n",
    "    for i in tqdm(range(0, len(data), batch_size), desc='Processing batches'):\n",
    "        batch = data[i:i+batch_size]\n",
    "        batch_results = rxnmhfp_generator.convert_batch(batch)\n",
    "        results.extend(batch_results)\n",
    "    return results"
   ]
  },
  {
   "cell_type": "code",
   "execution_count": 5,
   "id": "e7639253",
   "metadata": {},
   "outputs": [],
   "source": [
    "train1 = pd.read_csv('data/train1.csv', delimiter=',')\n",
    "train2 = pd.read_csv('data/train2.csv', delimiter=',')\n",
    "train3 = pd.read_csv('data/train3.csv', delimiter=',')\n",
    "train4 = pd.read_csv('data/train4.csv', delimiter=',')\n",
    "train5 = pd.read_csv('data/train5.csv', delimiter=',')\n",
    "train6 = pd.read_csv('data/train6.csv', delimiter=',')\n",
    "train7 = pd.read_csv('data/train7.csv', delimiter=',')\n",
    "train8 = pd.read_csv('data/train8.csv', delimiter=',')\n",
    "train9 = pd.read_csv('data/train9.csv', delimiter=',')\n",
    "train10 = pd.read_csv('data/train10.csv', delimiter=',')"
   ]
  },
  {
   "cell_type": "code",
   "execution_count": 4,
   "id": "7972dd97",
   "metadata": {},
   "outputs": [],
   "source": [
    "batch_size=500"
   ]
  },
  {
   "cell_type": "code",
   "execution_count": 16,
   "id": "b19b72b2",
   "metadata": {},
   "outputs": [
    {
     "name": "stderr",
     "output_type": "stream",
     "text": [
      "Processing batches: 100%|██████████| 482/482 [04:09<00:00,  1.93it/s]\n"
     ]
    }
   ],
   "source": [
    "train_reactions1 = train1['reaction'].astype(str)\n",
    "results1 = process_in_batches(train_reactions1, batch_size)\n",
    "train1['rxnfp'] = results1\n",
    "X_train1 = np.array(train1['rxnfp'].tolist()).astype('float32')\n",
    "np.save('data/RXNFP/X_train1_RXNFP.npy', X_train1)\n",
    "train1.to_csv('data/RXNFP/train1_RXNFP.csv', index=False)"
   ]
  },
  {
   "cell_type": "code",
   "execution_count": 17,
   "id": "f78a450d",
   "metadata": {},
   "outputs": [
    {
     "name": "stderr",
     "output_type": "stream",
     "text": [
      "Processing batches: 100%|██████████| 482/482 [03:58<00:00,  2.02it/s]\n"
     ]
    }
   ],
   "source": [
    "train_reactions2 = train2['reaction'].astype(str)\n",
    "results2 = process_in_batches(train_reactions2, batch_size)\n",
    "train2['rxnfp'] = results2\n",
    "X_train2 = np.array(train2['rxnfp'].tolist()).astype('float32')\n",
    "np.save('data/RXNFP/X_train2_RXNFP.npy', X_train2)\n",
    "train2.to_csv('data/RXNFP/train2_RXNFP.csv', index=False)"
   ]
  },
  {
   "cell_type": "code",
   "execution_count": 8,
   "id": "fb22c9fa",
   "metadata": {},
   "outputs": [
    {
     "name": "stderr",
     "output_type": "stream",
     "text": [
      "Processing batches: 100%|██████████| 482/482 [03:06<00:00,  2.58it/s]\n"
     ]
    }
   ],
   "source": [
    "train_reactions3 = train3['reaction'].astype(str)\n",
    "results3 = process_in_batches(train_reactions3, batch_size)\n",
    "train3['rxnfp'] = results3\n",
    "X_train3 = np.array(train3['rxnfp'].tolist()).astype('float32')\n",
    "np.save('data/RXNFP/X_train3_RXNFP.npy', X_train3)\n",
    "train3.to_csv('data/RXNFP/train3_RXNFP.csv', index=False)"
   ]
  },
  {
   "cell_type": "code",
   "execution_count": 9,
   "id": "2a1bf861",
   "metadata": {},
   "outputs": [
    {
     "name": "stderr",
     "output_type": "stream",
     "text": [
      "Processing batches: 100%|██████████| 482/482 [04:25<00:00,  1.82it/s]\n"
     ]
    }
   ],
   "source": [
    "train_reactions4 = train4['reaction'].astype(str)\n",
    "results4 = process_in_batches(train_reactions4, batch_size)\n",
    "train4['rxnfp'] = results4\n",
    "X_train4 = np.array(train4['rxnfp'].tolist()).astype('float32')\n",
    "np.save('data/RXNFP/X_train4_RXNFP.npy', X_train4)\n",
    "train4.to_csv('data/RXNFP/train4_RXNFP.csv', index=False)"
   ]
  },
  {
   "cell_type": "code",
   "execution_count": 10,
   "id": "658c57b5",
   "metadata": {},
   "outputs": [
    {
     "name": "stderr",
     "output_type": "stream",
     "text": [
      "Processing batches: 100%|██████████| 482/482 [04:35<00:00,  1.75it/s]\n"
     ]
    }
   ],
   "source": [
    "train_reactions5 = train5['reaction'].astype(str)\n",
    "results5 = process_in_batches(train_reactions5, batch_size)\n",
    "train5['rxnfp'] = results5\n",
    "X_train5 = np.array(train5['rxnfp'].tolist()).astype('float32')\n",
    "np.save('data/RXNFP/X_train5_RXNFP.npy', X_train4)\n",
    "train5.to_csv('data/RXNFP/train5_RXNFP.csv', index=False)"
   ]
  },
  {
   "cell_type": "code",
   "execution_count": 9,
   "id": "d33e3b1d",
   "metadata": {},
   "outputs": [
    {
     "name": "stderr",
     "output_type": "stream",
     "text": [
      "Processing batches: 100%|██████████| 482/482 [04:33<00:00,  1.76it/s]\n"
     ]
    }
   ],
   "source": [
    "train_reactions6 = train6['reaction'].astype(str)\n",
    "results6 = process_in_batches(train_reactions6, batch_size)\n",
    "train6['rxnfp'] = results6\n",
    "X_train6 = np.array(train6['rxnfp'].tolist()).astype('float32')\n",
    "np.save('data/RXNFP/X_train6_RXNFP.npy', X_train6)\n",
    "train6.to_csv('data/RXNFP/train6_RXNFP.csv', index=False)"
   ]
  },
  {
   "cell_type": "code",
   "execution_count": 10,
   "id": "d1746fdf",
   "metadata": {},
   "outputs": [
    {
     "name": "stderr",
     "output_type": "stream",
     "text": [
      "Processing batches: 100%|██████████| 482/482 [04:33<00:00,  1.76it/s]\n"
     ]
    }
   ],
   "source": [
    "train_reactions7 = train7['reaction'].astype(str)\n",
    "results7 = process_in_batches(train_reactions7, batch_size)\n",
    "train7['rxnfp'] = results7\n",
    "X_train7 = np.array(train7['rxnfp'].tolist()).astype('float32')\n",
    "np.save('data/RXNFP/X_train7_RXNFP.npy', X_train7)\n",
    "train7.to_csv('data/RXNFP/train7_RXNFP.csv', index=False)"
   ]
  },
  {
   "cell_type": "code",
   "execution_count": 7,
   "id": "4e325c30",
   "metadata": {},
   "outputs": [
    {
     "name": "stderr",
     "output_type": "stream",
     "text": [
      "Processing batches: 100%|██████████| 482/482 [04:32<00:00,  1.77it/s]\n"
     ]
    }
   ],
   "source": [
    "train_reactions8 = train8['reaction'].astype(str)\n",
    "results8 = process_in_batches(train_reactions8, batch_size)\n",
    "train8['rxnfp'] = results8\n",
    "X_train8 = np.array(train8['rxnfp'].tolist()).astype('float32')\n",
    "np.save('data/RXNFP/X_train8_RXNFP.npy', X_train8)\n",
    "train8.to_csv('data/RXNFP/train8_RXNFP.csv', index=False)"
   ]
  },
  {
   "cell_type": "code",
   "execution_count": 8,
   "id": "3e5d7f4d",
   "metadata": {},
   "outputs": [
    {
     "name": "stderr",
     "output_type": "stream",
     "text": [
      "Processing batches: 100%|██████████| 482/482 [04:37<00:00,  1.74it/s]\n"
     ]
    }
   ],
   "source": [
    "train_reactions9 = train9['reaction'].astype(str)\n",
    "results9 = process_in_batches(train_reactions9, batch_size)\n",
    "train9['rxnfp'] = results9\n",
    "X_train9 = np.array(train9['rxnfp'].tolist()).astype('float32')\n",
    "np.save('data/RXNFP/X_train9_RXNFP.npy', X_train9)\n",
    "train9.to_csv('data/RXNFP/train9_RXNFP.csv', index=False)"
   ]
  },
  {
   "cell_type": "code",
   "execution_count": 7,
   "id": "d86c0abb",
   "metadata": {},
   "outputs": [
    {
     "name": "stderr",
     "output_type": "stream",
     "text": [
      "Processing batches: 100%|██████████| 482/482 [04:12<00:00,  1.91it/s]\n"
     ]
    }
   ],
   "source": [
    "train_reactions10 = train10['reaction'].astype(str)\n",
    "results10 = process_in_batches(train_reactions10, batch_size)\n",
    "train10['rxnfp'] = results10\n",
    "X_train10 = np.array(train10['rxnfp'].tolist()).astype('float32')\n",
    "np.save('data/RXNFP/X_train10_RXNFP.npy', X_train10)\n",
    "train10.to_csv('data/RXNFP/train10_RXNFP.csv', index=False)"
   ]
  },
  {
   "cell_type": "markdown",
   "id": "1de4acaa",
   "metadata": {},
   "source": [
    "### Test and Val Embedding"
   ]
  },
  {
   "cell_type": "code",
   "execution_count": 11,
   "id": "4eb0290f",
   "metadata": {},
   "outputs": [
    {
     "name": "stderr",
     "output_type": "stream",
     "text": [
      "Processing batches: 100%|██████████| 663/663 [06:13<00:00,  1.78it/s]\n"
     ]
    }
   ],
   "source": [
    "val_reactions = val['reaction'].astype(str)\n",
    "val_results = process_in_batches(val_reactions, batch_size)\n",
    "val['rxnfp'] = val_results"
   ]
  },
  {
   "cell_type": "code",
   "execution_count": 12,
   "id": "8f847344",
   "metadata": {},
   "outputs": [],
   "source": [
    "X_val = np.array(val['rxnfp'].tolist()).astype('float32')\n",
    "np.save('data/RXNFP/X_val_RXNFP.npy', X_val)"
   ]
  },
  {
   "cell_type": "code",
   "execution_count": 13,
   "id": "97849626",
   "metadata": {},
   "outputs": [],
   "source": [
    "val.to_csv('data/RXNFP/val_RXNFP.csv', index=False)"
   ]
  },
  {
   "cell_type": "code",
   "execution_count": 6,
   "id": "dfc2636f",
   "metadata": {},
   "outputs": [
    {
     "name": "stderr",
     "output_type": "stream",
     "text": [
      "Processing batches: 100%|██████████| 662/662 [06:09<00:00,  1.79it/s]\n"
     ]
    }
   ],
   "source": [
    "test_reactions = test['reaction'].astype(str)\n",
    "test_results = process_in_batches(test_reactions, batch_size)\n",
    "test['rxnfp'] = test_results"
   ]
  },
  {
   "cell_type": "code",
   "execution_count": 7,
   "id": "85d53162",
   "metadata": {},
   "outputs": [],
   "source": [
    "X_test = np.array(test['rxnfp'].tolist()).astype('float32')\n",
    "np.save('data/RXNFP/X_test_RXNFP.npy', X_test)"
   ]
  },
  {
   "cell_type": "code",
   "execution_count": 8,
   "id": "9e0847d2",
   "metadata": {},
   "outputs": [],
   "source": [
    "test.to_csv('data/RXNFP/test_RXNFP.csv', index=False)"
   ]
  },
  {
   "cell_type": "code",
   "execution_count": 9,
   "id": "a047da79",
   "metadata": {},
   "outputs": [
    {
     "name": "stdout",
     "output_type": "stream",
     "text": [
      "DONE\n"
     ]
    }
   ],
   "source": [
    "print('DONE')"
   ]
  },
  {
   "cell_type": "markdown",
   "id": "4b328bb7",
   "metadata": {},
   "source": [
    "### Data Load"
   ]
  },
  {
   "cell_type": "code",
   "execution_count": 5,
   "id": "a36ae5c5",
   "metadata": {},
   "outputs": [],
   "source": [
    "X_train1 = np.load('data/RXNFP/X_train1_RXNFP.npy')\n",
    "X_train2 = np.load('data/RXNFP/X_train2_RXNFP.npy')\n",
    "X_train3 = np.load('data/RXNFP/X_train3_RXNFP.npy')\n",
    "X_train4 = np.load('data/RXNFP/X_train4_RXNFP.npy')\n",
    "X_train5 = np.load('data/RXNFP/X_train5_RXNFP.npy')\n",
    "X_train6 = np.load('data/RXNFP/X_train6_RXNFP.npy')\n",
    "X_train7 = np.load('data/RXNFP/X_train7_RXNFP.npy')\n",
    "X_train8 = np.load('data/RXNFP/X_train8_RXNFP.npy')\n",
    "X_train9 = np.load('data/RXNFP/X_train9_RXNFP.npy')\n",
    "X_train10 = np.load('data/RXNFP/X_train10_RXNFP.npy')"
   ]
  },
  {
   "cell_type": "code",
   "execution_count": 6,
   "id": "3ccd79d5",
   "metadata": {},
   "outputs": [],
   "source": [
    "X_train = np.concatenate([X_train1, X_train2, X_train3, X_train4, X_train5,\n",
    "                          X_train6, X_train7, X_train8, X_train9, X_train10], axis=0)"
   ]
  },
  {
   "cell_type": "code",
   "execution_count": null,
   "id": "1647292b",
   "metadata": {},
   "outputs": [],
   "source": [
    "X_test = np.load('data/RXNFP/X_test_RXNFP.npy')\n",
    "X_val = np.load('data/RXNFP/X_val_RXNFP.npy')"
   ]
  },
  {
   "cell_type": "code",
   "execution_count": null,
   "id": "6cf2673b",
   "metadata": {},
   "outputs": [],
   "source": [
    "train = pd.read_csv('data/train.csv', delimiter=',')\n",
    "test = pd.read_csv('data/test.csv', delimiter=',')\n",
    "val = pd.read_csv('data/val.csv', delimiter=',')"
   ]
  },
  {
   "cell_type": "code",
   "execution_count": null,
   "id": "3695ba1f",
   "metadata": {},
   "outputs": [],
   "source": [
    "y_train = train['CLASS-ID'].values\n",
    "y_test = test['CLASS-ID'].values\n",
    "y_val = val['CLASS-ID'].values"
   ]
  },
  {
   "cell_type": "code",
   "execution_count": null,
   "id": "ee4024d0",
   "metadata": {},
   "outputs": [],
   "source": [
    "X_train = np.squeeze(X_train)\n",
    "X_test = np.squeeze(X_test)\n",
    "X_val = np.squeeze(X_val)"
   ]
  },
  {
   "cell_type": "code",
   "execution_count": 1,
   "id": "89d7b6a5",
   "metadata": {},
   "outputs": [],
   "source": [
    "import torch\n",
    "torch.cuda.empty_cache()  # Clear unused memory"
   ]
  },
  {
   "cell_type": "markdown",
   "id": "81312398",
   "metadata": {},
   "source": [
    "### Test on Val set"
   ]
  },
  {
   "cell_type": "code",
   "execution_count": 10,
   "id": "acf781d0",
   "metadata": {},
   "outputs": [],
   "source": [
    "import faiss\n",
    "index = faiss.IndexFlatL2(X_train.shape[1])\n",
    "index.add(X_train)"
   ]
  },
  {
   "cell_type": "code",
   "execution_count": 11,
   "id": "baa77025",
   "metadata": {},
   "outputs": [],
   "source": [
    "from tqdm import tqdm\n",
    "k = 1 \n",
    "\n",
    "batch_size = 1000\n",
    "\n",
    "num_batches = (X_val.shape[0] + batch_size - 1) // batch_size"
   ]
  },
  {
   "cell_type": "code",
   "execution_count": 12,
   "id": "6804c86f",
   "metadata": {},
   "outputs": [
    {
     "name": "stderr",
     "output_type": "stream",
     "text": [
      "Searching: 100%|██████████| 332/332 [2:14:13<00:00, 24.26s/it]  \n"
     ]
    }
   ],
   "source": [
    "D_val_1nn = np.zeros((X_val.shape[0], k), dtype=np.float32)\n",
    "I_val_1nn = np.zeros((X_val.shape[0], k), dtype=np.int64)\n",
    "\n",
    "for b in tqdm(range(num_batches), desc='Searching'):\n",
    "    start = b * batch_size\n",
    "    end = min((b + 1) * batch_size, X_val.shape[0])\n",
    "    D, I = index.search(X_val[start:end], k)\n",
    "    D_val_1nn[start:end, :] = D\n",
    "    I_val_1nn[start:end, :] = I\n"
   ]
  },
  {
   "cell_type": "code",
   "execution_count": 13,
   "id": "8c634b05",
   "metadata": {},
   "outputs": [],
   "source": [
    "y_pred_val_1nn = np.array(y_train[I_val_1nn])"
   ]
  },
  {
   "cell_type": "code",
   "execution_count": 14,
   "id": "1e5192c8",
   "metadata": {},
   "outputs": [],
   "source": [
    "np.save('data/RXNFP/y_pred_val_1nn', y_pred_val_1nn)"
   ]
  },
  {
   "cell_type": "code",
   "execution_count": 15,
   "id": "66d0ccc1",
   "metadata": {},
   "outputs": [],
   "source": [
    "y_pred_val_1nn = np.load('data/RXNFP/y_pred_val_1nn.npy')"
   ]
  },
  {
   "cell_type": "code",
   "execution_count": 16,
   "id": "efda76e8",
   "metadata": {},
   "outputs": [
    {
     "name": "stdout",
     "output_type": "stream",
     "text": [
      "Overall Accuracy: 0.9589620177486027\n"
     ]
    }
   ],
   "source": [
    "print(f'Overall Accuracy: {accuracy_score(y_val, y_pred_val_1nn)}')"
   ]
  },
  {
   "cell_type": "markdown",
   "id": "0fd29d37",
   "metadata": {},
   "source": [
    "### Test on Test set"
   ]
  },
  {
   "cell_type": "code",
   "execution_count": 19,
   "id": "751ae6f3",
   "metadata": {},
   "outputs": [],
   "source": [
    "k = 1  \n",
    "batch_size = 1000  \n",
    "\n",
    "num_batches = (X_test.shape[0] + batch_size - 1) // batch_size"
   ]
  },
  {
   "cell_type": "code",
   "execution_count": 20,
   "id": "6ff6ed50",
   "metadata": {},
   "outputs": [
    {
     "name": "stderr",
     "output_type": "stream",
     "text": [
      "FAISS Search on Test Data: 100%|██████████| 331/331 [2:13:45<00:00, 24.25s/it]t]\n"
     ]
    }
   ],
   "source": [
    "D_test_1nn = np.zeros((X_test.shape[0], k), dtype=np.float32)\n",
    "I_test_1nn = np.zeros((X_test.shape[0], k), dtype=np.int64)\n",
    "\n",
    "for b in tqdm(range(num_batches), desc='FAISS Search on Test Data'):\n",
    "    start = b * batch_size\n",
    "    end = min((b + 1) * batch_size, X_test.shape[0])\n",
    "    D, I = index.search(X_test[start:end], k)  \n",
    "    D_test_1nn[start:end, :] = D  \n",
    "    I_test_1nn[start:end, :] = I  "
   ]
  },
  {
   "cell_type": "code",
   "execution_count": 21,
   "id": "73edb348",
   "metadata": {},
   "outputs": [],
   "source": [
    "y_pred_test_1nn = np.array(y_train[I_test_1nn])"
   ]
  },
  {
   "cell_type": "code",
   "execution_count": 22,
   "id": "e37dd1a6",
   "metadata": {},
   "outputs": [],
   "source": [
    "np.save('data/RXNFP/y_pred_test_1nn', y_pred_test_1nn)"
   ]
  },
  {
   "cell_type": "code",
   "execution_count": 23,
   "id": "5467c9af",
   "metadata": {},
   "outputs": [
    {
     "name": "stdout",
     "output_type": "stream",
     "text": [
      "Overall Accuracy: 0.9579758773918563\n"
     ]
    }
   ],
   "source": [
    "print(f'Overall Accuracy: {accuracy_score(y_test, y_pred_test_1nn)}')"
   ]
  },
  {
   "cell_type": "code",
   "execution_count": 24,
   "id": "6c4da004",
   "metadata": {},
   "outputs": [
    {
     "name": "stderr",
     "output_type": "stream",
     "text": [
      "/opt/conda/envs/reaction-workbench-env/lib/python3.8/site-packages/sklearn/metrics/_classification.py:1221: UndefinedMetricWarning: Precision and F-score are ill-defined and being set to 0.0 in labels with no predicted samples. Use `zero_division` parameter to control this behavior.\n",
      "  _warn_prf(average, modifier, msg_start, len(result))\n"
     ]
    }
   ],
   "source": [
    "report_test1nn = classification_report(y_test, y_pred_test_1nn, output_dict=True)\n",
    "report_df = pd.DataFrame(report_test1nn).transpose()\n",
    "df_test1nn = report_df[:-3].reset_index().rename(columns={'index': 'CLASS-ID'})\n",
    "df_test1nn['test_support'] = df_test1nn['support'].astype(int)\n",
    "df_test1nn['CLASS-ID'] = df_test1nn['CLASS-ID'].astype(int)"
   ]
  },
  {
   "cell_type": "code",
   "execution_count": 25,
   "id": "fa5751bc",
   "metadata": {},
   "outputs": [],
   "source": [
    "train_class_support = train['CLASS-ID'].value_counts().sort_index()\n",
    "train_support_df = train_class_support.reset_index()\n",
    "train_support_df.columns = ['CLASS-ID', 'train_support']\n",
    "train_support_df['CLASS-ID'] = train_support_df['CLASS-ID'].astype(int)"
   ]
  },
  {
   "cell_type": "code",
   "execution_count": 26,
   "id": "3ad472eb",
   "metadata": {},
   "outputs": [],
   "source": [
    "# Merge with df_val1nn on 'CLASS-ID'\n",
    "df_test1nn_report = pd.merge(df_test1nn, train_support_df, on='CLASS-ID', how='left')\n",
    "# Sort based on the number of train_support\n",
    "df_test1nn_report = df_test1nn_report.sort_values(by='train_support', ascending=False)\n",
    "df_test1nn_report = df_test1nn_report.drop(columns=['support'])"
   ]
  },
  {
   "cell_type": "code",
   "execution_count": 27,
   "id": "1ecc1f1a",
   "metadata": {},
   "outputs": [],
   "source": [
    "df_class = pd.read_csv('data/className.tsv', sep='\\t', encoding='ISO-8859-1')"
   ]
  },
  {
   "cell_type": "code",
   "execution_count": 28,
   "id": "34754f04",
   "metadata": {},
   "outputs": [],
   "source": [
    "# Convert multi Class-ID into one\n",
    "def clean_class_id(row):\n",
    "    # Split the string by comma and convert to a list\n",
    "    class_ids = str(row['CLASS-ID']).split(',')\n",
    "    # Return the first element from the list, ensuring it's an integer\n",
    "    return int(class_ids[0].strip())\n",
    "\n",
    "# Apply the function to the 'CLASS-ID' column\n",
    "df_class['CLASS-ID'] = df_class.apply(clean_class_id, axis=1)\n",
    "df_class['CLASS-ID'] = df_class['CLASS-ID'].astype(int)"
   ]
  },
  {
   "cell_type": "code",
   "execution_count": 29,
   "id": "e5a538dd",
   "metadata": {},
   "outputs": [],
   "source": [
    "df_test1nn = pd.merge(df_test1nn_report, df_class[['CLASS-ID', 'TRANSFORM_NAME', 'TRANSFORM_ID']], on='CLASS-ID', how='left')"
   ]
  },
  {
   "cell_type": "code",
   "execution_count": 30,
   "id": "348832c8",
   "metadata": {},
   "outputs": [
    {
     "data": {
      "text/html": [
       "<div>\n",
       "<style scoped>\n",
       "    .dataframe tbody tr th:only-of-type {\n",
       "        vertical-align: middle;\n",
       "    }\n",
       "\n",
       "    .dataframe tbody tr th {\n",
       "        vertical-align: top;\n",
       "    }\n",
       "\n",
       "    .dataframe thead th {\n",
       "        text-align: right;\n",
       "    }\n",
       "</style>\n",
       "<table border=\"1\" class=\"dataframe\">\n",
       "  <thead>\n",
       "    <tr style=\"text-align: right;\">\n",
       "      <th></th>\n",
       "      <th>CLASS-ID</th>\n",
       "      <th>precision</th>\n",
       "      <th>recall</th>\n",
       "      <th>f1-score</th>\n",
       "      <th>test_support</th>\n",
       "      <th>train_support</th>\n",
       "      <th>TRANSFORM_NAME</th>\n",
       "      <th>TRANSFORM_ID</th>\n",
       "    </tr>\n",
       "  </thead>\n",
       "  <tbody>\n",
       "    <tr>\n",
       "      <th>0</th>\n",
       "      <td>1085</td>\n",
       "      <td>0.996836</td>\n",
       "      <td>0.996996</td>\n",
       "      <td>0.996916</td>\n",
       "      <td>24966</td>\n",
       "      <td>185024</td>\n",
       "      <td>Suzuki coupling, Suzuki-Miyaura Cross-Coupling</td>\n",
       "      <td>(ARCOUPLG)4.1.B, (AVNAMEDR)Suzuki-Miyaura</td>\n",
       "    </tr>\n",
       "    <tr>\n",
       "      <th>1</th>\n",
       "      <td>432</td>\n",
       "      <td>0.975303</td>\n",
       "      <td>0.980808</td>\n",
       "      <td>0.978048</td>\n",
       "      <td>21259</td>\n",
       "      <td>164914</td>\n",
       "      <td>N-alkylation of alkylamines</td>\n",
       "      <td>(AG2ALKN)1.1.2</td>\n",
       "    </tr>\n",
       "    <tr>\n",
       "      <th>2</th>\n",
       "      <td>1016</td>\n",
       "      <td>0.991660</td>\n",
       "      <td>0.989102</td>\n",
       "      <td>0.990379</td>\n",
       "      <td>15507</td>\n",
       "      <td>113635</td>\n",
       "      <td>hydrolysis of carboxylic esters</td>\n",
       "      <td>(AQCLEAV1)1.1</td>\n",
       "    </tr>\n",
       "    <tr>\n",
       "      <th>3</th>\n",
       "      <td>60</td>\n",
       "      <td>0.998389</td>\n",
       "      <td>0.997228</td>\n",
       "      <td>0.997808</td>\n",
       "      <td>11185</td>\n",
       "      <td>85921</td>\n",
       "      <td>reduction of C-NO2 to C-NH2</td>\n",
       "      <td>(AAREDUCT)A.1</td>\n",
       "    </tr>\n",
       "    <tr>\n",
       "      <th>4</th>\n",
       "      <td>433</td>\n",
       "      <td>0.943528</td>\n",
       "      <td>0.946722</td>\n",
       "      <td>0.945122</td>\n",
       "      <td>7977</td>\n",
       "      <td>60554</td>\n",
       "      <td>N-alkylation of benzenoid amines, anilines</td>\n",
       "      <td>(AG2ALKN)1.1.3</td>\n",
       "    </tr>\n",
       "    <tr>\n",
       "      <th>...</th>\n",
       "      <td>...</td>\n",
       "      <td>...</td>\n",
       "      <td>...</td>\n",
       "      <td>...</td>\n",
       "      <td>...</td>\n",
       "      <td>...</td>\n",
       "      <td>...</td>\n",
       "      <td>...</td>\n",
       "    </tr>\n",
       "    <tr>\n",
       "      <th>1294</th>\n",
       "      <td>1267</td>\n",
       "      <td>1.000000</td>\n",
       "      <td>1.000000</td>\n",
       "      <td>1.000000</td>\n",
       "      <td>1</td>\n",
       "      <td>8</td>\n",
       "      <td>Brackeen Imidazole Synthesis</td>\n",
       "      <td>(AVNAMEDR)Brackeen</td>\n",
       "    </tr>\n",
       "    <tr>\n",
       "      <th>1295</th>\n",
       "      <td>1800</td>\n",
       "      <td>1.000000</td>\n",
       "      <td>0.800000</td>\n",
       "      <td>0.888889</td>\n",
       "      <td>5</td>\n",
       "      <td>8</td>\n",
       "      <td>Shestakov Hydrazino Acid Synthesis</td>\n",
       "      <td>(AVNAMEDR)Shestakov</td>\n",
       "    </tr>\n",
       "    <tr>\n",
       "      <th>1296</th>\n",
       "      <td>500</td>\n",
       "      <td>0.000000</td>\n",
       "      <td>0.000000</td>\n",
       "      <td>0.000000</td>\n",
       "      <td>1</td>\n",
       "      <td>7</td>\n",
       "      <td>O-propargylation of N-hydroxy amides, includin...</td>\n",
       "      <td>(AG2ALKO)2.4.1</td>\n",
       "    </tr>\n",
       "    <tr>\n",
       "      <th>1297</th>\n",
       "      <td>1622</td>\n",
       "      <td>0.500000</td>\n",
       "      <td>1.000000</td>\n",
       "      <td>0.666667</td>\n",
       "      <td>1</td>\n",
       "      <td>7</td>\n",
       "      <td>ListMacMillan Hydrogenation</td>\n",
       "      <td>(AVNAMEDR)List-MacMillan</td>\n",
       "    </tr>\n",
       "    <tr>\n",
       "      <th>1298</th>\n",
       "      <td>1404</td>\n",
       "      <td>1.000000</td>\n",
       "      <td>1.000000</td>\n",
       "      <td>1.000000</td>\n",
       "      <td>2</td>\n",
       "      <td>7</td>\n",
       "      <td>Frankland-Duppa Reaction</td>\n",
       "      <td>(AVNAMEDR)Frankland-Duppa</td>\n",
       "    </tr>\n",
       "  </tbody>\n",
       "</table>\n",
       "<p>1299 rows × 8 columns</p>\n",
       "</div>"
      ],
      "text/plain": [
       "      CLASS-ID  precision    recall  f1-score  test_support  train_support  \\\n",
       "0         1085   0.996836  0.996996  0.996916         24966         185024   \n",
       "1          432   0.975303  0.980808  0.978048         21259         164914   \n",
       "2         1016   0.991660  0.989102  0.990379         15507         113635   \n",
       "3           60   0.998389  0.997228  0.997808         11185          85921   \n",
       "4          433   0.943528  0.946722  0.945122          7977          60554   \n",
       "...        ...        ...       ...       ...           ...            ...   \n",
       "1294      1267   1.000000  1.000000  1.000000             1              8   \n",
       "1295      1800   1.000000  0.800000  0.888889             5              8   \n",
       "1296       500   0.000000  0.000000  0.000000             1              7   \n",
       "1297      1622   0.500000  1.000000  0.666667             1              7   \n",
       "1298      1404   1.000000  1.000000  1.000000             2              7   \n",
       "\n",
       "                                         TRANSFORM_NAME  \\\n",
       "0        Suzuki coupling, Suzuki-Miyaura Cross-Coupling   \n",
       "1                           N-alkylation of alkylamines   \n",
       "2                       hydrolysis of carboxylic esters   \n",
       "3                           reduction of C-NO2 to C-NH2   \n",
       "4            N-alkylation of benzenoid amines, anilines   \n",
       "...                                                 ...   \n",
       "1294                       Brackeen Imidazole Synthesis   \n",
       "1295                 Shestakov Hydrazino Acid Synthesis   \n",
       "1296  O-propargylation of N-hydroxy amides, includin...   \n",
       "1297                       ListMacMillan Hydrogenation   \n",
       "1298                           Frankland-Duppa Reaction   \n",
       "\n",
       "                                   TRANSFORM_ID  \n",
       "0     (ARCOUPLG)4.1.B, (AVNAMEDR)Suzuki-Miyaura  \n",
       "1                                (AG2ALKN)1.1.2  \n",
       "2                                 (AQCLEAV1)1.1  \n",
       "3                                 (AAREDUCT)A.1  \n",
       "4                                (AG2ALKN)1.1.3  \n",
       "...                                         ...  \n",
       "1294                         (AVNAMEDR)Brackeen  \n",
       "1295                        (AVNAMEDR)Shestakov  \n",
       "1296                             (AG2ALKO)2.4.1  \n",
       "1297                   (AVNAMEDR)List-MacMillan  \n",
       "1298                  (AVNAMEDR)Frankland-Duppa  \n",
       "\n",
       "[1299 rows x 8 columns]"
      ]
     },
     "execution_count": 30,
     "metadata": {},
     "output_type": "execute_result"
    }
   ],
   "source": [
    "df_test1nn"
   ]
  },
  {
   "cell_type": "code",
   "execution_count": 31,
   "id": "add96a42",
   "metadata": {},
   "outputs": [],
   "source": [
    "# Calculate macro average for precision, recall, and f1-score\n",
    "macro_precision2 = df_test1nn['precision'].mean()\n",
    "macro_recall2 = df_test1nn['recall'].mean()\n",
    "macro_f12 = df_test1nn['f1-score'].mean()\n",
    "\n",
    "# Calculate weighted average for precision, recall, and f1-score\n",
    "weighted_precision2 = (df_test1nn['precision'] * df_test1nn['test_support']).sum() / df_test1nn['test_support'].sum()\n",
    "weighted_recall2 = (df_test1nn['recall'] * df_test1nn['test_support']).sum() / df_test1nn['test_support'].sum()\n",
    "weighted_f12 = (df_test1nn['f1-score'] * df_test1nn['test_support']).sum() / df_test1nn['test_support'].sum()"
   ]
  },
  {
   "cell_type": "code",
   "execution_count": 32,
   "id": "a2d4970a",
   "metadata": {},
   "outputs": [],
   "source": [
    "output1 = f\"\"\"\n",
    "Macro-averages:\n",
    "- Precision: {macro_precision2:.4f}\n",
    "- Recall: {macro_recall2:.4f}\n",
    "- F1-score: {macro_f12:.4f}\n",
    "\n",
    "Weighted-averages:\n",
    "- Precision: {weighted_precision2:.4f}\n",
    "- Recall: {weighted_recall2:.4f}\n",
    "- F1-score: {weighted_f12:.4f}\n",
    "\"\"\""
   ]
  },
  {
   "cell_type": "code",
   "execution_count": 33,
   "id": "880cc2ff",
   "metadata": {},
   "outputs": [
    {
     "name": "stdout",
     "output_type": "stream",
     "text": [
      "\n",
      "Macro-averages:\n",
      "- Precision: 0.8747\n",
      "- Recall: 0.8642\n",
      "- F1-score: 0.8625\n",
      "\n",
      "Weighted-averages:\n",
      "- Precision: 0.9581\n",
      "- Recall: 0.9580\n",
      "- F1-score: 0.9578\n",
      "\n"
     ]
    }
   ],
   "source": [
    "print(output1)"
   ]
  }
 ],
 "metadata": {
  "kernelspec": {
   "display_name": "reaction-workbench-env [Python]",
   "language": "python",
   "name": "conda-env-reaction-workbench-env-py"
  },
  "language_info": {
   "codemirror_mode": {
    "name": "ipython",
    "version": 3
   },
   "file_extension": ".py",
   "mimetype": "text/x-python",
   "name": "python",
   "nbconvert_exporter": "python",
   "pygments_lexer": "ipython3",
   "version": "3.8.8"
  }
 },
 "nbformat": 4,
 "nbformat_minor": 5
}
